{
  "cells": [
    {
      "cell_type": "code",
      "execution_count": null,
      "metadata": {
        "colab": {
          "base_uri": "https://localhost:8080/",
          "height": 1000
        },
        "id": "XwuFeYhBj7et",
        "outputId": "dd3ada0f-e9df-41bc-b1f4-3178223efca9"
      },
      "outputs": [
        {
          "output_type": "stream",
          "name": "stdout",
          "text": [
            "Requirement already satisfied: pandas in /usr/local/lib/python3.11/dist-packages (2.2.2)\n",
            "Requirement already satisfied: scikit-learn in /usr/local/lib/python3.11/dist-packages (1.6.1)\n",
            "Requirement already satisfied: xgboost in /usr/local/lib/python3.11/dist-packages (2.1.4)\n",
            "Requirement already satisfied: matplotlib in /usr/local/lib/python3.11/dist-packages (3.10.0)\n",
            "Requirement already satisfied: seaborn in /usr/local/lib/python3.11/dist-packages (0.13.2)\n",
            "Requirement already satisfied: nltk in /usr/local/lib/python3.11/dist-packages (3.9.1)\n",
            "Requirement already satisfied: numpy>=1.23.2 in /usr/local/lib/python3.11/dist-packages (from pandas) (2.0.2)\n",
            "Requirement already satisfied: python-dateutil>=2.8.2 in /usr/local/lib/python3.11/dist-packages (from pandas) (2.9.0.post0)\n",
            "Requirement already satisfied: pytz>=2020.1 in /usr/local/lib/python3.11/dist-packages (from pandas) (2025.2)\n",
            "Requirement already satisfied: tzdata>=2022.7 in /usr/local/lib/python3.11/dist-packages (from pandas) (2025.2)\n",
            "Requirement already satisfied: scipy>=1.6.0 in /usr/local/lib/python3.11/dist-packages (from scikit-learn) (1.15.3)\n",
            "Requirement already satisfied: joblib>=1.2.0 in /usr/local/lib/python3.11/dist-packages (from scikit-learn) (1.5.1)\n",
            "Requirement already satisfied: threadpoolctl>=3.1.0 in /usr/local/lib/python3.11/dist-packages (from scikit-learn) (3.6.0)\n",
            "Requirement already satisfied: nvidia-nccl-cu12 in /usr/local/lib/python3.11/dist-packages (from xgboost) (2.21.5)\n",
            "Requirement already satisfied: contourpy>=1.0.1 in /usr/local/lib/python3.11/dist-packages (from matplotlib) (1.3.2)\n",
            "Requirement already satisfied: cycler>=0.10 in /usr/local/lib/python3.11/dist-packages (from matplotlib) (0.12.1)\n",
            "Requirement already satisfied: fonttools>=4.22.0 in /usr/local/lib/python3.11/dist-packages (from matplotlib) (4.58.4)\n",
            "Requirement already satisfied: kiwisolver>=1.3.1 in /usr/local/lib/python3.11/dist-packages (from matplotlib) (1.4.8)\n",
            "Requirement already satisfied: packaging>=20.0 in /usr/local/lib/python3.11/dist-packages (from matplotlib) (24.2)\n",
            "Requirement already satisfied: pillow>=8 in /usr/local/lib/python3.11/dist-packages (from matplotlib) (11.2.1)\n",
            "Requirement already satisfied: pyparsing>=2.3.1 in /usr/local/lib/python3.11/dist-packages (from matplotlib) (3.2.3)\n",
            "Requirement already satisfied: click in /usr/local/lib/python3.11/dist-packages (from nltk) (8.2.1)\n",
            "Requirement already satisfied: regex>=2021.8.3 in /usr/local/lib/python3.11/dist-packages (from nltk) (2024.11.6)\n",
            "Requirement already satisfied: tqdm in /usr/local/lib/python3.11/dist-packages (from nltk) (4.67.1)\n",
            "Requirement already satisfied: six>=1.5 in /usr/local/lib/python3.11/dist-packages (from python-dateutil>=2.8.2->pandas) (1.17.0)\n",
            "Collecting swifter\n",
            "  Downloading swifter-1.4.0.tar.gz (1.2 MB)\n",
            "\u001b[2K     \u001b[90m━━━━━━━━━━━━━━━━━━━━━━━━━━━━━━━━━━━━━━━━\u001b[0m \u001b[32m1.2/1.2 MB\u001b[0m \u001b[31m12.7 MB/s\u001b[0m eta \u001b[36m0:00:00\u001b[0m\n",
            "\u001b[?25h  Preparing metadata (setup.py) ... \u001b[?25l\u001b[?25hdone\n",
            "Requirement already satisfied: pandas>=1.0.0 in /usr/local/lib/python3.11/dist-packages (from swifter) (2.2.2)\n",
            "Requirement already satisfied: psutil>=5.6.6 in /usr/local/lib/python3.11/dist-packages (from swifter) (5.9.5)\n",
            "Requirement already satisfied: dask>=2.10.0 in /usr/local/lib/python3.11/dist-packages (from dask[dataframe]>=2.10.0->swifter) (2024.12.1)\n",
            "Requirement already satisfied: tqdm>=4.33.0 in /usr/local/lib/python3.11/dist-packages (from swifter) (4.67.1)\n",
            "Requirement already satisfied: click>=8.1 in /usr/local/lib/python3.11/dist-packages (from dask>=2.10.0->dask[dataframe]>=2.10.0->swifter) (8.2.1)\n",
            "Requirement already satisfied: cloudpickle>=3.0.0 in /usr/local/lib/python3.11/dist-packages (from dask>=2.10.0->dask[dataframe]>=2.10.0->swifter) (3.1.1)\n",
            "Requirement already satisfied: fsspec>=2021.09.0 in /usr/local/lib/python3.11/dist-packages (from dask>=2.10.0->dask[dataframe]>=2.10.0->swifter) (2025.3.2)\n",
            "Requirement already satisfied: packaging>=20.0 in /usr/local/lib/python3.11/dist-packages (from dask>=2.10.0->dask[dataframe]>=2.10.0->swifter) (24.2)\n",
            "Requirement already satisfied: partd>=1.4.0 in /usr/local/lib/python3.11/dist-packages (from dask>=2.10.0->dask[dataframe]>=2.10.0->swifter) (1.4.2)\n",
            "Requirement already satisfied: pyyaml>=5.3.1 in /usr/local/lib/python3.11/dist-packages (from dask>=2.10.0->dask[dataframe]>=2.10.0->swifter) (6.0.2)\n",
            "Requirement already satisfied: toolz>=0.10.0 in /usr/local/lib/python3.11/dist-packages (from dask>=2.10.0->dask[dataframe]>=2.10.0->swifter) (0.12.1)\n",
            "Requirement already satisfied: importlib_metadata>=4.13.0 in /usr/local/lib/python3.11/dist-packages (from dask>=2.10.0->dask[dataframe]>=2.10.0->swifter) (8.7.0)\n",
            "Requirement already satisfied: dask-expr<1.2,>=1.1 in /usr/local/lib/python3.11/dist-packages (from dask[dataframe]>=2.10.0->swifter) (1.1.21)\n",
            "Requirement already satisfied: numpy>=1.23.2 in /usr/local/lib/python3.11/dist-packages (from pandas>=1.0.0->swifter) (2.0.2)\n",
            "Requirement already satisfied: python-dateutil>=2.8.2 in /usr/local/lib/python3.11/dist-packages (from pandas>=1.0.0->swifter) (2.9.0.post0)\n",
            "Requirement already satisfied: pytz>=2020.1 in /usr/local/lib/python3.11/dist-packages (from pandas>=1.0.0->swifter) (2025.2)\n",
            "Requirement already satisfied: tzdata>=2022.7 in /usr/local/lib/python3.11/dist-packages (from pandas>=1.0.0->swifter) (2025.2)\n",
            "Requirement already satisfied: pyarrow>=14.0.1 in /usr/local/lib/python3.11/dist-packages (from dask-expr<1.2,>=1.1->dask[dataframe]>=2.10.0->swifter) (18.1.0)\n",
            "Requirement already satisfied: zipp>=3.20 in /usr/local/lib/python3.11/dist-packages (from importlib_metadata>=4.13.0->dask>=2.10.0->dask[dataframe]>=2.10.0->swifter) (3.23.0)\n",
            "Requirement already satisfied: locket in /usr/local/lib/python3.11/dist-packages (from partd>=1.4.0->dask>=2.10.0->dask[dataframe]>=2.10.0->swifter) (1.0.0)\n",
            "Requirement already satisfied: six>=1.5 in /usr/local/lib/python3.11/dist-packages (from python-dateutil>=2.8.2->pandas>=1.0.0->swifter) (1.17.0)\n",
            "Building wheels for collected packages: swifter\n",
            "  Building wheel for swifter (setup.py) ... \u001b[?25l\u001b[?25hdone\n",
            "  Created wheel for swifter: filename=swifter-1.4.0-py3-none-any.whl size=16505 sha256=5ceb71d1907b6f532e23d7100c225187df74df00448f816e7bef1e1eae8f31bd\n",
            "  Stored in directory: /root/.cache/pip/wheels/ef/7f/bd/9bed48f078f3ee1fa75e0b29b6e0335ce1cb03a38d3443b3a3\n",
            "Successfully built swifter\n",
            "Installing collected packages: swifter\n",
            "Successfully installed swifter-1.4.0\n",
            "Collecting Sastrawi\n",
            "  Downloading Sastrawi-1.0.1-py2.py3-none-any.whl.metadata (909 bytes)\n",
            "Downloading Sastrawi-1.0.1-py2.py3-none-any.whl (209 kB)\n",
            "\u001b[2K   \u001b[90m━━━━━━━━━━━━━━━━━━━━━━━━━━━━━━━━━━━━━━━━\u001b[0m \u001b[32m209.7/209.7 kB\u001b[0m \u001b[31m4.2 MB/s\u001b[0m eta \u001b[36m0:00:00\u001b[0m\n",
            "\u001b[?25hInstalling collected packages: Sastrawi\n",
            "Successfully installed Sastrawi-1.0.1\n",
            "Collecting numpy==1.23.5\n",
            "  Downloading numpy-1.23.5-cp311-cp311-manylinux_2_17_x86_64.manylinux2014_x86_64.whl.metadata (2.3 kB)\n",
            "Downloading numpy-1.23.5-cp311-cp311-manylinux_2_17_x86_64.manylinux2014_x86_64.whl (17.1 MB)\n",
            "\u001b[2K   \u001b[90m━━━━━━━━━━━━━━━━━━━━━━━━━━━━━━━━━━━━━━━━\u001b[0m \u001b[32m17.1/17.1 MB\u001b[0m \u001b[31m88.7 MB/s\u001b[0m eta \u001b[36m0:00:00\u001b[0m\n",
            "\u001b[?25hInstalling collected packages: numpy\n",
            "  Attempting uninstall: numpy\n",
            "    Found existing installation: numpy 2.0.2\n",
            "    Uninstalling numpy-2.0.2:\n",
            "      Successfully uninstalled numpy-2.0.2\n",
            "\u001b[31mERROR: pip's dependency resolver does not currently take into account all the packages that are installed. This behaviour is the source of the following dependency conflicts.\n",
            "scikit-image 0.25.2 requires numpy>=1.24, but you have numpy 1.23.5 which is incompatible.\n",
            "jaxlib 0.5.1 requires numpy>=1.25, but you have numpy 1.23.5 which is incompatible.\n",
            "bigframes 2.8.0 requires numpy>=1.24.0, but you have numpy 1.23.5 which is incompatible.\n",
            "treescope 0.1.9 requires numpy>=1.25.2, but you have numpy 1.23.5 which is incompatible.\n",
            "pymc 5.23.0 requires numpy>=1.25.0, but you have numpy 1.23.5 which is incompatible.\n",
            "xarray 2025.3.1 requires numpy>=1.24, but you have numpy 1.23.5 which is incompatible.\n",
            "thinc 8.3.6 requires numpy<3.0.0,>=2.0.0, but you have numpy 1.23.5 which is incompatible.\n",
            "albucore 0.0.24 requires numpy>=1.24.4, but you have numpy 1.23.5 which is incompatible.\n",
            "tensorflow 2.18.0 requires numpy<2.1.0,>=1.26.0, but you have numpy 1.23.5 which is incompatible.\n",
            "jax 0.5.2 requires numpy>=1.25, but you have numpy 1.23.5 which is incompatible.\n",
            "albumentations 2.0.8 requires numpy>=1.24.4, but you have numpy 1.23.5 which is incompatible.\n",
            "db-dtypes 1.4.3 requires numpy>=1.24.0, but you have numpy 1.23.5 which is incompatible.\n",
            "imbalanced-learn 0.13.0 requires numpy<3,>=1.24.3, but you have numpy 1.23.5 which is incompatible.\n",
            "xarray-einstats 0.9.1 requires numpy>=1.25, but you have numpy 1.23.5 which is incompatible.\n",
            "chex 0.1.89 requires numpy>=1.24.1, but you have numpy 1.23.5 which is incompatible.\n",
            "blosc2 3.5.0 requires numpy>=1.26, but you have numpy 1.23.5 which is incompatible.\u001b[0m\u001b[31m\n",
            "\u001b[0mSuccessfully installed numpy-1.23.5\n"
          ]
        },
        {
          "output_type": "display_data",
          "data": {
            "application/vnd.colab-display-data+json": {
              "pip_warning": {
                "packages": [
                  "numpy"
                ]
              },
              "id": "1e2d8e0441de466b8ce81ea5fa522511"
            }
          },
          "metadata": {}
        },
        {
          "output_type": "stream",
          "name": "stdout",
          "text": [
            "Collecting gensim\n",
            "  Downloading gensim-4.3.3-cp311-cp311-manylinux_2_17_x86_64.manylinux2014_x86_64.whl.metadata (8.1 kB)\n",
            "Requirement already satisfied: numpy<2.0,>=1.18.5 in /usr/local/lib/python3.11/dist-packages (from gensim) (1.23.5)\n",
            "Collecting scipy<1.14.0,>=1.7.0 (from gensim)\n",
            "  Downloading scipy-1.13.1-cp311-cp311-manylinux_2_17_x86_64.manylinux2014_x86_64.whl.metadata (60 kB)\n",
            "\u001b[2K     \u001b[90m━━━━━━━━━━━━━━━━━━━━━━━━━━━━━━━━━━━━━━━━\u001b[0m \u001b[32m60.6/60.6 kB\u001b[0m \u001b[31m2.8 MB/s\u001b[0m eta \u001b[36m0:00:00\u001b[0m\n",
            "\u001b[?25h\u001b[31mERROR: Operation cancelled by user\u001b[0m\u001b[31m\n",
            "\u001b[0m^C\n"
          ]
        }
      ],
      "source": [
        "!pip install pandas scikit-learn xgboost matplotlib seaborn nltk\n",
        "!pip install swifter\n",
        "!pip install Sastrawi\n",
        "!pip install numpy==1.23.5\n",
        "!pip install gensim"
      ]
    },
    {
      "cell_type": "code",
      "execution_count": null,
      "metadata": {
        "id": "_KLChSEC-aYm"
      },
      "outputs": [],
      "source": [
        "import pandas as pd\n",
        "import numpy as np\n",
        "import nltk\n",
        "import seaborn as sns\n",
        "import matplotlib.pyplot as plt\n",
        "import re\n",
        "import swifter\n",
        "from sklearn.model_selection import train_test_split, GridSearchCV\n",
        "from sklearn.tree import DecisionTreeClassifier\n",
        "from sklearn.ensemble import RandomForestClassifier\n",
        "from xgboost import XGBClassifier\n",
        "from sklearn.metrics import accuracy_score, classification_report, precision_score, recall_score, f1_score, confusion_matrix\n",
        "from nltk.corpus import stopwords\n",
        "from nltk.tokenize import word_tokenize\n",
        "from Sastrawi.Stemmer.StemmerFactory import StemmerFactory\n",
        "from imblearn.over_sampling import SMOTE\n",
        "from IPython import get_ipython\n",
        "from IPython.display import display"
      ]
    },
    {
      "cell_type": "code",
      "execution_count": null,
      "metadata": {
        "colab": {
          "base_uri": "https://localhost:8080/"
        },
        "id": "BIbwbzce-b8U",
        "outputId": "ade7891b-440e-4632-b7c0-b760f1b432e1"
      },
      "outputs": [
        {
          "output_type": "stream",
          "name": "stderr",
          "text": [
            "[nltk_data] Downloading package punkt to /root/nltk_data...\n",
            "[nltk_data]   Unzipping tokenizers/punkt.zip.\n",
            "[nltk_data] Downloading package stopwords to /root/nltk_data...\n",
            "[nltk_data]   Unzipping corpora/stopwords.zip.\n",
            "[nltk_data] Downloading package punkt_tab to /root/nltk_data...\n",
            "[nltk_data]   Unzipping tokenizers/punkt_tab.zip.\n"
          ]
        },
        {
          "output_type": "execute_result",
          "data": {
            "text/plain": [
              "True"
            ]
          },
          "metadata": {},
          "execution_count": 2
        }
      ],
      "source": [
        "nltk.download('punkt')\n",
        "nltk.download('stopwords')\n",
        "nltk.download('punkt_tab')"
      ]
    },
    {
      "cell_type": "code",
      "execution_count": null,
      "metadata": {
        "colab": {
          "base_uri": "https://localhost:8080/"
        },
        "id": "08cD6p4o-hZf",
        "outputId": "ff2c4db9-09e3-47ed-9706-78e1baca6320"
      },
      "outputs": [
        {
          "output_type": "stream",
          "name": "stdout",
          "text": [
            "Mounted at /content/drive\n"
          ]
        }
      ],
      "source": [
        "from google.colab import drive\n",
        "drive.mount('/content/drive')"
      ]
    },
    {
      "cell_type": "code",
      "execution_count": null,
      "metadata": {
        "colab": {
          "base_uri": "https://localhost:8080/",
          "height": 411
        },
        "id": "v2uERCr5-m4Y",
        "outputId": "623e58c9-2d21-4b86-fbd3-ddf18e82d77d"
      },
      "outputs": [
        {
          "output_type": "execute_result",
          "data": {
            "text/plain": [
              "              tokoh                                              title  \\\n",
              "0    anies baswedan  Anies Bertemu Relawan Pendukungnya di Australi...   \n",
              "1    anies baswedan  PKS Bahagia Prabowo Bertemu Paloh: Bravo, Kian...   \n",
              "2    anies baswedan  Bos PPI Nilai Prabowo dan Paloh Sudah Siap Pis...   \n",
              "3    anies baswedan  Riuh IMB Era Anies Diungkit PDIP Usai Kebakara...   \n",
              "4    anies baswedan  Prabowo soal Anies: Siap Hadapi, Rakyat yang M...   \n",
              "..              ...                                                ...   \n",
              "877         prabowo  Prabowo 'Lawan' Anies Baswedan di Pilpres 2024...   \n",
              "878         prabowo  Terkini! Peta Kekuatan Prabowo dan Anies Jelan...   \n",
              "879         prabowo  NasDem Punya Tafsir Tersendiri soal Prabowo Si...   \n",
              "880         prabowo  Duet Anies-Sandi Dinilai Kecil Kemungkinan Ter...   \n",
              "881         prabowo  PKS Bahagia Prabowo Bertemu Paloh: Bravo, Kian...   \n",
              "\n",
              "                              date  \\\n",
              "0     Senin, 06 Mar 2023 10:15 WIB   \n",
              "1     Senin, 06 Mar 2023 08:57 WIB   \n",
              "2     Senin, 06 Mar 2023 09:00 WIB   \n",
              "3     Senin, 06 Mar 2023 08:00 WIB   \n",
              "4     Senin, 06 Mar 2023 08:55 WIB   \n",
              "..                             ...   \n",
              "877   Senin, 06 Mar 2023 14:13 WIB   \n",
              "878   Senin, 06 Mar 2023 13:47 WIB   \n",
              "879   Senin, 06 Mar 2023 16:18 WIB   \n",
              "880  Selasa, 07 Mar 2023 06:41 WIB   \n",
              "881   Senin, 06 Mar 2023 08:57 WIB   \n",
              "\n",
              "                                           description  Rev1_label  \n",
              "0    \\-\\n\\nMantan Gubernur DKI Jakarta Anies Baswed...           1  \n",
              "1    \\-\\n\\nKetum Gerindra Prabowo Subianto bertemu ...           1  \n",
              "2    \\-\\n\\nDalam pertemuannya di Hambalang, Bogor, ...           1  \n",
              "3    \\-\\n\\nRiuh soal izin mendirikan bangunan (IMB)...          -1  \n",
              "4    \\-\\n\\nBakal calon presiden dari Partai Gerindr...           0  \n",
              "..                                                 ...         ...  \n",
              "877  \\-\\n\\nBakal calon presiden (Capres) Partai Ger...           1  \n",
              "878  \\-\\n\\nDua bakal calon presiden Prabowo Subiant...           0  \n",
              "879  \\-\\n\\nCalon presiden Partai Gerindra Prabowo S...           0  \n",
              "880  \\-\\n\\nWacana duet Anies Baswedan dan Sandiaga ...           0  \n",
              "881  \\-\\n\\nKetum Gerindra Prabowo Subianto bertemu ...           1  \n",
              "\n",
              "[882 rows x 5 columns]"
            ],
            "text/html": [
              "\n",
              "  <div id=\"df-45e510c7-309e-493d-b4cc-b32ef1e8f071\" class=\"colab-df-container\">\n",
              "    <div>\n",
              "<style scoped>\n",
              "    .dataframe tbody tr th:only-of-type {\n",
              "        vertical-align: middle;\n",
              "    }\n",
              "\n",
              "    .dataframe tbody tr th {\n",
              "        vertical-align: top;\n",
              "    }\n",
              "\n",
              "    .dataframe thead th {\n",
              "        text-align: right;\n",
              "    }\n",
              "</style>\n",
              "<table border=\"1\" class=\"dataframe\">\n",
              "  <thead>\n",
              "    <tr style=\"text-align: right;\">\n",
              "      <th></th>\n",
              "      <th>tokoh</th>\n",
              "      <th>title</th>\n",
              "      <th>date</th>\n",
              "      <th>description</th>\n",
              "      <th>Rev1_label</th>\n",
              "    </tr>\n",
              "  </thead>\n",
              "  <tbody>\n",
              "    <tr>\n",
              "      <th>0</th>\n",
              "      <td>anies baswedan</td>\n",
              "      <td>Anies Bertemu Relawan Pendukungnya di Australi...</td>\n",
              "      <td>Senin, 06 Mar 2023 10:15 WIB</td>\n",
              "      <td>\\-\\n\\nMantan Gubernur DKI Jakarta Anies Baswed...</td>\n",
              "      <td>1</td>\n",
              "    </tr>\n",
              "    <tr>\n",
              "      <th>1</th>\n",
              "      <td>anies baswedan</td>\n",
              "      <td>PKS Bahagia Prabowo Bertemu Paloh: Bravo, Kian...</td>\n",
              "      <td>Senin, 06 Mar 2023 08:57 WIB</td>\n",
              "      <td>\\-\\n\\nKetum Gerindra Prabowo Subianto bertemu ...</td>\n",
              "      <td>1</td>\n",
              "    </tr>\n",
              "    <tr>\n",
              "      <th>2</th>\n",
              "      <td>anies baswedan</td>\n",
              "      <td>Bos PPI Nilai Prabowo dan Paloh Sudah Siap Pis...</td>\n",
              "      <td>Senin, 06 Mar 2023 09:00 WIB</td>\n",
              "      <td>\\-\\n\\nDalam pertemuannya di Hambalang, Bogor, ...</td>\n",
              "      <td>1</td>\n",
              "    </tr>\n",
              "    <tr>\n",
              "      <th>3</th>\n",
              "      <td>anies baswedan</td>\n",
              "      <td>Riuh IMB Era Anies Diungkit PDIP Usai Kebakara...</td>\n",
              "      <td>Senin, 06 Mar 2023 08:00 WIB</td>\n",
              "      <td>\\-\\n\\nRiuh soal izin mendirikan bangunan (IMB)...</td>\n",
              "      <td>-1</td>\n",
              "    </tr>\n",
              "    <tr>\n",
              "      <th>4</th>\n",
              "      <td>anies baswedan</td>\n",
              "      <td>Prabowo soal Anies: Siap Hadapi, Rakyat yang M...</td>\n",
              "      <td>Senin, 06 Mar 2023 08:55 WIB</td>\n",
              "      <td>\\-\\n\\nBakal calon presiden dari Partai Gerindr...</td>\n",
              "      <td>0</td>\n",
              "    </tr>\n",
              "    <tr>\n",
              "      <th>...</th>\n",
              "      <td>...</td>\n",
              "      <td>...</td>\n",
              "      <td>...</td>\n",
              "      <td>...</td>\n",
              "      <td>...</td>\n",
              "    </tr>\n",
              "    <tr>\n",
              "      <th>877</th>\n",
              "      <td>prabowo</td>\n",
              "      <td>Prabowo 'Lawan' Anies Baswedan di Pilpres 2024...</td>\n",
              "      <td>Senin, 06 Mar 2023 14:13 WIB</td>\n",
              "      <td>\\-\\n\\nBakal calon presiden (Capres) Partai Ger...</td>\n",
              "      <td>1</td>\n",
              "    </tr>\n",
              "    <tr>\n",
              "      <th>878</th>\n",
              "      <td>prabowo</td>\n",
              "      <td>Terkini! Peta Kekuatan Prabowo dan Anies Jelan...</td>\n",
              "      <td>Senin, 06 Mar 2023 13:47 WIB</td>\n",
              "      <td>\\-\\n\\nDua bakal calon presiden Prabowo Subiant...</td>\n",
              "      <td>0</td>\n",
              "    </tr>\n",
              "    <tr>\n",
              "      <th>879</th>\n",
              "      <td>prabowo</td>\n",
              "      <td>NasDem Punya Tafsir Tersendiri soal Prabowo Si...</td>\n",
              "      <td>Senin, 06 Mar 2023 16:18 WIB</td>\n",
              "      <td>\\-\\n\\nCalon presiden Partai Gerindra Prabowo S...</td>\n",
              "      <td>0</td>\n",
              "    </tr>\n",
              "    <tr>\n",
              "      <th>880</th>\n",
              "      <td>prabowo</td>\n",
              "      <td>Duet Anies-Sandi Dinilai Kecil Kemungkinan Ter...</td>\n",
              "      <td>Selasa, 07 Mar 2023 06:41 WIB</td>\n",
              "      <td>\\-\\n\\nWacana duet Anies Baswedan dan Sandiaga ...</td>\n",
              "      <td>0</td>\n",
              "    </tr>\n",
              "    <tr>\n",
              "      <th>881</th>\n",
              "      <td>prabowo</td>\n",
              "      <td>PKS Bahagia Prabowo Bertemu Paloh: Bravo, Kian...</td>\n",
              "      <td>Senin, 06 Mar 2023 08:57 WIB</td>\n",
              "      <td>\\-\\n\\nKetum Gerindra Prabowo Subianto bertemu ...</td>\n",
              "      <td>1</td>\n",
              "    </tr>\n",
              "  </tbody>\n",
              "</table>\n",
              "<p>882 rows × 5 columns</p>\n",
              "</div>\n",
              "    <div class=\"colab-df-buttons\">\n",
              "\n",
              "  <div class=\"colab-df-container\">\n",
              "    <button class=\"colab-df-convert\" onclick=\"convertToInteractive('df-45e510c7-309e-493d-b4cc-b32ef1e8f071')\"\n",
              "            title=\"Convert this dataframe to an interactive table.\"\n",
              "            style=\"display:none;\">\n",
              "\n",
              "  <svg xmlns=\"http://www.w3.org/2000/svg\" height=\"24px\" viewBox=\"0 -960 960 960\">\n",
              "    <path d=\"M120-120v-720h720v720H120Zm60-500h600v-160H180v160Zm220 220h160v-160H400v160Zm0 220h160v-160H400v160ZM180-400h160v-160H180v160Zm440 0h160v-160H620v160ZM180-180h160v-160H180v160Zm440 0h160v-160H620v160Z\"/>\n",
              "  </svg>\n",
              "    </button>\n",
              "\n",
              "  <style>\n",
              "    .colab-df-container {\n",
              "      display:flex;\n",
              "      gap: 12px;\n",
              "    }\n",
              "\n",
              "    .colab-df-convert {\n",
              "      background-color: #E8F0FE;\n",
              "      border: none;\n",
              "      border-radius: 50%;\n",
              "      cursor: pointer;\n",
              "      display: none;\n",
              "      fill: #1967D2;\n",
              "      height: 32px;\n",
              "      padding: 0 0 0 0;\n",
              "      width: 32px;\n",
              "    }\n",
              "\n",
              "    .colab-df-convert:hover {\n",
              "      background-color: #E2EBFA;\n",
              "      box-shadow: 0px 1px 2px rgba(60, 64, 67, 0.3), 0px 1px 3px 1px rgba(60, 64, 67, 0.15);\n",
              "      fill: #174EA6;\n",
              "    }\n",
              "\n",
              "    .colab-df-buttons div {\n",
              "      margin-bottom: 4px;\n",
              "    }\n",
              "\n",
              "    [theme=dark] .colab-df-convert {\n",
              "      background-color: #3B4455;\n",
              "      fill: #D2E3FC;\n",
              "    }\n",
              "\n",
              "    [theme=dark] .colab-df-convert:hover {\n",
              "      background-color: #434B5C;\n",
              "      box-shadow: 0px 1px 3px 1px rgba(0, 0, 0, 0.15);\n",
              "      filter: drop-shadow(0px 1px 2px rgba(0, 0, 0, 0.3));\n",
              "      fill: #FFFFFF;\n",
              "    }\n",
              "  </style>\n",
              "\n",
              "    <script>\n",
              "      const buttonEl =\n",
              "        document.querySelector('#df-45e510c7-309e-493d-b4cc-b32ef1e8f071 button.colab-df-convert');\n",
              "      buttonEl.style.display =\n",
              "        google.colab.kernel.accessAllowed ? 'block' : 'none';\n",
              "\n",
              "      async function convertToInteractive(key) {\n",
              "        const element = document.querySelector('#df-45e510c7-309e-493d-b4cc-b32ef1e8f071');\n",
              "        const dataTable =\n",
              "          await google.colab.kernel.invokeFunction('convertToInteractive',\n",
              "                                                    [key], {});\n",
              "        if (!dataTable) return;\n",
              "\n",
              "        const docLinkHtml = 'Like what you see? Visit the ' +\n",
              "          '<a target=\"_blank\" href=https://colab.research.google.com/notebooks/data_table.ipynb>data table notebook</a>'\n",
              "          + ' to learn more about interactive tables.';\n",
              "        element.innerHTML = '';\n",
              "        dataTable['output_type'] = 'display_data';\n",
              "        await google.colab.output.renderOutput(dataTable, element);\n",
              "        const docLink = document.createElement('div');\n",
              "        docLink.innerHTML = docLinkHtml;\n",
              "        element.appendChild(docLink);\n",
              "      }\n",
              "    </script>\n",
              "  </div>\n",
              "\n",
              "\n",
              "    <div id=\"df-a9a4140a-d785-4034-bd94-cc9a16185396\">\n",
              "      <button class=\"colab-df-quickchart\" onclick=\"quickchart('df-a9a4140a-d785-4034-bd94-cc9a16185396')\"\n",
              "                title=\"Suggest charts\"\n",
              "                style=\"display:none;\">\n",
              "\n",
              "<svg xmlns=\"http://www.w3.org/2000/svg\" height=\"24px\"viewBox=\"0 0 24 24\"\n",
              "     width=\"24px\">\n",
              "    <g>\n",
              "        <path d=\"M19 3H5c-1.1 0-2 .9-2 2v14c0 1.1.9 2 2 2h14c1.1 0 2-.9 2-2V5c0-1.1-.9-2-2-2zM9 17H7v-7h2v7zm4 0h-2V7h2v10zm4 0h-2v-4h2v4z\"/>\n",
              "    </g>\n",
              "</svg>\n",
              "      </button>\n",
              "\n",
              "<style>\n",
              "  .colab-df-quickchart {\n",
              "      --bg-color: #E8F0FE;\n",
              "      --fill-color: #1967D2;\n",
              "      --hover-bg-color: #E2EBFA;\n",
              "      --hover-fill-color: #174EA6;\n",
              "      --disabled-fill-color: #AAA;\n",
              "      --disabled-bg-color: #DDD;\n",
              "  }\n",
              "\n",
              "  [theme=dark] .colab-df-quickchart {\n",
              "      --bg-color: #3B4455;\n",
              "      --fill-color: #D2E3FC;\n",
              "      --hover-bg-color: #434B5C;\n",
              "      --hover-fill-color: #FFFFFF;\n",
              "      --disabled-bg-color: #3B4455;\n",
              "      --disabled-fill-color: #666;\n",
              "  }\n",
              "\n",
              "  .colab-df-quickchart {\n",
              "    background-color: var(--bg-color);\n",
              "    border: none;\n",
              "    border-radius: 50%;\n",
              "    cursor: pointer;\n",
              "    display: none;\n",
              "    fill: var(--fill-color);\n",
              "    height: 32px;\n",
              "    padding: 0;\n",
              "    width: 32px;\n",
              "  }\n",
              "\n",
              "  .colab-df-quickchart:hover {\n",
              "    background-color: var(--hover-bg-color);\n",
              "    box-shadow: 0 1px 2px rgba(60, 64, 67, 0.3), 0 1px 3px 1px rgba(60, 64, 67, 0.15);\n",
              "    fill: var(--button-hover-fill-color);\n",
              "  }\n",
              "\n",
              "  .colab-df-quickchart-complete:disabled,\n",
              "  .colab-df-quickchart-complete:disabled:hover {\n",
              "    background-color: var(--disabled-bg-color);\n",
              "    fill: var(--disabled-fill-color);\n",
              "    box-shadow: none;\n",
              "  }\n",
              "\n",
              "  .colab-df-spinner {\n",
              "    border: 2px solid var(--fill-color);\n",
              "    border-color: transparent;\n",
              "    border-bottom-color: var(--fill-color);\n",
              "    animation:\n",
              "      spin 1s steps(1) infinite;\n",
              "  }\n",
              "\n",
              "  @keyframes spin {\n",
              "    0% {\n",
              "      border-color: transparent;\n",
              "      border-bottom-color: var(--fill-color);\n",
              "      border-left-color: var(--fill-color);\n",
              "    }\n",
              "    20% {\n",
              "      border-color: transparent;\n",
              "      border-left-color: var(--fill-color);\n",
              "      border-top-color: var(--fill-color);\n",
              "    }\n",
              "    30% {\n",
              "      border-color: transparent;\n",
              "      border-left-color: var(--fill-color);\n",
              "      border-top-color: var(--fill-color);\n",
              "      border-right-color: var(--fill-color);\n",
              "    }\n",
              "    40% {\n",
              "      border-color: transparent;\n",
              "      border-right-color: var(--fill-color);\n",
              "      border-top-color: var(--fill-color);\n",
              "    }\n",
              "    60% {\n",
              "      border-color: transparent;\n",
              "      border-right-color: var(--fill-color);\n",
              "    }\n",
              "    80% {\n",
              "      border-color: transparent;\n",
              "      border-right-color: var(--fill-color);\n",
              "      border-bottom-color: var(--fill-color);\n",
              "    }\n",
              "    90% {\n",
              "      border-color: transparent;\n",
              "      border-bottom-color: var(--fill-color);\n",
              "    }\n",
              "  }\n",
              "</style>\n",
              "\n",
              "      <script>\n",
              "        async function quickchart(key) {\n",
              "          const quickchartButtonEl =\n",
              "            document.querySelector('#' + key + ' button');\n",
              "          quickchartButtonEl.disabled = true;  // To prevent multiple clicks.\n",
              "          quickchartButtonEl.classList.add('colab-df-spinner');\n",
              "          try {\n",
              "            const charts = await google.colab.kernel.invokeFunction(\n",
              "                'suggestCharts', [key], {});\n",
              "          } catch (error) {\n",
              "            console.error('Error during call to suggestCharts:', error);\n",
              "          }\n",
              "          quickchartButtonEl.classList.remove('colab-df-spinner');\n",
              "          quickchartButtonEl.classList.add('colab-df-quickchart-complete');\n",
              "        }\n",
              "        (() => {\n",
              "          let quickchartButtonEl =\n",
              "            document.querySelector('#df-a9a4140a-d785-4034-bd94-cc9a16185396 button');\n",
              "          quickchartButtonEl.style.display =\n",
              "            google.colab.kernel.accessAllowed ? 'block' : 'none';\n",
              "        })();\n",
              "      </script>\n",
              "    </div>\n",
              "\n",
              "  <div id=\"id_398babe5-7b99-4ad3-b0e4-65c72f89cd3f\">\n",
              "    <style>\n",
              "      .colab-df-generate {\n",
              "        background-color: #E8F0FE;\n",
              "        border: none;\n",
              "        border-radius: 50%;\n",
              "        cursor: pointer;\n",
              "        display: none;\n",
              "        fill: #1967D2;\n",
              "        height: 32px;\n",
              "        padding: 0 0 0 0;\n",
              "        width: 32px;\n",
              "      }\n",
              "\n",
              "      .colab-df-generate:hover {\n",
              "        background-color: #E2EBFA;\n",
              "        box-shadow: 0px 1px 2px rgba(60, 64, 67, 0.3), 0px 1px 3px 1px rgba(60, 64, 67, 0.15);\n",
              "        fill: #174EA6;\n",
              "      }\n",
              "\n",
              "      [theme=dark] .colab-df-generate {\n",
              "        background-color: #3B4455;\n",
              "        fill: #D2E3FC;\n",
              "      }\n",
              "\n",
              "      [theme=dark] .colab-df-generate:hover {\n",
              "        background-color: #434B5C;\n",
              "        box-shadow: 0px 1px 3px 1px rgba(0, 0, 0, 0.15);\n",
              "        filter: drop-shadow(0px 1px 2px rgba(0, 0, 0, 0.3));\n",
              "        fill: #FFFFFF;\n",
              "      }\n",
              "    </style>\n",
              "    <button class=\"colab-df-generate\" onclick=\"generateWithVariable('news')\"\n",
              "            title=\"Generate code using this dataframe.\"\n",
              "            style=\"display:none;\">\n",
              "\n",
              "  <svg xmlns=\"http://www.w3.org/2000/svg\" height=\"24px\"viewBox=\"0 0 24 24\"\n",
              "       width=\"24px\">\n",
              "    <path d=\"M7,19H8.4L18.45,9,17,7.55,7,17.6ZM5,21V16.75L18.45,3.32a2,2,0,0,1,2.83,0l1.4,1.43a1.91,1.91,0,0,1,.58,1.4,1.91,1.91,0,0,1-.58,1.4L9.25,21ZM18.45,9,17,7.55Zm-12,3A5.31,5.31,0,0,0,4.9,8.1,5.31,5.31,0,0,0,1,6.5,5.31,5.31,0,0,0,4.9,4.9,5.31,5.31,0,0,0,6.5,1,5.31,5.31,0,0,0,8.1,4.9,5.31,5.31,0,0,0,12,6.5,5.46,5.46,0,0,0,6.5,12Z\"/>\n",
              "  </svg>\n",
              "    </button>\n",
              "    <script>\n",
              "      (() => {\n",
              "      const buttonEl =\n",
              "        document.querySelector('#id_398babe5-7b99-4ad3-b0e4-65c72f89cd3f button.colab-df-generate');\n",
              "      buttonEl.style.display =\n",
              "        google.colab.kernel.accessAllowed ? 'block' : 'none';\n",
              "\n",
              "      buttonEl.onclick = () => {\n",
              "        google.colab.notebook.generateWithVariable('news');\n",
              "      }\n",
              "      })();\n",
              "    </script>\n",
              "  </div>\n",
              "\n",
              "    </div>\n",
              "  </div>\n"
            ],
            "application/vnd.google.colaboratory.intrinsic+json": {
              "type": "dataframe",
              "variable_name": "news",
              "summary": "{\n  \"name\": \"news\",\n  \"rows\": 882,\n  \"fields\": [\n    {\n      \"column\": \"tokoh\",\n      \"properties\": {\n        \"dtype\": \"category\",\n        \"num_unique_values\": 8,\n        \"samples\": [\n          \"jokowi dodo\",\n          \"maudy ayunda\",\n          \"anies baswedan\"\n        ],\n        \"semantic_type\": \"\",\n        \"description\": \"\"\n      }\n    },\n    {\n      \"column\": \"title\",\n      \"properties\": {\n        \"dtype\": \"string\",\n        \"num_unique_values\": 836,\n        \"samples\": [\n          \"Mudahnya Menghakimi Maudy Ayunda\",\n          \"PN Jakpus Putuskan Tunda Pemilu, Gerindra Jatim: Jauh Dekat Kami Siap\",\n          \"Syahrini Ingatkan Hati-hati Bermedia Sosial\"\n        ],\n        \"semantic_type\": \"\",\n        \"description\": \"\"\n      }\n    },\n    {\n      \"column\": \"date\",\n      \"properties\": {\n        \"dtype\": \"string\",\n        \"num_unique_values\": 830,\n        \"samples\": [\n          \"Senin, 18 Apr 2022 15:57 WIB\",\n          \"Kamis, 29 Sep 2022 17:03 WIB\",\n          \"Kamis, 24 Sep 2020 15:50 WIB\"\n        ],\n        \"semantic_type\": \"\",\n        \"description\": \"\"\n      }\n    },\n    {\n      \"column\": \"description\",\n      \"properties\": {\n        \"dtype\": \"string\",\n        \"num_unique_values\": 836,\n        \"samples\": [\n          \"\\\\-\\n\\nApakah juru bicara boleh salah? Pertanyaan ini mungkin bisa kita jawab dengan\\nberbagai versi. Namun dari pengalaman saya yang juga sangat terbatas, paling\\ntidak juru bicara memang tidak harus selalu benar.\\n\\nMungkin ada yang berpikir itu aneh, tetapi memang begitu kenyataannya. Jika\\njuru bicara salah, maka otoritas yang lebih tinggi dapat mengklarifikasinya.\\nOtoritas lebih tinggi salah bisa diklarifikasi yang berada di atasnya lagi.\\nNamun bila otoritas tertinggi yang salah, siapa yang akan mengklarifikasi?\\nMaka dari itu, juru bicara memiliki fungsi penting sebagai bamper depan.\\n\\nJuru bicara hanya menyampaikan informasi apa yang sudah diberikan. Lewat\\npersona dan skill retorika, tugas utamanya adalah melakukan persuasi kepada\\npublik dengan berbagai pesan kunci. Yang terpenting diingat, keputusan dan\\nkebijakan apapun tidak berada di tangan Juru Bicara.\\n\\nTerkadang, jubir harus berhadapan dengan situasi yang tidak selalu ideal.\\nTidak selalu informasi tersedia. Bahkan, beberapa pertanyaan sensitif memang\\ndiskenariokan untuk dijawab langsung oleh otoritas yang lebih tinggi. Selalu\\nada playbook memandu permainan.\\n\\nPemahaman mengenai isu politik terkini tentunya sangat penting, namun namanya\\nanalisis tidak akan selalu sesuai dengan kenyataan. Apalagi, kita sering\\nberhadapan dengan situasi yang begitu mudah berubah. Maka, ruang bagi juru\\nbicara untuk melakukan kesalahan sangat terbuka.\\n\\nEks Juru Bicara Presiden Presiden Abdurahman Wahid, (alm.) Wimar Witoelar,\\npernah berkata modal utama bagi seorang Juru Bicara adalah memahami cara\\npandang dari orang yang dijubirinya. Wimar bukan hanya paham cara berpikir Gus\\nDur, namun juga menggunakan sepatu yang sama dalam spektrum ideologis,\\nterutama dalam hal toleransi, kebebasan berpendapat, dan demokrasi.\\n\\nBerbagai pertanyaan media pun ketika itu dibabat habis, bahkan tanpa harus\\nmenunggu informasi utuh dari Presiden, yang pasti memiliki keterbatasan waktu\\nuntuk mengikuti setiap detail permasalahan. Untuk sampai ke level Wimar,\\npengalaman memang dibutuhkan. Namun, apa itu pengalaman? Melakukan satu\\nkesalahan, kemudian memperbaikinya, lalu menjadi lebih baik, dan semakin baik.\\n\\nWaktu menjadi Ketua PPI Britania Raya dan mahasiswa di Imperial College\\nLondon, saya pernah bertemu dengan Maudy Ayunda. Reputasinya sangat kuat\\nsebagai wajah anak muda ideal Indonesia, bahkan dia pernah mendampingi PM UK\\nDavid Cameroon ketika blusukan makan di kaki lima Jakarta. Tantangan sebagai\\nJuru Bicara G-20 seharusnya bukan sesuatu yang terlalu jauh dari perjalanan\\nyang sudah dilalui Maudy.\\n\\nSebagaimana yang sempat saya utarakan di awal, memang Jubir boleh melakukan\\nkesalahan, yang tidak boleh dilakukan oleh juru bicara adalah berbohong. Maudy\\nmemang belum terlalu kenal dengan ekosistem media yang dihadapinya, yang mana\\nitu sangat wajar. Jurnalis hiburan yang biasa dihadapi Maudy sangat berbeda\\nkulturnya dengan jurnalis politik, apalagi jurnalis yang berfokus pada global\\npolitics. Maudy tentu butuh waktu beradaptasi.\\n\\nPertanyaan yang diajukan pada Maudy merupakan isu yang sangat sensitif, yakni\\nmengenai perang Rusia-Ukraina dan kedatangan Presiden Putin ke Bali. Dunia\\nsedang terbelah dalam isu ini. Presiden Jokowi pun menghimbau jajarannya untuk\\nbenar-benar berhitung dampak dari ketegangan ini.\\n\\nBisa jadi, memang belum ada keputusan apa-apa mengenai isu yang ditanyakan.\\nTugas jubir bukan untuk menyampaikan pikirannya, namun hanya sebatas bicara\\ninformasi yang dapat dipublikasi dari sebuah lembaga.\\n\\nSaya yakin momentum ini akan menjadi titik balik bagi Maudy menunjukkan\\nkapasitasnya dalam ajang Presidensi G-20. Menurut saya, ini bukan hanya\\nkesempatan bagi Maudy, namun juga kesempatan bagi anak muda Indonesia.\\n\\nSiapapun bisa terpeleset, namun bukan berarti harus dihakimi sebagai \\\"gimmick\\\"\\natau pengalihan isu. Tuduhan semacam ini sangat menyedihkan, namun itu lah\\nkonsekuensinya menjadi bagian dari negara, kritik tentu tidak terhindar,\\nmemang begitu nature-nya.\\n\\nSeorang Jubir bukanlah mesin pencari informasi, tidak semua persoalan dia\\npunya jawabannya. Meski seseorang yang paham geopolitik internasional\\nsekalipun, tetap saja akan butuh waktu untuk melakukan kesalahan. Sebagai\\nStaff Khusus Bidang Komunikasi Mensesneg yang tidak punya pengalaman\\npemerintahan, saya pun dapat paham apa yang dihadapi Maudy.\\n\\nSaat ini, Maudy dan tim sedang bekerja. Apapun respon publik merupakan harapan\\nyang besar untuk mengharumkan nama bangsa. _Recover together, recover\\nstronger._\\n\\n_Staf Khusus Menteri Sekretaris Negara Bidang Komunikasi dan Media_\\n\\n[Gambas:Video 20detik]\\n\\n  \\n  \\n\\n \",\n          \"\\\\-\\n\\nPengadilan Negeri (PN) Jakarta Pusat (Jakpus) yang meminta ke KPU agar tahapan\\nPemilu ditunda. DPD Gerindra Jawa Timur angkat bicara terkait putusan\\ntersebut.\\n\\nBendahara DPD Gerindra Jatim M Fawait menyatakan pihaknya akan sami'na\\nwaatho'nah terhadap sikap dan keputusan DPP Gerindra. Namun ia mewanti-wanti\\nsemua pihak tidak bertentangan dengan Undang-Undang.\\n\\n\\\"Kalau kami menyerahkan sepenuhnya pada keputusan DPP Gerindra. Kami yakin\\nbahwa semua pihak akan mematuhi aturan yang ada, termasuk tidak mungkin\\nmembuat aturan yang bertentangan dengan aturan UUD 1945,\\\" kata Fawait kepada ,\\nMinggu (5/3/2023).\\n\\nPria yang akrab disapa Gus Fawait ini menyatakan gaduh keputusan PN Jakpus\\ntersebut tidak akan menganggu persiapan partainya di Jatim. Pihaknya selalu\\nsiap kapanpun pemilihan umum akan digelar.\\n\\n\\\"Kami di Fraksi Gerindra Jatim tidak mau melihat kegaduhan ini bisa membuat\\nsemangat kendor, bagi kami pemilu mau dekat atau jauh semua kami siap,\\\"\\nkatanya.\\n\\n\\\"Dan anggota Fraksi Gerindra Jatim sesuai pesan ketum Pak Prabowo akan selalu\\nhadir di tengah masyarakat, dan menjadi solusi ketika masyarakat punya masalah\\nitu yang akan membuat Gerindra akan selalu ada di hati masyarakat Jatim dan\\nkami yakin akan menang di pileg mendatang, dan mengantar Pak Prabowo\\nPresiden,\\\" sambungnya.\\n\\nKetua Fraksi Gerindra DPRD Jatim ini menyatakan kader di Jatim tetap tancap\\ngas apapun keputusan yang terjadi ke depan. Utamanya kader akan bekerja keras\\nmenekan angka kemiskinan di Jatim.\\n\\n\\\"Terkait gaduh putusan PN Jakpus kami menyerahkan sepenuhnya ke DPP Gerindra,\\nkami akan konsolidasi dan menyapa masyarakat sesuai pesan ketum,\\\" jelasnya.\\n\\n'Tugas Fraksi Gerindra membantu pengentasan kemiskinan di mana di Jatim masih\\nmemiliki pekerjaan rumah kemiskinan yang angkanya di atas rata-rata nasional,\\ndan tugas kami mengawal kebijakan Bu Gubernur (Khofifah Indar Parawansa) yang\\npro rakyat,\\\" tandasnya.\\n\\n  \\n  \\n  \\n[Gambas:Video 20detik]  \\n\\n \",\n          \"\\\\-\\n\\nSyahrini telah selesai menjadi saksi laporannya terkait kasus pencemaran nama\\nbaik. Ia lalu memberikan pesan kepada khalayak dalam main media sosial.\\n\\nSyahrini diketahui jadi korban fitnah di Instagram. Ada netizen yang menyebar\\nhoax video porno yang mirip dirinya.\\n\\nPelantun Cintaku Kandas itu meminta masyarakat berhati-hati dalam main media\\nsosial. Ia mau mereka semua taati aturan dan perhatikan norma.\\n\\n\\\"Jadi hari ini saya datang untuk memperingati agar hati-hati dalam bermain\\nmedia sosial, lebih bijaksana,\\\" ujar Syahrini di Pengadilan Negeri Jakarta\\nSelatan, Ampera, Jakarta Selatan, Rabu (4/11/2020).\\n\\nSyahrini berani bertindak melaporkan warganet usai saran dari suaminya, Reino\\nBarack. Ia pun mengikuti keinginan Reino karena merasa sekarang sudah berumah\\ntangga.\\n\\n\\\"Kalau selama 11 tahun saya diam tak bereaksi ketika saya single, saya\\ndibully, saya difitnah saya tidak merespon apa pun. Tapi saat ini semuanya\\nsudah berbeda, saya sudah berumah tangga, saya memiliki keluarga dari pihak\\nsuami yang terganggu atas pemberitaan yang memfitnah saya, melecehkan saya\\nsetiap hari, akun Instagram itu isinya hanya untuk membully saya dan mamah\\nsaya,\\\" tutur Syahrini.\\n\\nSyahrini mengaku bersalah selama ini diam hadapi fitnah warganet. Ia juga kini\\nmengambil tindakan lantaran dirasa sudah sangat fatal.\\n\\n\\\"Jadi saya diam selama ini adalah salah dan tidak baik. Menurut suami saya,\\nsudah waktu saya bertindak karena ini sudah keterlaluan,\\\" kata Syahrini.\\n\\nSyahrini diketahui melaporkan MS yang telah membuat hoax video syur. Laporan\\nitu dilayangkan pada 12 Mei 2020.\\n\\nDalam laporan tersebut, MS dikenakan Pasal 27 Ayat 1 Jo Pasal 45 Ayat 1 dan\\natau Pasal 27 Ayat 3 Jo Pasal 45 Ayat 3 UU RI Nomor 19 tahun 2016 tentang ITE.\\nJuga Pasal 4 Ayat 1 UU RI Nomor 44 tahun 2008 tentang pornografi dan atau\\nPasal 310 KUHP dan atau 311 KUHP.\\n\\n \"\n        ],\n        \"semantic_type\": \"\",\n        \"description\": \"\"\n      }\n    },\n    {\n      \"column\": \"Rev1_label\",\n      \"properties\": {\n        \"dtype\": \"number\",\n        \"std\": 0,\n        \"min\": -1,\n        \"max\": 1,\n        \"num_unique_values\": 3,\n        \"samples\": [\n          1,\n          -1,\n          0\n        ],\n        \"semantic_type\": \"\",\n        \"description\": \"\"\n      }\n    }\n  ]\n}"
            }
          },
          "metadata": {},
          "execution_count": 4
        }
      ],
      "source": [
        "data = '/content/drive/MyDrive/Dataset/Rev1_output_labelling.csv'\n",
        "news = pd.read_csv(data, encoding= 'unicode_escape')\n",
        "news"
      ]
    },
    {
      "cell_type": "code",
      "execution_count": null,
      "metadata": {
        "colab": {
          "base_uri": "https://localhost:8080/"
        },
        "id": "W6JHQdUl_VQw",
        "outputId": "4efdbd30-41ee-41f7-b88f-80d7609285d9"
      },
      "outputs": [
        {
          "output_type": "stream",
          "name": "stdout",
          "text": [
            "Index(['tokoh', 'title', 'date', 'description', 'Rev1_label'], dtype='object')\n"
          ]
        }
      ],
      "source": [
        "print(news.columns)\n",
        "news = news.drop(['date', 'A', 'B', 'C', 'label'], axis=1, errors='ignore')"
      ]
    },
    {
      "cell_type": "code",
      "execution_count": null,
      "metadata": {
        "id": "6nzUDwCp-t8J"
      },
      "outputs": [],
      "source": [
        "from Sastrawi.Stemmer.StemmerFactory import StemmerFactory\n",
        "factory = StemmerFactory()\n",
        "stemmer = factory.create_stemmer()"
      ]
    },
    {
      "cell_type": "code",
      "execution_count": null,
      "metadata": {
        "id": "DDmBYQ8Tba3e"
      },
      "outputs": [],
      "source": [
        "def preprocess(text):\n",
        "    text = text.lower()  # Case folding\n",
        "    text = re.sub(r'[-+]?[0-9]+', ' ', text)           # number\n",
        "    text = re.sub(r\"_\", \" \", text)\n",
        "    text.replace('\\\\t',\" \").replace('\\\\n',\" \").replace('\\\\u',\" \").replace('\\\\',\" \")    # remove tab, new line, and back slice\n",
        "    text = re.sub(r'((http|https)\\:\\/\\/)[a-zA-Z0-9\\.\\/\\?\\:@\\-_=#]+\\.([a-zA-Z]){2,6}([a-zA-Z0-9\\.\\&\\/\\?\\:@\\-_=#])*', \" \", text)\n",
        "    ' '.join(re.sub(\"([@#][A-Za-z0-9]+)|(\\w+:\\/\\/\\S+)\",\" \", text).split())            # remove mention, link, hashtag\n",
        "    text = re.sub(r'[^\\w\\s]',' ', text)                # punctuation\n",
        "    text = re.sub('\\s+',' ',text)                     # multiple whitespace into single whitespace\n",
        "    text = re.sub(r\"\\b[a-zA-Z]\\b\", \"\", text)\n",
        "    return text"
      ]
    },
    {
      "cell_type": "markdown",
      "metadata": {
        "id": "14HsdR8wZ7Hg"
      },
      "source": [
        "### Case Folding"
      ]
    },
    {
      "cell_type": "code",
      "execution_count": null,
      "metadata": {
        "id": "WNUs96ECV33D"
      },
      "outputs": [],
      "source": [
        "def rev_space(text):\n",
        "  text = re.sub('\\s+',' ',text)\n",
        "  return text"
      ]
    },
    {
      "cell_type": "markdown",
      "metadata": {
        "id": "Y6KPaTg5Z--w"
      },
      "source": [
        "### Tokenizing"
      ]
    },
    {
      "cell_type": "code",
      "execution_count": null,
      "metadata": {
        "id": "je3ZAcykV8Zo"
      },
      "outputs": [],
      "source": [
        "def word_tokenizing(text):\n",
        "    return word_tokenize(text)"
      ]
    },
    {
      "cell_type": "markdown",
      "metadata": {
        "id": "dgELwEgYaB8S"
      },
      "source": [
        "### Stopword Removal"
      ]
    },
    {
      "cell_type": "code",
      "execution_count": null,
      "metadata": {
        "id": "uIYrbOXGWB0t"
      },
      "outputs": [],
      "source": [
        "def remove_stopwords(words):\n",
        "  stopwords_ind = stopwords.words('indonesian')\n",
        "  stopwords_ind.extend([\"yg\", \"dg\", \"rt\", \"dgn\", \"ny\", \"d\", 'klo',\n",
        "                       'kalo', 'amp', 'biar', 'bikin', 'bilang',\n",
        "                       'gak', 'ga', 'krn', 'nya', 'nih', 'sih',\n",
        "                       'si', 'tau', 'tdk', 'tuh', 'utk', 'ya',\n",
        "                       'jd', 'jgn', 'sdh', 'aja', 'n', 't',\n",
        "                       'nyg', 'hehe', 'pen', 'u', 'nan', 'loh', 'rt',\n",
        "                       '&amp', 'yah', 'nya'])\n",
        "  stopwords_ind = set(stopwords_ind)\n",
        "  return [word\n",
        "            for word in words\n",
        "              if word not in stopwords_ind]"
      ]
    },
    {
      "cell_type": "markdown",
      "metadata": {
        "id": "QT9BRUtcaMqm"
      },
      "source": [
        "### Stemming"
      ]
    },
    {
      "cell_type": "code",
      "execution_count": null,
      "metadata": {
        "id": "YI5X41N8aXu6"
      },
      "outputs": [],
      "source": [
        "def stemmed_wrapper(words):\n",
        "  words = stemmer.stem(words)\n",
        "  return words"
      ]
    },
    {
      "cell_type": "code",
      "execution_count": null,
      "metadata": {
        "id": "fL-kuuWJqG-p"
      },
      "outputs": [],
      "source": [
        "def stemmingText(document):\n",
        "    return [term_dict.get(term, term) for term in document]"
      ]
    },
    {
      "cell_type": "markdown",
      "metadata": {
        "id": "aHmX3JRYlf29"
      },
      "source": [
        "### Preprocessing Result"
      ]
    },
    {
      "cell_type": "code",
      "execution_count": null,
      "metadata": {
        "id": "irFhGw5AhMpo"
      },
      "outputs": [],
      "source": [
        "news = news.copy()"
      ]
    },
    {
      "cell_type": "code",
      "execution_count": null,
      "metadata": {
        "id": "QMx7gcL4dzfq"
      },
      "outputs": [],
      "source": [
        "news['text'] = news['title'] + ' ' + news['description']"
      ]
    },
    {
      "cell_type": "code",
      "execution_count": null,
      "metadata": {
        "colab": {
          "base_uri": "https://localhost:8080/"
        },
        "id": "8kZLuPDZSeLE",
        "outputId": "0c2528b4-39cb-46ee-9060-9ac025c7e8b7"
      },
      "outputs": [
        {
          "output_type": "stream",
          "name": "stdout",
          "text": [
            "                                                text  \\\n",
            "0  Anies Bertemu Relawan Pendukungnya di Australi...   \n",
            "1  PKS Bahagia Prabowo Bertemu Paloh: Bravo, Kian...   \n",
            "2  Bos PPI Nilai Prabowo dan Paloh Sudah Siap Pis...   \n",
            "3  Riuh IMB Era Anies Diungkit PDIP Usai Kebakara...   \n",
            "4  Prabowo soal Anies: Siap Hadapi, Rakyat yang M...   \n",
            "\n",
            "                                        case_folding  \n",
            "0  anies bertemu relawan pendukungnya di australi...  \n",
            "1  pks bahagia prabowo bertemu paloh bravo kian m...  \n",
            "2  bos ppi nilai prabowo dan paloh sudah siap pis...  \n",
            "3  riuh imb era anies diungkit pdip usai kebakara...  \n",
            "4  prabowo soal anies siap hadapi rakyat yang mem...  \n"
          ]
        }
      ],
      "source": [
        "news['case_folding'] = news['text'].apply(preprocess)\n",
        "news['case_folding'] = news['case_folding'].apply(rev_space)\n",
        "print(news[['text', 'case_folding']].head())"
      ]
    },
    {
      "cell_type": "code",
      "execution_count": null,
      "metadata": {
        "colab": {
          "base_uri": "https://localhost:8080/"
        },
        "id": "1zYU-3zdJexA",
        "outputId": "a2dce3dd-e787-41e3-f15d-d7b8dbd5be2f"
      },
      "outputs": [
        {
          "output_type": "stream",
          "name": "stdout",
          "text": [
            "                                        case_folding  \\\n",
            "0  anies bertemu relawan pendukungnya di australi...   \n",
            "1  pks bahagia prabowo bertemu paloh bravo kian m...   \n",
            "2  bos ppi nilai prabowo dan paloh sudah siap pis...   \n",
            "3  riuh imb era anies diungkit pdip usai kebakara...   \n",
            "4  prabowo soal anies siap hadapi rakyat yang mem...   \n",
            "\n",
            "                                          tokenizing  \n",
            "0  [anies, bertemu, relawan, pendukungnya, di, au...  \n",
            "1  [pks, bahagia, prabowo, bertemu, paloh, bravo,...  \n",
            "2  [bos, ppi, nilai, prabowo, dan, paloh, sudah, ...  \n",
            "3  [riuh, imb, era, anies, diungkit, pdip, usai, ...  \n",
            "4  [prabowo, soal, anies, siap, hadapi, rakyat, y...  \n"
          ]
        }
      ],
      "source": [
        "news['tokenizing'] = news['case_folding'].apply(word_tokenizing)\n",
        "print(news[['case_folding', 'tokenizing']].head())"
      ]
    },
    {
      "cell_type": "code",
      "execution_count": null,
      "metadata": {
        "colab": {
          "base_uri": "https://localhost:8080/"
        },
        "id": "VBSEjpS0Y-YQ",
        "outputId": "88196723-f581-4bc6-8706-05480c323dce"
      },
      "outputs": [
        {
          "output_type": "stream",
          "name": "stdout",
          "text": [
            "                                          tokenizing  \\\n",
            "0  [anies, bertemu, relawan, pendukungnya, di, au...   \n",
            "1  [pks, bahagia, prabowo, bertemu, paloh, bravo,...   \n",
            "2  [bos, ppi, nilai, prabowo, dan, paloh, sudah, ...   \n",
            "3  [riuh, imb, era, anies, diungkit, pdip, usai, ...   \n",
            "4  [prabowo, soal, anies, siap, hadapi, rakyat, y...   \n",
            "\n",
            "                                    stopword_removal  \n",
            "0  [anies, bertemu, relawan, pendukungnya, austra...  \n",
            "1  [pks, bahagia, prabowo, bertemu, paloh, bravo,...  \n",
            "2  [bos, ppi, nilai, prabowo, paloh, pisah, jalan...  \n",
            "3  [riuh, imb, era, anies, diungkit, pdip, kebaka...  \n",
            "4  [prabowo, anies, hadapi, rakyat, memilih, calo...  \n"
          ]
        }
      ],
      "source": [
        "news['stopword_removal'] = news['tokenizing'].apply(remove_stopwords)\n",
        "print(news[['tokenizing', 'stopword_removal']].head())"
      ]
    },
    {
      "cell_type": "code",
      "execution_count": null,
      "metadata": {
        "id": "3n2mLmR51e6g"
      },
      "outputs": [],
      "source": [
        "term_dict = {}  # Initialize term_dict as an empty dictionary\n",
        "for document in news['stopword_removal']:\n",
        "    for term in document:\n",
        "        if term not in term_dict:\n",
        "            term_dict[term] = ' '\n",
        "\n",
        "for term in term_dict:\n",
        "    term_dict[term] = stemmed_wrapper(term)"
      ]
    },
    {
      "cell_type": "code",
      "execution_count": null,
      "metadata": {
        "colab": {
          "base_uri": "https://localhost:8080/"
        },
        "id": "c-H55gRNZNgQ",
        "outputId": "b55e5107-7e32-459e-a80a-f1a245646201"
      },
      "outputs": [
        {
          "output_type": "stream",
          "name": "stdout",
          "text": [
            "                                    stopword_removal  \\\n",
            "0  [anies, bertemu, relawan, pendukungnya, austra...   \n",
            "1  [pks, bahagia, prabowo, bertemu, paloh, bravo,...   \n",
            "2  [bos, ppi, nilai, prabowo, paloh, pisah, jalan...   \n",
            "3  [riuh, imb, era, anies, diungkit, pdip, kebaka...   \n",
            "4  [prabowo, anies, hadapi, rakyat, memilih, calo...   \n",
            "\n",
            "                                            stemming  \n",
            "0  [anies, temu, rawan, dukung, australia, bahas,...  \n",
            "1  [pks, bahagia, prabowo, temu, paloh, bravo, ki...  \n",
            "2  [bos, ppi, nilai, prabowo, paloh, pisah, jalan...  \n",
            "3  [riuh, imb, era, anies, ungkit, pdip, bakar, l...  \n",
            "4  [prabowo, anies, hadap, rakyat, pilih, calon, ...  \n"
          ]
        }
      ],
      "source": [
        "news['stemming'] = news['stopword_removal'].apply(stemmingText)\n",
        "print(news[['stopword_removal','stemming']].head())"
      ]
    },
    {
      "cell_type": "code",
      "execution_count": null,
      "metadata": {
        "colab": {
          "base_uri": "https://localhost:8080/"
        },
        "id": "8x_f2iaoZj1o",
        "outputId": "b4660514-9ad8-4ea0-9240-0fb02f5d8278"
      },
      "outputs": [
        {
          "output_type": "stream",
          "name": "stdout",
          "text": [
            "                                            stemming  \\\n",
            "0  [anies, temu, rawan, dukung, australia, bahas,...   \n",
            "1  [pks, bahagia, prabowo, temu, paloh, bravo, ki...   \n",
            "2  [bos, ppi, nilai, prabowo, paloh, pisah, jalan...   \n",
            "3  [riuh, imb, era, anies, ungkit, pdip, bakar, l...   \n",
            "4  [prabowo, anies, hadap, rakyat, pilih, calon, ...   \n",
            "\n",
            "                                 stemming_all_string  \n",
            "0  anies,temu,rawan,dukung,australia,bahas,mantan...  \n",
            "1  pks,bahagia,prabowo,temu,paloh,bravo,kian,mulu...  \n",
            "2  bos,ppi,nilai,prabowo,paloh,pisah,jalan,temu,h...  \n",
            "3  riuh,imb,era,anies,ungkit,pdip,bakar,lahan,plu...  \n",
            "4  prabowo,anies,hadap,rakyat,pilih,calon,preside...  \n"
          ]
        }
      ],
      "source": [
        "news['stemming_all_string'] = [','.join(map(str, l)) for l in news['stemming']]\n",
        "print(news[['stemming','stemming_all_string']].head())"
      ]
    },
    {
      "cell_type": "code",
      "execution_count": null,
      "metadata": {
        "colab": {
          "base_uri": "https://localhost:8080/",
          "height": 790
        },
        "id": "d4s_SpG9ZuwD",
        "outputId": "469a4a83-d6e7-49fd-a04d-80691bb654ca"
      },
      "outputs": [
        {
          "output_type": "execute_result",
          "data": {
            "text/plain": [
              "              tokoh                                              title  \\\n",
              "0    anies baswedan  Anies Bertemu Relawan Pendukungnya di Australi...   \n",
              "1    anies baswedan  PKS Bahagia Prabowo Bertemu Paloh: Bravo, Kian...   \n",
              "2    anies baswedan  Bos PPI Nilai Prabowo dan Paloh Sudah Siap Pis...   \n",
              "3    anies baswedan  Riuh IMB Era Anies Diungkit PDIP Usai Kebakara...   \n",
              "4    anies baswedan  Prabowo soal Anies: Siap Hadapi, Rakyat yang M...   \n",
              "..              ...                                                ...   \n",
              "877         prabowo  Prabowo 'Lawan' Anies Baswedan di Pilpres 2024...   \n",
              "878         prabowo  Terkini! Peta Kekuatan Prabowo dan Anies Jelan...   \n",
              "879         prabowo  NasDem Punya Tafsir Tersendiri soal Prabowo Si...   \n",
              "880         prabowo  Duet Anies-Sandi Dinilai Kecil Kemungkinan Ter...   \n",
              "881         prabowo  PKS Bahagia Prabowo Bertemu Paloh: Bravo, Kian...   \n",
              "\n",
              "                                           description  Rev1_label  \\\n",
              "0    \\-\\n\\nMantan Gubernur DKI Jakarta Anies Baswed...           1   \n",
              "1    \\-\\n\\nKetum Gerindra Prabowo Subianto bertemu ...           1   \n",
              "2    \\-\\n\\nDalam pertemuannya di Hambalang, Bogor, ...           1   \n",
              "3    \\-\\n\\nRiuh soal izin mendirikan bangunan (IMB)...          -1   \n",
              "4    \\-\\n\\nBakal calon presiden dari Partai Gerindr...           0   \n",
              "..                                                 ...         ...   \n",
              "877  \\-\\n\\nBakal calon presiden (Capres) Partai Ger...           1   \n",
              "878  \\-\\n\\nDua bakal calon presiden Prabowo Subiant...           0   \n",
              "879  \\-\\n\\nCalon presiden Partai Gerindra Prabowo S...           0   \n",
              "880  \\-\\n\\nWacana duet Anies Baswedan dan Sandiaga ...           0   \n",
              "881  \\-\\n\\nKetum Gerindra Prabowo Subianto bertemu ...           1   \n",
              "\n",
              "                                                  text  \\\n",
              "0    Anies Bertemu Relawan Pendukungnya di Australi...   \n",
              "1    PKS Bahagia Prabowo Bertemu Paloh: Bravo, Kian...   \n",
              "2    Bos PPI Nilai Prabowo dan Paloh Sudah Siap Pis...   \n",
              "3    Riuh IMB Era Anies Diungkit PDIP Usai Kebakara...   \n",
              "4    Prabowo soal Anies: Siap Hadapi, Rakyat yang M...   \n",
              "..                                                 ...   \n",
              "877  Prabowo 'Lawan' Anies Baswedan di Pilpres 2024...   \n",
              "878  Terkini! Peta Kekuatan Prabowo dan Anies Jelan...   \n",
              "879  NasDem Punya Tafsir Tersendiri soal Prabowo Si...   \n",
              "880  Duet Anies-Sandi Dinilai Kecil Kemungkinan Ter...   \n",
              "881  PKS Bahagia Prabowo Bertemu Paloh: Bravo, Kian...   \n",
              "\n",
              "                                          case_folding  \\\n",
              "0    anies bertemu relawan pendukungnya di australi...   \n",
              "1    pks bahagia prabowo bertemu paloh bravo kian m...   \n",
              "2    bos ppi nilai prabowo dan paloh sudah siap pis...   \n",
              "3    riuh imb era anies diungkit pdip usai kebakara...   \n",
              "4    prabowo soal anies siap hadapi rakyat yang mem...   \n",
              "..                                                 ...   \n",
              "877  prabowo lawan anies baswedan di pilpres begini...   \n",
              "878  terkini peta kekuatan prabowo dan anies jelang...   \n",
              "879  nasdem punya tafsir tersendiri soal prabowo si...   \n",
              "880  duet anies sandi dinilai kecil kemungkinan ter...   \n",
              "881  pks bahagia prabowo bertemu paloh bravo kian m...   \n",
              "\n",
              "                                            tokenizing  \\\n",
              "0    [anies, bertemu, relawan, pendukungnya, di, au...   \n",
              "1    [pks, bahagia, prabowo, bertemu, paloh, bravo,...   \n",
              "2    [bos, ppi, nilai, prabowo, dan, paloh, sudah, ...   \n",
              "3    [riuh, imb, era, anies, diungkit, pdip, usai, ...   \n",
              "4    [prabowo, soal, anies, siap, hadapi, rakyat, y...   \n",
              "..                                                 ...   \n",
              "877  [prabowo, lawan, anies, baswedan, di, pilpres,...   \n",
              "878  [terkini, peta, kekuatan, prabowo, dan, anies,...   \n",
              "879  [nasdem, punya, tafsir, tersendiri, soal, prab...   \n",
              "880  [duet, anies, sandi, dinilai, kecil, kemungkin...   \n",
              "881  [pks, bahagia, prabowo, bertemu, paloh, bravo,...   \n",
              "\n",
              "                                      stopword_removal  \\\n",
              "0    [anies, bertemu, relawan, pendukungnya, austra...   \n",
              "1    [pks, bahagia, prabowo, bertemu, paloh, bravo,...   \n",
              "2    [bos, ppi, nilai, prabowo, paloh, pisah, jalan...   \n",
              "3    [riuh, imb, era, anies, diungkit, pdip, kebaka...   \n",
              "4    [prabowo, anies, hadapi, rakyat, memilih, calo...   \n",
              "..                                                 ...   \n",
              "877  [prabowo, lawan, anies, baswedan, pilpres, pet...   \n",
              "878  [terkini, peta, kekuatan, prabowo, anies, jela...   \n",
              "879  [nasdem, tafsir, tersendiri, prabowo, hadapi, ...   \n",
              "880  [duet, anies, sandi, dinilai, wacana, duet, an...   \n",
              "881  [pks, bahagia, prabowo, bertemu, paloh, bravo,...   \n",
              "\n",
              "                                              stemming  \\\n",
              "0    [anies, temu, rawan, dukung, australia, bahas,...   \n",
              "1    [pks, bahagia, prabowo, temu, paloh, bravo, ki...   \n",
              "2    [bos, ppi, nilai, prabowo, paloh, pisah, jalan...   \n",
              "3    [riuh, imb, era, anies, ungkit, pdip, bakar, l...   \n",
              "4    [prabowo, anies, hadap, rakyat, pilih, calon, ...   \n",
              "..                                                 ...   \n",
              "877  [prabowo, lawan, anies, baswedan, pilpres, pet...   \n",
              "878  [kini, peta, kuat, prabowo, anies, jelang, pil...   \n",
              "879  [nasdem, tafsir, sendiri, prabowo, hadap, anie...   \n",
              "880  [duet, anies, sandi, nilai, wacana, duet, anie...   \n",
              "881  [pks, bahagia, prabowo, temu, paloh, bravo, ki...   \n",
              "\n",
              "                                   stemming_all_string  \n",
              "0    anies,temu,rawan,dukung,australia,bahas,mantan...  \n",
              "1    pks,bahagia,prabowo,temu,paloh,bravo,kian,mulu...  \n",
              "2    bos,ppi,nilai,prabowo,paloh,pisah,jalan,temu,h...  \n",
              "3    riuh,imb,era,anies,ungkit,pdip,bakar,lahan,plu...  \n",
              "4    prabowo,anies,hadap,rakyat,pilih,calon,preside...  \n",
              "..                                                 ...  \n",
              "877  prabowo,lawan,anies,baswedan,pilpres,peta,kuat...  \n",
              "878  kini,peta,kuat,prabowo,anies,jelang,pilpres,ca...  \n",
              "879  nasdem,tafsir,sendiri,prabowo,hadap,anies,calo...  \n",
              "880  duet,anies,sandi,nilai,wacana,duet,anies,baswe...  \n",
              "881  pks,bahagia,prabowo,temu,paloh,bravo,kian,mulu...  \n",
              "\n",
              "[882 rows x 10 columns]"
            ],
            "text/html": [
              "\n",
              "  <div id=\"df-c6e96e6d-4010-4c41-b36c-42ac217130f0\" class=\"colab-df-container\">\n",
              "    <div>\n",
              "<style scoped>\n",
              "    .dataframe tbody tr th:only-of-type {\n",
              "        vertical-align: middle;\n",
              "    }\n",
              "\n",
              "    .dataframe tbody tr th {\n",
              "        vertical-align: top;\n",
              "    }\n",
              "\n",
              "    .dataframe thead th {\n",
              "        text-align: right;\n",
              "    }\n",
              "</style>\n",
              "<table border=\"1\" class=\"dataframe\">\n",
              "  <thead>\n",
              "    <tr style=\"text-align: right;\">\n",
              "      <th></th>\n",
              "      <th>tokoh</th>\n",
              "      <th>title</th>\n",
              "      <th>description</th>\n",
              "      <th>Rev1_label</th>\n",
              "      <th>text</th>\n",
              "      <th>case_folding</th>\n",
              "      <th>tokenizing</th>\n",
              "      <th>stopword_removal</th>\n",
              "      <th>stemming</th>\n",
              "      <th>stemming_all_string</th>\n",
              "    </tr>\n",
              "  </thead>\n",
              "  <tbody>\n",
              "    <tr>\n",
              "      <th>0</th>\n",
              "      <td>anies baswedan</td>\n",
              "      <td>Anies Bertemu Relawan Pendukungnya di Australi...</td>\n",
              "      <td>\\-\\n\\nMantan Gubernur DKI Jakarta Anies Baswed...</td>\n",
              "      <td>1</td>\n",
              "      <td>Anies Bertemu Relawan Pendukungnya di Australi...</td>\n",
              "      <td>anies bertemu relawan pendukungnya di australi...</td>\n",
              "      <td>[anies, bertemu, relawan, pendukungnya, di, au...</td>\n",
              "      <td>[anies, bertemu, relawan, pendukungnya, austra...</td>\n",
              "      <td>[anies, temu, rawan, dukung, australia, bahas,...</td>\n",
              "      <td>anies,temu,rawan,dukung,australia,bahas,mantan...</td>\n",
              "    </tr>\n",
              "    <tr>\n",
              "      <th>1</th>\n",
              "      <td>anies baswedan</td>\n",
              "      <td>PKS Bahagia Prabowo Bertemu Paloh: Bravo, Kian...</td>\n",
              "      <td>\\-\\n\\nKetum Gerindra Prabowo Subianto bertemu ...</td>\n",
              "      <td>1</td>\n",
              "      <td>PKS Bahagia Prabowo Bertemu Paloh: Bravo, Kian...</td>\n",
              "      <td>pks bahagia prabowo bertemu paloh bravo kian m...</td>\n",
              "      <td>[pks, bahagia, prabowo, bertemu, paloh, bravo,...</td>\n",
              "      <td>[pks, bahagia, prabowo, bertemu, paloh, bravo,...</td>\n",
              "      <td>[pks, bahagia, prabowo, temu, paloh, bravo, ki...</td>\n",
              "      <td>pks,bahagia,prabowo,temu,paloh,bravo,kian,mulu...</td>\n",
              "    </tr>\n",
              "    <tr>\n",
              "      <th>2</th>\n",
              "      <td>anies baswedan</td>\n",
              "      <td>Bos PPI Nilai Prabowo dan Paloh Sudah Siap Pis...</td>\n",
              "      <td>\\-\\n\\nDalam pertemuannya di Hambalang, Bogor, ...</td>\n",
              "      <td>1</td>\n",
              "      <td>Bos PPI Nilai Prabowo dan Paloh Sudah Siap Pis...</td>\n",
              "      <td>bos ppi nilai prabowo dan paloh sudah siap pis...</td>\n",
              "      <td>[bos, ppi, nilai, prabowo, dan, paloh, sudah, ...</td>\n",
              "      <td>[bos, ppi, nilai, prabowo, paloh, pisah, jalan...</td>\n",
              "      <td>[bos, ppi, nilai, prabowo, paloh, pisah, jalan...</td>\n",
              "      <td>bos,ppi,nilai,prabowo,paloh,pisah,jalan,temu,h...</td>\n",
              "    </tr>\n",
              "    <tr>\n",
              "      <th>3</th>\n",
              "      <td>anies baswedan</td>\n",
              "      <td>Riuh IMB Era Anies Diungkit PDIP Usai Kebakara...</td>\n",
              "      <td>\\-\\n\\nRiuh soal izin mendirikan bangunan (IMB)...</td>\n",
              "      <td>-1</td>\n",
              "      <td>Riuh IMB Era Anies Diungkit PDIP Usai Kebakara...</td>\n",
              "      <td>riuh imb era anies diungkit pdip usai kebakara...</td>\n",
              "      <td>[riuh, imb, era, anies, diungkit, pdip, usai, ...</td>\n",
              "      <td>[riuh, imb, era, anies, diungkit, pdip, kebaka...</td>\n",
              "      <td>[riuh, imb, era, anies, ungkit, pdip, bakar, l...</td>\n",
              "      <td>riuh,imb,era,anies,ungkit,pdip,bakar,lahan,plu...</td>\n",
              "    </tr>\n",
              "    <tr>\n",
              "      <th>4</th>\n",
              "      <td>anies baswedan</td>\n",
              "      <td>Prabowo soal Anies: Siap Hadapi, Rakyat yang M...</td>\n",
              "      <td>\\-\\n\\nBakal calon presiden dari Partai Gerindr...</td>\n",
              "      <td>0</td>\n",
              "      <td>Prabowo soal Anies: Siap Hadapi, Rakyat yang M...</td>\n",
              "      <td>prabowo soal anies siap hadapi rakyat yang mem...</td>\n",
              "      <td>[prabowo, soal, anies, siap, hadapi, rakyat, y...</td>\n",
              "      <td>[prabowo, anies, hadapi, rakyat, memilih, calo...</td>\n",
              "      <td>[prabowo, anies, hadap, rakyat, pilih, calon, ...</td>\n",
              "      <td>prabowo,anies,hadap,rakyat,pilih,calon,preside...</td>\n",
              "    </tr>\n",
              "    <tr>\n",
              "      <th>...</th>\n",
              "      <td>...</td>\n",
              "      <td>...</td>\n",
              "      <td>...</td>\n",
              "      <td>...</td>\n",
              "      <td>...</td>\n",
              "      <td>...</td>\n",
              "      <td>...</td>\n",
              "      <td>...</td>\n",
              "      <td>...</td>\n",
              "      <td>...</td>\n",
              "    </tr>\n",
              "    <tr>\n",
              "      <th>877</th>\n",
              "      <td>prabowo</td>\n",
              "      <td>Prabowo 'Lawan' Anies Baswedan di Pilpres 2024...</td>\n",
              "      <td>\\-\\n\\nBakal calon presiden (Capres) Partai Ger...</td>\n",
              "      <td>1</td>\n",
              "      <td>Prabowo 'Lawan' Anies Baswedan di Pilpres 2024...</td>\n",
              "      <td>prabowo lawan anies baswedan di pilpres begini...</td>\n",
              "      <td>[prabowo, lawan, anies, baswedan, di, pilpres,...</td>\n",
              "      <td>[prabowo, lawan, anies, baswedan, pilpres, pet...</td>\n",
              "      <td>[prabowo, lawan, anies, baswedan, pilpres, pet...</td>\n",
              "      <td>prabowo,lawan,anies,baswedan,pilpres,peta,kuat...</td>\n",
              "    </tr>\n",
              "    <tr>\n",
              "      <th>878</th>\n",
              "      <td>prabowo</td>\n",
              "      <td>Terkini! Peta Kekuatan Prabowo dan Anies Jelan...</td>\n",
              "      <td>\\-\\n\\nDua bakal calon presiden Prabowo Subiant...</td>\n",
              "      <td>0</td>\n",
              "      <td>Terkini! Peta Kekuatan Prabowo dan Anies Jelan...</td>\n",
              "      <td>terkini peta kekuatan prabowo dan anies jelang...</td>\n",
              "      <td>[terkini, peta, kekuatan, prabowo, dan, anies,...</td>\n",
              "      <td>[terkini, peta, kekuatan, prabowo, anies, jela...</td>\n",
              "      <td>[kini, peta, kuat, prabowo, anies, jelang, pil...</td>\n",
              "      <td>kini,peta,kuat,prabowo,anies,jelang,pilpres,ca...</td>\n",
              "    </tr>\n",
              "    <tr>\n",
              "      <th>879</th>\n",
              "      <td>prabowo</td>\n",
              "      <td>NasDem Punya Tafsir Tersendiri soal Prabowo Si...</td>\n",
              "      <td>\\-\\n\\nCalon presiden Partai Gerindra Prabowo S...</td>\n",
              "      <td>0</td>\n",
              "      <td>NasDem Punya Tafsir Tersendiri soal Prabowo Si...</td>\n",
              "      <td>nasdem punya tafsir tersendiri soal prabowo si...</td>\n",
              "      <td>[nasdem, punya, tafsir, tersendiri, soal, prab...</td>\n",
              "      <td>[nasdem, tafsir, tersendiri, prabowo, hadapi, ...</td>\n",
              "      <td>[nasdem, tafsir, sendiri, prabowo, hadap, anie...</td>\n",
              "      <td>nasdem,tafsir,sendiri,prabowo,hadap,anies,calo...</td>\n",
              "    </tr>\n",
              "    <tr>\n",
              "      <th>880</th>\n",
              "      <td>prabowo</td>\n",
              "      <td>Duet Anies-Sandi Dinilai Kecil Kemungkinan Ter...</td>\n",
              "      <td>\\-\\n\\nWacana duet Anies Baswedan dan Sandiaga ...</td>\n",
              "      <td>0</td>\n",
              "      <td>Duet Anies-Sandi Dinilai Kecil Kemungkinan Ter...</td>\n",
              "      <td>duet anies sandi dinilai kecil kemungkinan ter...</td>\n",
              "      <td>[duet, anies, sandi, dinilai, kecil, kemungkin...</td>\n",
              "      <td>[duet, anies, sandi, dinilai, wacana, duet, an...</td>\n",
              "      <td>[duet, anies, sandi, nilai, wacana, duet, anie...</td>\n",
              "      <td>duet,anies,sandi,nilai,wacana,duet,anies,baswe...</td>\n",
              "    </tr>\n",
              "    <tr>\n",
              "      <th>881</th>\n",
              "      <td>prabowo</td>\n",
              "      <td>PKS Bahagia Prabowo Bertemu Paloh: Bravo, Kian...</td>\n",
              "      <td>\\-\\n\\nKetum Gerindra Prabowo Subianto bertemu ...</td>\n",
              "      <td>1</td>\n",
              "      <td>PKS Bahagia Prabowo Bertemu Paloh: Bravo, Kian...</td>\n",
              "      <td>pks bahagia prabowo bertemu paloh bravo kian m...</td>\n",
              "      <td>[pks, bahagia, prabowo, bertemu, paloh, bravo,...</td>\n",
              "      <td>[pks, bahagia, prabowo, bertemu, paloh, bravo,...</td>\n",
              "      <td>[pks, bahagia, prabowo, temu, paloh, bravo, ki...</td>\n",
              "      <td>pks,bahagia,prabowo,temu,paloh,bravo,kian,mulu...</td>\n",
              "    </tr>\n",
              "  </tbody>\n",
              "</table>\n",
              "<p>882 rows × 10 columns</p>\n",
              "</div>\n",
              "    <div class=\"colab-df-buttons\">\n",
              "\n",
              "  <div class=\"colab-df-container\">\n",
              "    <button class=\"colab-df-convert\" onclick=\"convertToInteractive('df-c6e96e6d-4010-4c41-b36c-42ac217130f0')\"\n",
              "            title=\"Convert this dataframe to an interactive table.\"\n",
              "            style=\"display:none;\">\n",
              "\n",
              "  <svg xmlns=\"http://www.w3.org/2000/svg\" height=\"24px\" viewBox=\"0 -960 960 960\">\n",
              "    <path d=\"M120-120v-720h720v720H120Zm60-500h600v-160H180v160Zm220 220h160v-160H400v160Zm0 220h160v-160H400v160ZM180-400h160v-160H180v160Zm440 0h160v-160H620v160ZM180-180h160v-160H180v160Zm440 0h160v-160H620v160Z\"/>\n",
              "  </svg>\n",
              "    </button>\n",
              "\n",
              "  <style>\n",
              "    .colab-df-container {\n",
              "      display:flex;\n",
              "      gap: 12px;\n",
              "    }\n",
              "\n",
              "    .colab-df-convert {\n",
              "      background-color: #E8F0FE;\n",
              "      border: none;\n",
              "      border-radius: 50%;\n",
              "      cursor: pointer;\n",
              "      display: none;\n",
              "      fill: #1967D2;\n",
              "      height: 32px;\n",
              "      padding: 0 0 0 0;\n",
              "      width: 32px;\n",
              "    }\n",
              "\n",
              "    .colab-df-convert:hover {\n",
              "      background-color: #E2EBFA;\n",
              "      box-shadow: 0px 1px 2px rgba(60, 64, 67, 0.3), 0px 1px 3px 1px rgba(60, 64, 67, 0.15);\n",
              "      fill: #174EA6;\n",
              "    }\n",
              "\n",
              "    .colab-df-buttons div {\n",
              "      margin-bottom: 4px;\n",
              "    }\n",
              "\n",
              "    [theme=dark] .colab-df-convert {\n",
              "      background-color: #3B4455;\n",
              "      fill: #D2E3FC;\n",
              "    }\n",
              "\n",
              "    [theme=dark] .colab-df-convert:hover {\n",
              "      background-color: #434B5C;\n",
              "      box-shadow: 0px 1px 3px 1px rgba(0, 0, 0, 0.15);\n",
              "      filter: drop-shadow(0px 1px 2px rgba(0, 0, 0, 0.3));\n",
              "      fill: #FFFFFF;\n",
              "    }\n",
              "  </style>\n",
              "\n",
              "    <script>\n",
              "      const buttonEl =\n",
              "        document.querySelector('#df-c6e96e6d-4010-4c41-b36c-42ac217130f0 button.colab-df-convert');\n",
              "      buttonEl.style.display =\n",
              "        google.colab.kernel.accessAllowed ? 'block' : 'none';\n",
              "\n",
              "      async function convertToInteractive(key) {\n",
              "        const element = document.querySelector('#df-c6e96e6d-4010-4c41-b36c-42ac217130f0');\n",
              "        const dataTable =\n",
              "          await google.colab.kernel.invokeFunction('convertToInteractive',\n",
              "                                                    [key], {});\n",
              "        if (!dataTable) return;\n",
              "\n",
              "        const docLinkHtml = 'Like what you see? Visit the ' +\n",
              "          '<a target=\"_blank\" href=https://colab.research.google.com/notebooks/data_table.ipynb>data table notebook</a>'\n",
              "          + ' to learn more about interactive tables.';\n",
              "        element.innerHTML = '';\n",
              "        dataTable['output_type'] = 'display_data';\n",
              "        await google.colab.output.renderOutput(dataTable, element);\n",
              "        const docLink = document.createElement('div');\n",
              "        docLink.innerHTML = docLinkHtml;\n",
              "        element.appendChild(docLink);\n",
              "      }\n",
              "    </script>\n",
              "  </div>\n",
              "\n",
              "\n",
              "    <div id=\"df-5d9d471d-60f5-4a23-b593-73195d8319c7\">\n",
              "      <button class=\"colab-df-quickchart\" onclick=\"quickchart('df-5d9d471d-60f5-4a23-b593-73195d8319c7')\"\n",
              "                title=\"Suggest charts\"\n",
              "                style=\"display:none;\">\n",
              "\n",
              "<svg xmlns=\"http://www.w3.org/2000/svg\" height=\"24px\"viewBox=\"0 0 24 24\"\n",
              "     width=\"24px\">\n",
              "    <g>\n",
              "        <path d=\"M19 3H5c-1.1 0-2 .9-2 2v14c0 1.1.9 2 2 2h14c1.1 0 2-.9 2-2V5c0-1.1-.9-2-2-2zM9 17H7v-7h2v7zm4 0h-2V7h2v10zm4 0h-2v-4h2v4z\"/>\n",
              "    </g>\n",
              "</svg>\n",
              "      </button>\n",
              "\n",
              "<style>\n",
              "  .colab-df-quickchart {\n",
              "      --bg-color: #E8F0FE;\n",
              "      --fill-color: #1967D2;\n",
              "      --hover-bg-color: #E2EBFA;\n",
              "      --hover-fill-color: #174EA6;\n",
              "      --disabled-fill-color: #AAA;\n",
              "      --disabled-bg-color: #DDD;\n",
              "  }\n",
              "\n",
              "  [theme=dark] .colab-df-quickchart {\n",
              "      --bg-color: #3B4455;\n",
              "      --fill-color: #D2E3FC;\n",
              "      --hover-bg-color: #434B5C;\n",
              "      --hover-fill-color: #FFFFFF;\n",
              "      --disabled-bg-color: #3B4455;\n",
              "      --disabled-fill-color: #666;\n",
              "  }\n",
              "\n",
              "  .colab-df-quickchart {\n",
              "    background-color: var(--bg-color);\n",
              "    border: none;\n",
              "    border-radius: 50%;\n",
              "    cursor: pointer;\n",
              "    display: none;\n",
              "    fill: var(--fill-color);\n",
              "    height: 32px;\n",
              "    padding: 0;\n",
              "    width: 32px;\n",
              "  }\n",
              "\n",
              "  .colab-df-quickchart:hover {\n",
              "    background-color: var(--hover-bg-color);\n",
              "    box-shadow: 0 1px 2px rgba(60, 64, 67, 0.3), 0 1px 3px 1px rgba(60, 64, 67, 0.15);\n",
              "    fill: var(--button-hover-fill-color);\n",
              "  }\n",
              "\n",
              "  .colab-df-quickchart-complete:disabled,\n",
              "  .colab-df-quickchart-complete:disabled:hover {\n",
              "    background-color: var(--disabled-bg-color);\n",
              "    fill: var(--disabled-fill-color);\n",
              "    box-shadow: none;\n",
              "  }\n",
              "\n",
              "  .colab-df-spinner {\n",
              "    border: 2px solid var(--fill-color);\n",
              "    border-color: transparent;\n",
              "    border-bottom-color: var(--fill-color);\n",
              "    animation:\n",
              "      spin 1s steps(1) infinite;\n",
              "  }\n",
              "\n",
              "  @keyframes spin {\n",
              "    0% {\n",
              "      border-color: transparent;\n",
              "      border-bottom-color: var(--fill-color);\n",
              "      border-left-color: var(--fill-color);\n",
              "    }\n",
              "    20% {\n",
              "      border-color: transparent;\n",
              "      border-left-color: var(--fill-color);\n",
              "      border-top-color: var(--fill-color);\n",
              "    }\n",
              "    30% {\n",
              "      border-color: transparent;\n",
              "      border-left-color: var(--fill-color);\n",
              "      border-top-color: var(--fill-color);\n",
              "      border-right-color: var(--fill-color);\n",
              "    }\n",
              "    40% {\n",
              "      border-color: transparent;\n",
              "      border-right-color: var(--fill-color);\n",
              "      border-top-color: var(--fill-color);\n",
              "    }\n",
              "    60% {\n",
              "      border-color: transparent;\n",
              "      border-right-color: var(--fill-color);\n",
              "    }\n",
              "    80% {\n",
              "      border-color: transparent;\n",
              "      border-right-color: var(--fill-color);\n",
              "      border-bottom-color: var(--fill-color);\n",
              "    }\n",
              "    90% {\n",
              "      border-color: transparent;\n",
              "      border-bottom-color: var(--fill-color);\n",
              "    }\n",
              "  }\n",
              "</style>\n",
              "\n",
              "      <script>\n",
              "        async function quickchart(key) {\n",
              "          const quickchartButtonEl =\n",
              "            document.querySelector('#' + key + ' button');\n",
              "          quickchartButtonEl.disabled = true;  // To prevent multiple clicks.\n",
              "          quickchartButtonEl.classList.add('colab-df-spinner');\n",
              "          try {\n",
              "            const charts = await google.colab.kernel.invokeFunction(\n",
              "                'suggestCharts', [key], {});\n",
              "          } catch (error) {\n",
              "            console.error('Error during call to suggestCharts:', error);\n",
              "          }\n",
              "          quickchartButtonEl.classList.remove('colab-df-spinner');\n",
              "          quickchartButtonEl.classList.add('colab-df-quickchart-complete');\n",
              "        }\n",
              "        (() => {\n",
              "          let quickchartButtonEl =\n",
              "            document.querySelector('#df-5d9d471d-60f5-4a23-b593-73195d8319c7 button');\n",
              "          quickchartButtonEl.style.display =\n",
              "            google.colab.kernel.accessAllowed ? 'block' : 'none';\n",
              "        })();\n",
              "      </script>\n",
              "    </div>\n",
              "\n",
              "  <div id=\"id_42299080-afac-4fa2-ab4b-c83ac12641c0\">\n",
              "    <style>\n",
              "      .colab-df-generate {\n",
              "        background-color: #E8F0FE;\n",
              "        border: none;\n",
              "        border-radius: 50%;\n",
              "        cursor: pointer;\n",
              "        display: none;\n",
              "        fill: #1967D2;\n",
              "        height: 32px;\n",
              "        padding: 0 0 0 0;\n",
              "        width: 32px;\n",
              "      }\n",
              "\n",
              "      .colab-df-generate:hover {\n",
              "        background-color: #E2EBFA;\n",
              "        box-shadow: 0px 1px 2px rgba(60, 64, 67, 0.3), 0px 1px 3px 1px rgba(60, 64, 67, 0.15);\n",
              "        fill: #174EA6;\n",
              "      }\n",
              "\n",
              "      [theme=dark] .colab-df-generate {\n",
              "        background-color: #3B4455;\n",
              "        fill: #D2E3FC;\n",
              "      }\n",
              "\n",
              "      [theme=dark] .colab-df-generate:hover {\n",
              "        background-color: #434B5C;\n",
              "        box-shadow: 0px 1px 3px 1px rgba(0, 0, 0, 0.15);\n",
              "        filter: drop-shadow(0px 1px 2px rgba(0, 0, 0, 0.3));\n",
              "        fill: #FFFFFF;\n",
              "      }\n",
              "    </style>\n",
              "    <button class=\"colab-df-generate\" onclick=\"generateWithVariable('news')\"\n",
              "            title=\"Generate code using this dataframe.\"\n",
              "            style=\"display:none;\">\n",
              "\n",
              "  <svg xmlns=\"http://www.w3.org/2000/svg\" height=\"24px\"viewBox=\"0 0 24 24\"\n",
              "       width=\"24px\">\n",
              "    <path d=\"M7,19H8.4L18.45,9,17,7.55,7,17.6ZM5,21V16.75L18.45,3.32a2,2,0,0,1,2.83,0l1.4,1.43a1.91,1.91,0,0,1,.58,1.4,1.91,1.91,0,0,1-.58,1.4L9.25,21ZM18.45,9,17,7.55Zm-12,3A5.31,5.31,0,0,0,4.9,8.1,5.31,5.31,0,0,0,1,6.5,5.31,5.31,0,0,0,4.9,4.9,5.31,5.31,0,0,0,6.5,1,5.31,5.31,0,0,0,8.1,4.9,5.31,5.31,0,0,0,12,6.5,5.46,5.46,0,0,0,6.5,12Z\"/>\n",
              "  </svg>\n",
              "    </button>\n",
              "    <script>\n",
              "      (() => {\n",
              "      const buttonEl =\n",
              "        document.querySelector('#id_42299080-afac-4fa2-ab4b-c83ac12641c0 button.colab-df-generate');\n",
              "      buttonEl.style.display =\n",
              "        google.colab.kernel.accessAllowed ? 'block' : 'none';\n",
              "\n",
              "      buttonEl.onclick = () => {\n",
              "        google.colab.notebook.generateWithVariable('news');\n",
              "      }\n",
              "      })();\n",
              "    </script>\n",
              "  </div>\n",
              "\n",
              "    </div>\n",
              "  </div>\n"
            ],
            "application/vnd.google.colaboratory.intrinsic+json": {
              "type": "dataframe",
              "variable_name": "news",
              "summary": "{\n  \"name\": \"news\",\n  \"rows\": 882,\n  \"fields\": [\n    {\n      \"column\": \"tokoh\",\n      \"properties\": {\n        \"dtype\": \"category\",\n        \"num_unique_values\": 8,\n        \"samples\": [\n          \"jokowi dodo\",\n          \"maudy ayunda\",\n          \"anies baswedan\"\n        ],\n        \"semantic_type\": \"\",\n        \"description\": \"\"\n      }\n    },\n    {\n      \"column\": \"title\",\n      \"properties\": {\n        \"dtype\": \"string\",\n        \"num_unique_values\": 836,\n        \"samples\": [\n          \"Mudahnya Menghakimi Maudy Ayunda\",\n          \"PN Jakpus Putuskan Tunda Pemilu, Gerindra Jatim: Jauh Dekat Kami Siap\",\n          \"Syahrini Ingatkan Hati-hati Bermedia Sosial\"\n        ],\n        \"semantic_type\": \"\",\n        \"description\": \"\"\n      }\n    },\n    {\n      \"column\": \"description\",\n      \"properties\": {\n        \"dtype\": \"string\",\n        \"num_unique_values\": 836,\n        \"samples\": [\n          \"\\\\-\\n\\nApakah juru bicara boleh salah? Pertanyaan ini mungkin bisa kita jawab dengan\\nberbagai versi. Namun dari pengalaman saya yang juga sangat terbatas, paling\\ntidak juru bicara memang tidak harus selalu benar.\\n\\nMungkin ada yang berpikir itu aneh, tetapi memang begitu kenyataannya. Jika\\njuru bicara salah, maka otoritas yang lebih tinggi dapat mengklarifikasinya.\\nOtoritas lebih tinggi salah bisa diklarifikasi yang berada di atasnya lagi.\\nNamun bila otoritas tertinggi yang salah, siapa yang akan mengklarifikasi?\\nMaka dari itu, juru bicara memiliki fungsi penting sebagai bamper depan.\\n\\nJuru bicara hanya menyampaikan informasi apa yang sudah diberikan. Lewat\\npersona dan skill retorika, tugas utamanya adalah melakukan persuasi kepada\\npublik dengan berbagai pesan kunci. Yang terpenting diingat, keputusan dan\\nkebijakan apapun tidak berada di tangan Juru Bicara.\\n\\nTerkadang, jubir harus berhadapan dengan situasi yang tidak selalu ideal.\\nTidak selalu informasi tersedia. Bahkan, beberapa pertanyaan sensitif memang\\ndiskenariokan untuk dijawab langsung oleh otoritas yang lebih tinggi. Selalu\\nada playbook memandu permainan.\\n\\nPemahaman mengenai isu politik terkini tentunya sangat penting, namun namanya\\nanalisis tidak akan selalu sesuai dengan kenyataan. Apalagi, kita sering\\nberhadapan dengan situasi yang begitu mudah berubah. Maka, ruang bagi juru\\nbicara untuk melakukan kesalahan sangat terbuka.\\n\\nEks Juru Bicara Presiden Presiden Abdurahman Wahid, (alm.) Wimar Witoelar,\\npernah berkata modal utama bagi seorang Juru Bicara adalah memahami cara\\npandang dari orang yang dijubirinya. Wimar bukan hanya paham cara berpikir Gus\\nDur, namun juga menggunakan sepatu yang sama dalam spektrum ideologis,\\nterutama dalam hal toleransi, kebebasan berpendapat, dan demokrasi.\\n\\nBerbagai pertanyaan media pun ketika itu dibabat habis, bahkan tanpa harus\\nmenunggu informasi utuh dari Presiden, yang pasti memiliki keterbatasan waktu\\nuntuk mengikuti setiap detail permasalahan. Untuk sampai ke level Wimar,\\npengalaman memang dibutuhkan. Namun, apa itu pengalaman? Melakukan satu\\nkesalahan, kemudian memperbaikinya, lalu menjadi lebih baik, dan semakin baik.\\n\\nWaktu menjadi Ketua PPI Britania Raya dan mahasiswa di Imperial College\\nLondon, saya pernah bertemu dengan Maudy Ayunda. Reputasinya sangat kuat\\nsebagai wajah anak muda ideal Indonesia, bahkan dia pernah mendampingi PM UK\\nDavid Cameroon ketika blusukan makan di kaki lima Jakarta. Tantangan sebagai\\nJuru Bicara G-20 seharusnya bukan sesuatu yang terlalu jauh dari perjalanan\\nyang sudah dilalui Maudy.\\n\\nSebagaimana yang sempat saya utarakan di awal, memang Jubir boleh melakukan\\nkesalahan, yang tidak boleh dilakukan oleh juru bicara adalah berbohong. Maudy\\nmemang belum terlalu kenal dengan ekosistem media yang dihadapinya, yang mana\\nitu sangat wajar. Jurnalis hiburan yang biasa dihadapi Maudy sangat berbeda\\nkulturnya dengan jurnalis politik, apalagi jurnalis yang berfokus pada global\\npolitics. Maudy tentu butuh waktu beradaptasi.\\n\\nPertanyaan yang diajukan pada Maudy merupakan isu yang sangat sensitif, yakni\\nmengenai perang Rusia-Ukraina dan kedatangan Presiden Putin ke Bali. Dunia\\nsedang terbelah dalam isu ini. Presiden Jokowi pun menghimbau jajarannya untuk\\nbenar-benar berhitung dampak dari ketegangan ini.\\n\\nBisa jadi, memang belum ada keputusan apa-apa mengenai isu yang ditanyakan.\\nTugas jubir bukan untuk menyampaikan pikirannya, namun hanya sebatas bicara\\ninformasi yang dapat dipublikasi dari sebuah lembaga.\\n\\nSaya yakin momentum ini akan menjadi titik balik bagi Maudy menunjukkan\\nkapasitasnya dalam ajang Presidensi G-20. Menurut saya, ini bukan hanya\\nkesempatan bagi Maudy, namun juga kesempatan bagi anak muda Indonesia.\\n\\nSiapapun bisa terpeleset, namun bukan berarti harus dihakimi sebagai \\\"gimmick\\\"\\natau pengalihan isu. Tuduhan semacam ini sangat menyedihkan, namun itu lah\\nkonsekuensinya menjadi bagian dari negara, kritik tentu tidak terhindar,\\nmemang begitu nature-nya.\\n\\nSeorang Jubir bukanlah mesin pencari informasi, tidak semua persoalan dia\\npunya jawabannya. Meski seseorang yang paham geopolitik internasional\\nsekalipun, tetap saja akan butuh waktu untuk melakukan kesalahan. Sebagai\\nStaff Khusus Bidang Komunikasi Mensesneg yang tidak punya pengalaman\\npemerintahan, saya pun dapat paham apa yang dihadapi Maudy.\\n\\nSaat ini, Maudy dan tim sedang bekerja. Apapun respon publik merupakan harapan\\nyang besar untuk mengharumkan nama bangsa. _Recover together, recover\\nstronger._\\n\\n_Staf Khusus Menteri Sekretaris Negara Bidang Komunikasi dan Media_\\n\\n[Gambas:Video 20detik]\\n\\n  \\n  \\n\\n \",\n          \"\\\\-\\n\\nPengadilan Negeri (PN) Jakarta Pusat (Jakpus) yang meminta ke KPU agar tahapan\\nPemilu ditunda. DPD Gerindra Jawa Timur angkat bicara terkait putusan\\ntersebut.\\n\\nBendahara DPD Gerindra Jatim M Fawait menyatakan pihaknya akan sami'na\\nwaatho'nah terhadap sikap dan keputusan DPP Gerindra. Namun ia mewanti-wanti\\nsemua pihak tidak bertentangan dengan Undang-Undang.\\n\\n\\\"Kalau kami menyerahkan sepenuhnya pada keputusan DPP Gerindra. Kami yakin\\nbahwa semua pihak akan mematuhi aturan yang ada, termasuk tidak mungkin\\nmembuat aturan yang bertentangan dengan aturan UUD 1945,\\\" kata Fawait kepada ,\\nMinggu (5/3/2023).\\n\\nPria yang akrab disapa Gus Fawait ini menyatakan gaduh keputusan PN Jakpus\\ntersebut tidak akan menganggu persiapan partainya di Jatim. Pihaknya selalu\\nsiap kapanpun pemilihan umum akan digelar.\\n\\n\\\"Kami di Fraksi Gerindra Jatim tidak mau melihat kegaduhan ini bisa membuat\\nsemangat kendor, bagi kami pemilu mau dekat atau jauh semua kami siap,\\\"\\nkatanya.\\n\\n\\\"Dan anggota Fraksi Gerindra Jatim sesuai pesan ketum Pak Prabowo akan selalu\\nhadir di tengah masyarakat, dan menjadi solusi ketika masyarakat punya masalah\\nitu yang akan membuat Gerindra akan selalu ada di hati masyarakat Jatim dan\\nkami yakin akan menang di pileg mendatang, dan mengantar Pak Prabowo\\nPresiden,\\\" sambungnya.\\n\\nKetua Fraksi Gerindra DPRD Jatim ini menyatakan kader di Jatim tetap tancap\\ngas apapun keputusan yang terjadi ke depan. Utamanya kader akan bekerja keras\\nmenekan angka kemiskinan di Jatim.\\n\\n\\\"Terkait gaduh putusan PN Jakpus kami menyerahkan sepenuhnya ke DPP Gerindra,\\nkami akan konsolidasi dan menyapa masyarakat sesuai pesan ketum,\\\" jelasnya.\\n\\n'Tugas Fraksi Gerindra membantu pengentasan kemiskinan di mana di Jatim masih\\nmemiliki pekerjaan rumah kemiskinan yang angkanya di atas rata-rata nasional,\\ndan tugas kami mengawal kebijakan Bu Gubernur (Khofifah Indar Parawansa) yang\\npro rakyat,\\\" tandasnya.\\n\\n  \\n  \\n  \\n[Gambas:Video 20detik]  \\n\\n \",\n          \"\\\\-\\n\\nSyahrini telah selesai menjadi saksi laporannya terkait kasus pencemaran nama\\nbaik. Ia lalu memberikan pesan kepada khalayak dalam main media sosial.\\n\\nSyahrini diketahui jadi korban fitnah di Instagram. Ada netizen yang menyebar\\nhoax video porno yang mirip dirinya.\\n\\nPelantun Cintaku Kandas itu meminta masyarakat berhati-hati dalam main media\\nsosial. Ia mau mereka semua taati aturan dan perhatikan norma.\\n\\n\\\"Jadi hari ini saya datang untuk memperingati agar hati-hati dalam bermain\\nmedia sosial, lebih bijaksana,\\\" ujar Syahrini di Pengadilan Negeri Jakarta\\nSelatan, Ampera, Jakarta Selatan, Rabu (4/11/2020).\\n\\nSyahrini berani bertindak melaporkan warganet usai saran dari suaminya, Reino\\nBarack. Ia pun mengikuti keinginan Reino karena merasa sekarang sudah berumah\\ntangga.\\n\\n\\\"Kalau selama 11 tahun saya diam tak bereaksi ketika saya single, saya\\ndibully, saya difitnah saya tidak merespon apa pun. Tapi saat ini semuanya\\nsudah berbeda, saya sudah berumah tangga, saya memiliki keluarga dari pihak\\nsuami yang terganggu atas pemberitaan yang memfitnah saya, melecehkan saya\\nsetiap hari, akun Instagram itu isinya hanya untuk membully saya dan mamah\\nsaya,\\\" tutur Syahrini.\\n\\nSyahrini mengaku bersalah selama ini diam hadapi fitnah warganet. Ia juga kini\\nmengambil tindakan lantaran dirasa sudah sangat fatal.\\n\\n\\\"Jadi saya diam selama ini adalah salah dan tidak baik. Menurut suami saya,\\nsudah waktu saya bertindak karena ini sudah keterlaluan,\\\" kata Syahrini.\\n\\nSyahrini diketahui melaporkan MS yang telah membuat hoax video syur. Laporan\\nitu dilayangkan pada 12 Mei 2020.\\n\\nDalam laporan tersebut, MS dikenakan Pasal 27 Ayat 1 Jo Pasal 45 Ayat 1 dan\\natau Pasal 27 Ayat 3 Jo Pasal 45 Ayat 3 UU RI Nomor 19 tahun 2016 tentang ITE.\\nJuga Pasal 4 Ayat 1 UU RI Nomor 44 tahun 2008 tentang pornografi dan atau\\nPasal 310 KUHP dan atau 311 KUHP.\\n\\n \"\n        ],\n        \"semantic_type\": \"\",\n        \"description\": \"\"\n      }\n    },\n    {\n      \"column\": \"Rev1_label\",\n      \"properties\": {\n        \"dtype\": \"number\",\n        \"std\": 0,\n        \"min\": -1,\n        \"max\": 1,\n        \"num_unique_values\": 3,\n        \"samples\": [\n          1,\n          -1,\n          0\n        ],\n        \"semantic_type\": \"\",\n        \"description\": \"\"\n      }\n    },\n    {\n      \"column\": \"text\",\n      \"properties\": {\n        \"dtype\": \"string\",\n        \"num_unique_values\": 836,\n        \"samples\": [\n          \"Mudahnya Menghakimi Maudy Ayunda \\\\-\\n\\nApakah juru bicara boleh salah? Pertanyaan ini mungkin bisa kita jawab dengan\\nberbagai versi. Namun dari pengalaman saya yang juga sangat terbatas, paling\\ntidak juru bicara memang tidak harus selalu benar.\\n\\nMungkin ada yang berpikir itu aneh, tetapi memang begitu kenyataannya. Jika\\njuru bicara salah, maka otoritas yang lebih tinggi dapat mengklarifikasinya.\\nOtoritas lebih tinggi salah bisa diklarifikasi yang berada di atasnya lagi.\\nNamun bila otoritas tertinggi yang salah, siapa yang akan mengklarifikasi?\\nMaka dari itu, juru bicara memiliki fungsi penting sebagai bamper depan.\\n\\nJuru bicara hanya menyampaikan informasi apa yang sudah diberikan. Lewat\\npersona dan skill retorika, tugas utamanya adalah melakukan persuasi kepada\\npublik dengan berbagai pesan kunci. Yang terpenting diingat, keputusan dan\\nkebijakan apapun tidak berada di tangan Juru Bicara.\\n\\nTerkadang, jubir harus berhadapan dengan situasi yang tidak selalu ideal.\\nTidak selalu informasi tersedia. Bahkan, beberapa pertanyaan sensitif memang\\ndiskenariokan untuk dijawab langsung oleh otoritas yang lebih tinggi. Selalu\\nada playbook memandu permainan.\\n\\nPemahaman mengenai isu politik terkini tentunya sangat penting, namun namanya\\nanalisis tidak akan selalu sesuai dengan kenyataan. Apalagi, kita sering\\nberhadapan dengan situasi yang begitu mudah berubah. Maka, ruang bagi juru\\nbicara untuk melakukan kesalahan sangat terbuka.\\n\\nEks Juru Bicara Presiden Presiden Abdurahman Wahid, (alm.) Wimar Witoelar,\\npernah berkata modal utama bagi seorang Juru Bicara adalah memahami cara\\npandang dari orang yang dijubirinya. Wimar bukan hanya paham cara berpikir Gus\\nDur, namun juga menggunakan sepatu yang sama dalam spektrum ideologis,\\nterutama dalam hal toleransi, kebebasan berpendapat, dan demokrasi.\\n\\nBerbagai pertanyaan media pun ketika itu dibabat habis, bahkan tanpa harus\\nmenunggu informasi utuh dari Presiden, yang pasti memiliki keterbatasan waktu\\nuntuk mengikuti setiap detail permasalahan. Untuk sampai ke level Wimar,\\npengalaman memang dibutuhkan. Namun, apa itu pengalaman? Melakukan satu\\nkesalahan, kemudian memperbaikinya, lalu menjadi lebih baik, dan semakin baik.\\n\\nWaktu menjadi Ketua PPI Britania Raya dan mahasiswa di Imperial College\\nLondon, saya pernah bertemu dengan Maudy Ayunda. Reputasinya sangat kuat\\nsebagai wajah anak muda ideal Indonesia, bahkan dia pernah mendampingi PM UK\\nDavid Cameroon ketika blusukan makan di kaki lima Jakarta. Tantangan sebagai\\nJuru Bicara G-20 seharusnya bukan sesuatu yang terlalu jauh dari perjalanan\\nyang sudah dilalui Maudy.\\n\\nSebagaimana yang sempat saya utarakan di awal, memang Jubir boleh melakukan\\nkesalahan, yang tidak boleh dilakukan oleh juru bicara adalah berbohong. Maudy\\nmemang belum terlalu kenal dengan ekosistem media yang dihadapinya, yang mana\\nitu sangat wajar. Jurnalis hiburan yang biasa dihadapi Maudy sangat berbeda\\nkulturnya dengan jurnalis politik, apalagi jurnalis yang berfokus pada global\\npolitics. Maudy tentu butuh waktu beradaptasi.\\n\\nPertanyaan yang diajukan pada Maudy merupakan isu yang sangat sensitif, yakni\\nmengenai perang Rusia-Ukraina dan kedatangan Presiden Putin ke Bali. Dunia\\nsedang terbelah dalam isu ini. Presiden Jokowi pun menghimbau jajarannya untuk\\nbenar-benar berhitung dampak dari ketegangan ini.\\n\\nBisa jadi, memang belum ada keputusan apa-apa mengenai isu yang ditanyakan.\\nTugas jubir bukan untuk menyampaikan pikirannya, namun hanya sebatas bicara\\ninformasi yang dapat dipublikasi dari sebuah lembaga.\\n\\nSaya yakin momentum ini akan menjadi titik balik bagi Maudy menunjukkan\\nkapasitasnya dalam ajang Presidensi G-20. Menurut saya, ini bukan hanya\\nkesempatan bagi Maudy, namun juga kesempatan bagi anak muda Indonesia.\\n\\nSiapapun bisa terpeleset, namun bukan berarti harus dihakimi sebagai \\\"gimmick\\\"\\natau pengalihan isu. Tuduhan semacam ini sangat menyedihkan, namun itu lah\\nkonsekuensinya menjadi bagian dari negara, kritik tentu tidak terhindar,\\nmemang begitu nature-nya.\\n\\nSeorang Jubir bukanlah mesin pencari informasi, tidak semua persoalan dia\\npunya jawabannya. Meski seseorang yang paham geopolitik internasional\\nsekalipun, tetap saja akan butuh waktu untuk melakukan kesalahan. Sebagai\\nStaff Khusus Bidang Komunikasi Mensesneg yang tidak punya pengalaman\\npemerintahan, saya pun dapat paham apa yang dihadapi Maudy.\\n\\nSaat ini, Maudy dan tim sedang bekerja. Apapun respon publik merupakan harapan\\nyang besar untuk mengharumkan nama bangsa. _Recover together, recover\\nstronger._\\n\\n_Staf Khusus Menteri Sekretaris Negara Bidang Komunikasi dan Media_\\n\\n[Gambas:Video 20detik]\\n\\n  \\n  \\n\\n \",\n          \"PN Jakpus Putuskan Tunda Pemilu, Gerindra Jatim: Jauh Dekat Kami Siap \\\\-\\n\\nPengadilan Negeri (PN) Jakarta Pusat (Jakpus) yang meminta ke KPU agar tahapan\\nPemilu ditunda. DPD Gerindra Jawa Timur angkat bicara terkait putusan\\ntersebut.\\n\\nBendahara DPD Gerindra Jatim M Fawait menyatakan pihaknya akan sami'na\\nwaatho'nah terhadap sikap dan keputusan DPP Gerindra. Namun ia mewanti-wanti\\nsemua pihak tidak bertentangan dengan Undang-Undang.\\n\\n\\\"Kalau kami menyerahkan sepenuhnya pada keputusan DPP Gerindra. Kami yakin\\nbahwa semua pihak akan mematuhi aturan yang ada, termasuk tidak mungkin\\nmembuat aturan yang bertentangan dengan aturan UUD 1945,\\\" kata Fawait kepada ,\\nMinggu (5/3/2023).\\n\\nPria yang akrab disapa Gus Fawait ini menyatakan gaduh keputusan PN Jakpus\\ntersebut tidak akan menganggu persiapan partainya di Jatim. Pihaknya selalu\\nsiap kapanpun pemilihan umum akan digelar.\\n\\n\\\"Kami di Fraksi Gerindra Jatim tidak mau melihat kegaduhan ini bisa membuat\\nsemangat kendor, bagi kami pemilu mau dekat atau jauh semua kami siap,\\\"\\nkatanya.\\n\\n\\\"Dan anggota Fraksi Gerindra Jatim sesuai pesan ketum Pak Prabowo akan selalu\\nhadir di tengah masyarakat, dan menjadi solusi ketika masyarakat punya masalah\\nitu yang akan membuat Gerindra akan selalu ada di hati masyarakat Jatim dan\\nkami yakin akan menang di pileg mendatang, dan mengantar Pak Prabowo\\nPresiden,\\\" sambungnya.\\n\\nKetua Fraksi Gerindra DPRD Jatim ini menyatakan kader di Jatim tetap tancap\\ngas apapun keputusan yang terjadi ke depan. Utamanya kader akan bekerja keras\\nmenekan angka kemiskinan di Jatim.\\n\\n\\\"Terkait gaduh putusan PN Jakpus kami menyerahkan sepenuhnya ke DPP Gerindra,\\nkami akan konsolidasi dan menyapa masyarakat sesuai pesan ketum,\\\" jelasnya.\\n\\n'Tugas Fraksi Gerindra membantu pengentasan kemiskinan di mana di Jatim masih\\nmemiliki pekerjaan rumah kemiskinan yang angkanya di atas rata-rata nasional,\\ndan tugas kami mengawal kebijakan Bu Gubernur (Khofifah Indar Parawansa) yang\\npro rakyat,\\\" tandasnya.\\n\\n  \\n  \\n  \\n[Gambas:Video 20detik]  \\n\\n \",\n          \"Syahrini Ingatkan Hati-hati Bermedia Sosial \\\\-\\n\\nSyahrini telah selesai menjadi saksi laporannya terkait kasus pencemaran nama\\nbaik. Ia lalu memberikan pesan kepada khalayak dalam main media sosial.\\n\\nSyahrini diketahui jadi korban fitnah di Instagram. Ada netizen yang menyebar\\nhoax video porno yang mirip dirinya.\\n\\nPelantun Cintaku Kandas itu meminta masyarakat berhati-hati dalam main media\\nsosial. Ia mau mereka semua taati aturan dan perhatikan norma.\\n\\n\\\"Jadi hari ini saya datang untuk memperingati agar hati-hati dalam bermain\\nmedia sosial, lebih bijaksana,\\\" ujar Syahrini di Pengadilan Negeri Jakarta\\nSelatan, Ampera, Jakarta Selatan, Rabu (4/11/2020).\\n\\nSyahrini berani bertindak melaporkan warganet usai saran dari suaminya, Reino\\nBarack. Ia pun mengikuti keinginan Reino karena merasa sekarang sudah berumah\\ntangga.\\n\\n\\\"Kalau selama 11 tahun saya diam tak bereaksi ketika saya single, saya\\ndibully, saya difitnah saya tidak merespon apa pun. Tapi saat ini semuanya\\nsudah berbeda, saya sudah berumah tangga, saya memiliki keluarga dari pihak\\nsuami yang terganggu atas pemberitaan yang memfitnah saya, melecehkan saya\\nsetiap hari, akun Instagram itu isinya hanya untuk membully saya dan mamah\\nsaya,\\\" tutur Syahrini.\\n\\nSyahrini mengaku bersalah selama ini diam hadapi fitnah warganet. Ia juga kini\\nmengambil tindakan lantaran dirasa sudah sangat fatal.\\n\\n\\\"Jadi saya diam selama ini adalah salah dan tidak baik. Menurut suami saya,\\nsudah waktu saya bertindak karena ini sudah keterlaluan,\\\" kata Syahrini.\\n\\nSyahrini diketahui melaporkan MS yang telah membuat hoax video syur. Laporan\\nitu dilayangkan pada 12 Mei 2020.\\n\\nDalam laporan tersebut, MS dikenakan Pasal 27 Ayat 1 Jo Pasal 45 Ayat 1 dan\\natau Pasal 27 Ayat 3 Jo Pasal 45 Ayat 3 UU RI Nomor 19 tahun 2016 tentang ITE.\\nJuga Pasal 4 Ayat 1 UU RI Nomor 44 tahun 2008 tentang pornografi dan atau\\nPasal 310 KUHP dan atau 311 KUHP.\\n\\n \"\n        ],\n        \"semantic_type\": \"\",\n        \"description\": \"\"\n      }\n    },\n    {\n      \"column\": \"case_folding\",\n      \"properties\": {\n        \"dtype\": \"string\",\n        \"num_unique_values\": 836,\n        \"samples\": [\n          \"mudahnya menghakimi maudy ayunda apakah juru bicara boleh salah pertanyaan ini mungkin bisa kita jawab dengan berbagai versi namun dari pengalaman saya yang juga sangat terbatas paling tidak juru bicara memang tidak harus selalu benar mungkin ada yang berpikir itu aneh tetapi memang begitu kenyataannya jika juru bicara salah maka otoritas yang lebih tinggi dapat mengklarifikasinya otoritas lebih tinggi salah bisa diklarifikasi yang berada di atasnya lagi namun bila otoritas tertinggi yang salah siapa yang akan mengklarifikasi maka dari itu juru bicara memiliki fungsi penting sebagai bamper depan juru bicara hanya menyampaikan informasi apa yang sudah diberikan lewat persona dan skill retorika tugas utamanya adalah melakukan persuasi kepada publik dengan berbagai pesan kunci yang terpenting diingat keputusan dan kebijakan apapun tidak berada di tangan juru bicara terkadang jubir harus berhadapan dengan situasi yang tidak selalu ideal tidak selalu informasi tersedia bahkan beberapa pertanyaan sensitif memang diskenariokan untuk dijawab langsung oleh otoritas yang lebih tinggi selalu ada playbook memandu permainan pemahaman mengenai isu politik terkini tentunya sangat penting namun namanya analisis tidak akan selalu sesuai dengan kenyataan apalagi kita sering berhadapan dengan situasi yang begitu mudah berubah maka ruang bagi juru bicara untuk melakukan kesalahan sangat terbuka eks juru bicara presiden presiden abdurahman wahid alm wimar witoelar pernah berkata modal utama bagi seorang juru bicara adalah memahami cara pandang dari orang yang dijubirinya wimar bukan hanya paham cara berpikir gus dur namun juga menggunakan sepatu yang sama dalam spektrum ideologis terutama dalam hal toleransi kebebasan berpendapat dan demokrasi berbagai pertanyaan media pun ketika itu dibabat habis bahkan tanpa harus menunggu informasi utuh dari presiden yang pasti memiliki keterbatasan waktu untuk mengikuti setiap detail permasalahan untuk sampai ke level wimar pengalaman memang dibutuhkan namun apa itu pengalaman melakukan satu kesalahan kemudian memperbaikinya lalu menjadi lebih baik dan semakin baik waktu menjadi ketua ppi britania raya dan mahasiswa di imperial college london saya pernah bertemu dengan maudy ayunda reputasinya sangat kuat sebagai wajah anak muda ideal indonesia bahkan dia pernah mendampingi pm uk david cameroon ketika blusukan makan di kaki lima jakarta tantangan sebagai juru bicara seharusnya bukan sesuatu yang terlalu jauh dari perjalanan yang sudah dilalui maudy sebagaimana yang sempat saya utarakan di awal memang jubir boleh melakukan kesalahan yang tidak boleh dilakukan oleh juru bicara adalah berbohong maudy memang belum terlalu kenal dengan ekosistem media yang dihadapinya yang mana itu sangat wajar jurnalis hiburan yang biasa dihadapi maudy sangat berbeda kulturnya dengan jurnalis politik apalagi jurnalis yang berfokus pada global politics maudy tentu butuh waktu beradaptasi pertanyaan yang diajukan pada maudy merupakan isu yang sangat sensitif yakni mengenai perang rusia ukraina dan kedatangan presiden putin ke bali dunia sedang terbelah dalam isu ini presiden jokowi pun menghimbau jajarannya untuk benar benar berhitung dampak dari ketegangan ini bisa jadi memang belum ada keputusan apa apa mengenai isu yang ditanyakan tugas jubir bukan untuk menyampaikan pikirannya namun hanya sebatas bicara informasi yang dapat dipublikasi dari sebuah lembaga saya yakin momentum ini akan menjadi titik balik bagi maudy menunjukkan kapasitasnya dalam ajang presidensi menurut saya ini bukan hanya kesempatan bagi maudy namun juga kesempatan bagi anak muda indonesia siapapun bisa terpeleset namun bukan berarti harus dihakimi sebagai gimmick atau pengalihan isu tuduhan semacam ini sangat menyedihkan namun itu lah konsekuensinya menjadi bagian dari negara kritik tentu tidak terhindar memang begitu nature nya seorang jubir bukanlah mesin pencari informasi tidak semua persoalan dia punya jawabannya meski seseorang yang paham geopolitik internasional sekalipun tetap saja akan butuh waktu untuk melakukan kesalahan sebagai staff khusus bidang komunikasi mensesneg yang tidak punya pengalaman pemerintahan saya pun dapat paham apa yang dihadapi maudy saat ini maudy dan tim sedang bekerja apapun respon publik merupakan harapan yang besar untuk mengharumkan nama bangsa recover together recover stronger staf khusus menteri sekretaris negara bidang komunikasi dan media gambas video detik \",\n          \"pn jakpus putuskan tunda pemilu gerindra jatim jauh dekat kami siap pengadilan negeri pn jakarta pusat jakpus yang meminta ke kpu agar tahapan pemilu ditunda dpd gerindra jawa timur angkat bicara terkait putusan tersebut bendahara dpd gerindra jatim fawait menyatakan pihaknya akan sami na waatho nah terhadap sikap dan keputusan dpp gerindra namun ia mewanti wanti semua pihak tidak bertentangan dengan undang undang kalau kami menyerahkan sepenuhnya pada keputusan dpp gerindra kami yakin bahwa semua pihak akan mematuhi aturan yang ada termasuk tidak mungkin membuat aturan yang bertentangan dengan aturan uud kata fawait kepada minggu pria yang akrab disapa gus fawait ini menyatakan gaduh keputusan pn jakpus tersebut tidak akan menganggu persiapan partainya di jatim pihaknya selalu siap kapanpun pemilihan umum akan digelar kami di fraksi gerindra jatim tidak mau melihat kegaduhan ini bisa membuat semangat kendor bagi kami pemilu mau dekat atau jauh semua kami siap katanya dan anggota fraksi gerindra jatim sesuai pesan ketum pak prabowo akan selalu hadir di tengah masyarakat dan menjadi solusi ketika masyarakat punya masalah itu yang akan membuat gerindra akan selalu ada di hati masyarakat jatim dan kami yakin akan menang di pileg mendatang dan mengantar pak prabowo presiden sambungnya ketua fraksi gerindra dprd jatim ini menyatakan kader di jatim tetap tancap gas apapun keputusan yang terjadi ke depan utamanya kader akan bekerja keras menekan angka kemiskinan di jatim terkait gaduh putusan pn jakpus kami menyerahkan sepenuhnya ke dpp gerindra kami akan konsolidasi dan menyapa masyarakat sesuai pesan ketum jelasnya tugas fraksi gerindra membantu pengentasan kemiskinan di mana di jatim masih memiliki pekerjaan rumah kemiskinan yang angkanya di atas rata rata nasional dan tugas kami mengawal kebijakan bu gubernur khofifah indar parawansa yang pro rakyat tandasnya gambas video detik \",\n          \"syahrini ingatkan hati hati bermedia sosial syahrini telah selesai menjadi saksi laporannya terkait kasus pencemaran nama baik ia lalu memberikan pesan kepada khalayak dalam main media sosial syahrini diketahui jadi korban fitnah di instagram ada netizen yang menyebar hoax video porno yang mirip dirinya pelantun cintaku kandas itu meminta masyarakat berhati hati dalam main media sosial ia mau mereka semua taati aturan dan perhatikan norma jadi hari ini saya datang untuk memperingati agar hati hati dalam bermain media sosial lebih bijaksana ujar syahrini di pengadilan negeri jakarta selatan ampera jakarta selatan rabu syahrini berani bertindak melaporkan warganet usai saran dari suaminya reino barack ia pun mengikuti keinginan reino karena merasa sekarang sudah berumah tangga kalau selama tahun saya diam tak bereaksi ketika saya single saya dibully saya difitnah saya tidak merespon apa pun tapi saat ini semuanya sudah berbeda saya sudah berumah tangga saya memiliki keluarga dari pihak suami yang terganggu atas pemberitaan yang memfitnah saya melecehkan saya setiap hari akun instagram itu isinya hanya untuk membully saya dan mamah saya tutur syahrini syahrini mengaku bersalah selama ini diam hadapi fitnah warganet ia juga kini mengambil tindakan lantaran dirasa sudah sangat fatal jadi saya diam selama ini adalah salah dan tidak baik menurut suami saya sudah waktu saya bertindak karena ini sudah keterlaluan kata syahrini syahrini diketahui melaporkan ms yang telah membuat hoax video syur laporan itu dilayangkan pada mei dalam laporan tersebut ms dikenakan pasal ayat jo pasal ayat dan atau pasal ayat jo pasal ayat uu ri nomor tahun tentang ite juga pasal ayat uu ri nomor tahun tentang pornografi dan atau pasal kuhp dan atau kuhp \"\n        ],\n        \"semantic_type\": \"\",\n        \"description\": \"\"\n      }\n    },\n    {\n      \"column\": \"tokenizing\",\n      \"properties\": {\n        \"dtype\": \"object\",\n        \"semantic_type\": \"\",\n        \"description\": \"\"\n      }\n    },\n    {\n      \"column\": \"stopword_removal\",\n      \"properties\": {\n        \"dtype\": \"object\",\n        \"semantic_type\": \"\",\n        \"description\": \"\"\n      }\n    },\n    {\n      \"column\": \"stemming\",\n      \"properties\": {\n        \"dtype\": \"object\",\n        \"semantic_type\": \"\",\n        \"description\": \"\"\n      }\n    },\n    {\n      \"column\": \"stemming_all_string\",\n      \"properties\": {\n        \"dtype\": \"string\",\n        \"num_unique_values\": 836,\n        \"samples\": [\n          \"mudah,hakim,maudy,ayunda,juru,bicara,salah,versi,alam,batas,juru,bicara,pikir,aneh,nyata,juru,bicara,salah,otoritas,klarifikasi,otoritas,salah,klarifikasi,atas,otoritas,tinggi,salah,klarifikasi,juru,bicara,milik,fungsi,bamper,juru,bicara,informasi,persona,skill,retorika,tugas,utama,persuasi,publik,pesan,kunci,penting,putus,bijak,apa,tangan,juru,bicara,terkadang,jubir,hadap,situasi,ideal,informasi,sedia,sensitif,skenario,langsung,otoritas,playbook,pandu,main,paham,isu,politik,kini,nama,analisis,sesuai,nyata,hadap,situasi,mudah,ubah,ruang,juru,bicara,salah,buka,eks,juru,bicara,presiden,presiden,abdurahman,wahid,alm,wimar,witoelar,modal,utama,juru,bicara,paham,pandang,orang,dijubirinya,wimar,paham,pikir,gus,dur,sepatu,spektrum,ideologis,toleransi,bebas,dapat,demokrasi,media,babat,habis,tunggu,informasi,utuh,presiden,milik,batas,ikut,detail,masalah,level,wimar,alam,butuh,alam,salah,baik,ketua,ppi,britania,raya,mahasiswa,imperial,college,london,temu,maudy,ayunda,reputasi,kuat,wajah,anak,muda,ideal,indonesia,damping,pm,uk,david,cameroon,blusukan,makan,kaki,jakarta,tantang,juru,bicara,jalan,maudy,utara,jubir,salah,juru,bicara,bohong,maudy,kenal,ekosistem,media,hadap,wajar,jurnalis,hibur,hadap,maudy,beda,kultur,jurnalis,politik,jurnalis,fokus,global,politics,maudy,butuh,adaptasi,aju,maudy,isu,sensitif,perang,rusia,ukraina,datang,presiden,putin,bal,dunia,belah,isu,presiden,jokowi,menghimbau,jajar,hitung,dampak,tegang,putus,isu,tugas,jubir,pikir,batas,bicara,informasi,publikasi,lembaga,momentum,titik,maudy,kapasitas,ajang,presidensi,sempat,maudy,sempat,anak,muda,indonesia,peleset,hakim,gimmick,alih,isu,tuduh,sedih,konsekuensi,negara,kritik,hindar,nature,jubir,mesin,cari,informasi,jawab,paham,geopolitik,internasional,butuh,salah,staff,khusus,bidang,komunikasi,mensesneg,alam,perintah,paham,hadap,maudy,maudy,tim,apa,respon,publik,harap,harum,nama,bangsa,recover,together,recover,stronger,staf,khusus,menteri,sekretaris,negara,bidang,komunikasi,media,gambas,video,detik\",\n          \"pn,jakpus,putus,tunda,milu,gerindra,jatim,adil,negeri,pn,jakarta,pusat,jakpus,kpu,tahap,milu,tunda,dpd,gerindra,jawa,timur,angkat,bicara,kait,putus,bendahara,dpd,gerindra,jatim,fawait,sami,na,waatho,sikap,putus,dpp,gerindra,mewanti,wanti,tentang,undang,undang,serah,sepenuh,putus,dpp,gerindra,patuh,atur,atur,tentang,atur,uud,fawait,minggu,pria,akrab,sapa,gus,fawait,gaduh,putus,pn,jakpus,menganggu,siap,partai,jatim,pilih,gelar,fraksi,gerindra,jatim,gaduh,semangat,kendor,milu,anggota,fraksi,gerindra,jatim,sesuai,pesan,tum,prabowo,hadir,masyarakat,solusi,masyarakat,gerindra,hati,masyarakat,jatim,menang,pileg,antar,prabowo,presiden,sambung,ketua,fraksi,gerindra,dprd,jatim,kader,jatim,tancap,gas,apa,putus,utama,kader,keras,tekan,angka,miskin,jatim,kait,gaduh,putus,pn,jakpus,serah,sepenuh,dpp,gerindra,konsolidasi,sapa,masyarakat,sesuai,pesan,tum,tugas,fraksi,gerindra,bantu,entas,miskin,jatim,milik,kerja,rumah,miskin,angka,nasional,tugas,awal,bijak,bu,gubernur,khofifah,indar,parawansa,pro,rakyat,gambas,video,detik\",\n          \"syahrini,ingat,hati,hati,media,sosial,syahrini,selesai,saksi,lapor,kait,cemar,nama,pesan,khalayak,main,media,sosial,syahrini,korban,fitnah,instagram,netizen,sebar,hoax,video,porno,lantun,cinta,kandas,masyarakat,hati,hati,main,media,sosial,taat,atur,perhati,norma,ingat,hati,hati,main,media,sosial,bijaksana,syahrini,adil,negeri,jakarta,selatan,ampera,jakarta,selatan,rabu,syahrini,berani,tindak,lapor,warganet,saran,suami,reino,barack,ikut,reino,rumah,tangga,diam,reaksi,single,dibully,fitnah,merespon,beda,rumah,tangga,milik,keluarga,suami,ganggu,berita,fitnah,leceh,akun,instagram,isi,membully,mamah,syahrini,syahrini,aku,salah,diam,hadap,fitnah,warganet,ambil,tindak,lantar,rasa,fatal,diam,salah,suami,tindak,syahrini,syahrini,lapor,ms,hoax,video,syur,lapor,layang,mei,lapor,ms,kena,pasal,ayat,jo,pasal,ayat,pasal,ayat,jo,pasal,ayat,uu,ri,nomor,ite,pasal,ayat,uu,ri,nomor,pornografi,pasal,kuhp,kuhp\"\n        ],\n        \"semantic_type\": \"\",\n        \"description\": \"\"\n      }\n    }\n  ]\n}"
            }
          },
          "metadata": {},
          "execution_count": 21
        }
      ],
      "source": [
        "news['case_folding'] = news['text'].apply(preprocess)\n",
        "news['case_folding'] = news['case_folding'].apply(rev_space)\n",
        "news['tokenizing'] = news['case_folding'].apply(word_tokenizing)\n",
        "news['stopword_removal'] = news['tokenizing'].apply(remove_stopwords)\n",
        "news['stemming'] = news['stopword_removal'].apply(stemmingText)\n",
        "news['stemming_all_string'] = [','.join(map(str, l)) for l in news['stemming']]\n",
        "news"
      ]
    },
    {
      "cell_type": "code",
      "execution_count": null,
      "metadata": {
        "colab": {
          "base_uri": "https://localhost:8080/",
          "height": 555
        },
        "id": "sXunSjcS635p",
        "outputId": "5ea39990-5a8e-465d-99e5-6c7c2c14e65f"
      },
      "outputs": [
        {
          "output_type": "stream",
          "name": "stdout",
          "text": [
            "Collecting gensim\n",
            "  Using cached gensim-4.3.3-cp311-cp311-manylinux_2_17_x86_64.manylinux2014_x86_64.whl.metadata (8.1 kB)\n",
            "Requirement already satisfied: numpy<2.0,>=1.18.5 in /usr/local/lib/python3.11/dist-packages (from gensim) (1.23.5)\n",
            "Collecting scipy<1.14.0,>=1.7.0 (from gensim)\n",
            "  Using cached scipy-1.13.1-cp311-cp311-manylinux_2_17_x86_64.manylinux2014_x86_64.whl.metadata (60 kB)\n",
            "Requirement already satisfied: smart-open>=1.8.1 in /usr/local/lib/python3.11/dist-packages (from gensim) (7.1.0)\n",
            "Requirement already satisfied: wrapt in /usr/local/lib/python3.11/dist-packages (from smart-open>=1.8.1->gensim) (1.17.2)\n",
            "Downloading gensim-4.3.3-cp311-cp311-manylinux_2_17_x86_64.manylinux2014_x86_64.whl (26.7 MB)\n",
            "\u001b[2K   \u001b[90m━━━━━━━━━━━━━━━━━━━━━━━━━━━━━━━━━━━━━━━━\u001b[0m \u001b[32m26.7/26.7 MB\u001b[0m \u001b[31m49.3 MB/s\u001b[0m eta \u001b[36m0:00:00\u001b[0m\n",
            "\u001b[?25hDownloading scipy-1.13.1-cp311-cp311-manylinux_2_17_x86_64.manylinux2014_x86_64.whl (38.6 MB)\n",
            "\u001b[2K   \u001b[90m━━━━━━━━━━━━━━━━━━━━━━━━━━━━━━━━━━━━━━━━\u001b[0m \u001b[32m38.6/38.6 MB\u001b[0m \u001b[31m20.5 MB/s\u001b[0m eta \u001b[36m0:00:00\u001b[0m\n",
            "\u001b[?25hInstalling collected packages: scipy, gensim\n",
            "  Attempting uninstall: scipy\n",
            "    Found existing installation: scipy 1.15.3\n",
            "    Uninstalling scipy-1.15.3:\n",
            "      Successfully uninstalled scipy-1.15.3\n",
            "\u001b[31mERROR: pip's dependency resolver does not currently take into account all the packages that are installed. This behaviour is the source of the following dependency conflicts.\n",
            "scikit-image 0.25.2 requires numpy>=1.24, but you have numpy 1.23.5 which is incompatible.\n",
            "jaxlib 0.5.1 requires numpy>=1.25, but you have numpy 1.23.5 which is incompatible.\n",
            "tsfresh 0.21.0 requires scipy>=1.14.0; python_version >= \"3.10\", but you have scipy 1.13.1 which is incompatible.\n",
            "pymc 5.23.0 requires numpy>=1.25.0, but you have numpy 1.23.5 which is incompatible.\n",
            "jax 0.5.2 requires numpy>=1.25, but you have numpy 1.23.5 which is incompatible.\n",
            "albumentations 2.0.8 requires numpy>=1.24.4, but you have numpy 1.23.5 which is incompatible.\n",
            "imbalanced-learn 0.13.0 requires numpy<3,>=1.24.3, but you have numpy 1.23.5 which is incompatible.\n",
            "xarray-einstats 0.9.1 requires numpy>=1.25, but you have numpy 1.23.5 which is incompatible.\n",
            "chex 0.1.89 requires numpy>=1.24.1, but you have numpy 1.23.5 which is incompatible.\u001b[0m\u001b[31m\n",
            "\u001b[0mSuccessfully installed gensim-4.3.3 scipy-1.13.1\n"
          ]
        },
        {
          "output_type": "display_data",
          "data": {
            "application/vnd.colab-display-data+json": {
              "pip_warning": {
                "packages": [
                  "scipy"
                ]
              },
              "id": "b1c86af70c264a29a94d8a5e55172241"
            }
          },
          "metadata": {}
        }
      ],
      "source": [
        "!pip install gensim\n",
        "from gensim.models import Word2Vec"
      ]
    },
    {
      "cell_type": "code",
      "execution_count": null,
      "metadata": {
        "id": "h42ogxzQ66JT"
      },
      "outputs": [],
      "source": [
        "def train_word2vec_model(data, sg=0):\n",
        "    model = Word2Vec(sentences=data, vector_size=100, window=5, min_count=1, workers=4, sg=sg)\n",
        "    return model"
      ]
    },
    {
      "cell_type": "code",
      "execution_count": null,
      "metadata": {
        "id": "43L3TrvN68Yn"
      },
      "outputs": [],
      "source": [
        "skipgram_model = train_word2vec_model(news['stemming'], sg=1)"
      ]
    },
    {
      "cell_type": "code",
      "execution_count": null,
      "metadata": {
        "id": "BB6K9J027TRG"
      },
      "outputs": [],
      "source": [
        "def get_document_embedding(tokens, model):\n",
        "    embeddings = [model.wv[token] for token in tokens if token in model.wv]\n",
        "    if embeddings:\n",
        "        return np.mean(embeddings, axis=0)\n",
        "    else:\n",
        "        return np.zeros(model.vector_size)"
      ]
    },
    {
      "cell_type": "code",
      "execution_count": null,
      "metadata": {
        "id": "ycpni6qt7ZVN"
      },
      "outputs": [],
      "source": [
        "def get_skipgram_embedding(tokens, skipgram_model):\n",
        "    skipgram_embedding = get_document_embedding(tokens, skipgram_model)\n",
        "    return skipgram_embedding"
      ]
    },
    {
      "cell_type": "code",
      "execution_count": null,
      "metadata": {
        "id": "_aF3gXVj8IZm"
      },
      "outputs": [],
      "source": [
        "news['skipgram_embedding'] = news['stemming_all_string'].apply(\n",
        "    lambda x: get_skipgram_embedding(x, skipgram_model)\n",
        ")"
      ]
    },
    {
      "cell_type": "code",
      "execution_count": null,
      "metadata": {
        "id": "KdJqAs8J8U2W"
      },
      "outputs": [],
      "source": [
        "X = np.vstack(news['skipgram_embedding'])\n",
        "y = news['Rev1_label']"
      ]
    },
    {
      "cell_type": "markdown",
      "metadata": {
        "id": "T9466TamU6Si"
      },
      "source": [
        "# Train & Test"
      ]
    },
    {
      "cell_type": "code",
      "execution_count": null,
      "metadata": {
        "id": "EpItpCct9sQf"
      },
      "outputs": [],
      "source": [
        "from sklearn.utils.validation import column_or_1d\n",
        "\n",
        "labels = news['Rev1_label']\n",
        "skipgram_features = news['stemming'].apply(lambda tokens: get_document_embedding(tokens, skipgram_model))\n",
        "skipgram_features = np.vstack(skipgram_features.to_numpy())\n",
        "\n",
        "X_train, X_test, y_train, y_test = train_test_split(skipgram_features, labels, test_size=0.2, random_state=42)"
      ]
    },
    {
      "cell_type": "markdown",
      "metadata": {
        "id": "5-QMPTXCkh88"
      },
      "source": [
        "### Decision Tree"
      ]
    },
    {
      "cell_type": "code",
      "execution_count": null,
      "metadata": {
        "colab": {
          "base_uri": "https://localhost:8080/"
        },
        "id": "En2AXrseN_Sp",
        "outputId": "6c0d4096-dc59-4f75-865a-b4d62050cae4"
      },
      "outputs": [
        {
          "output_type": "stream",
          "name": "stdout",
          "text": [
            "Akurasi model: 59.89%\n",
            "              precision    recall  f1-score   support\n",
            "\n",
            "          -1       0.62      0.62      0.62        42\n",
            "           0       0.51      0.43      0.47        58\n",
            "           1       0.64      0.71      0.67        77\n",
            "\n",
            "    accuracy                           0.60       177\n",
            "   macro avg       0.59      0.59      0.59       177\n",
            "weighted avg       0.59      0.60      0.59       177\n",
            "\n",
            "[[26  7  9]\n",
            " [11 25 22]\n",
            " [ 5 17 55]]\n"
          ]
        }
      ],
      "source": [
        "dt_classifier = DecisionTreeClassifier(random_state=42)\n",
        "dt_classifier.fit(X_train, y_train)\n",
        "y_pred = dt_classifier.predict(X_test)\n",
        "\n",
        "accuracy_dt = accuracy_score(y_test, y_pred)\n",
        "\n",
        "print(f\"Akurasi model: {accuracy_dt * 100:.2f}%\") # Changed 'accuracy' to 'accuracy_dt'\n",
        "print(classification_report(y_test, y_pred))\n",
        "\n",
        "conf_matrix = confusion_matrix(y_test, y_pred)\n",
        "print(conf_matrix)"
      ]
    },
    {
      "cell_type": "code",
      "execution_count": null,
      "metadata": {
        "colab": {
          "base_uri": "https://localhost:8080/"
        },
        "id": "NaSs4nnkrU1d",
        "outputId": "72dc9dec-9029-4647-f163-f4f633979afb"
      },
      "outputs": [
        {
          "output_type": "stream",
          "name": "stdout",
          "text": [
            "Akurasi model   : 59.89%\n",
            "Precision       : 59.23%\n",
            "Recall          : 59.89%\n",
            "F1 Score        : 59.36%\n",
            "              precision    recall  f1-score   support\n",
            "\n",
            "          -1       0.62      0.62      0.62        42\n",
            "           0       0.51      0.43      0.47        58\n",
            "           1       0.64      0.71      0.67        77\n",
            "\n",
            "    accuracy                           0.60       177\n",
            "   macro avg       0.59      0.59      0.59       177\n",
            "weighted avg       0.59      0.60      0.59       177\n",
            "\n",
            "[[26  7  9]\n",
            " [11 25 22]\n",
            " [ 5 17 55]]\n"
          ]
        }
      ],
      "source": [
        "dt_classifier = DecisionTreeClassifier(random_state=42)\n",
        "dt_classifier.fit(X_train, y_train)\n",
        "y_pred = dt_classifier.predict(X_test)\n",
        "\n",
        "accuracy_dt = accuracy_score(y_test, y_pred)\n",
        "precision_dt = precision_score(y_test, y_pred, average='weighted')\n",
        "recall_dt = recall_score(y_test, y_pred, average='weighted')\n",
        "f1_dt = f1_score(y_test, y_pred, average='weighted')\n",
        "\n",
        "print(f\"Akurasi model   : {accuracy_dt * 100:.2f}%\")\n",
        "print(f\"Precision       : {precision_dt * 100:.2f}%\")\n",
        "print(f\"Recall          : {recall_dt * 100:.2f}%\")\n",
        "print(f\"F1 Score        : {f1_dt * 100:.2f}%\")\n",
        "print(classification_report(y_test, y_pred))\n",
        "\n",
        "conf_matrix = confusion_matrix(y_test, y_pred)\n",
        "print(conf_matrix)"
      ]
    },
    {
      "cell_type": "markdown",
      "metadata": {
        "id": "dlfWfeWVWmiE"
      },
      "source": [
        "### Random Forest"
      ]
    },
    {
      "cell_type": "code",
      "execution_count": null,
      "metadata": {
        "colab": {
          "base_uri": "https://localhost:8080/"
        },
        "id": "oBWD4BzgPQp5",
        "outputId": "6070537e-e81e-4620-fb82-5cf2e0102a19"
      },
      "outputs": [
        {
          "output_type": "stream",
          "name": "stdout",
          "text": [
            "Akurasi Random Forest: 64.41%\n",
            "              precision    recall  f1-score   support\n",
            "\n",
            "          -1       0.66      0.60      0.62        42\n",
            "           0       0.61      0.48      0.54        58\n",
            "           1       0.66      0.79      0.72        77\n",
            "\n",
            "    accuracy                           0.64       177\n",
            "   macro avg       0.64      0.62      0.63       177\n",
            "weighted avg       0.64      0.64      0.64       177\n",
            "\n",
            "[[25  6 11]\n",
            " [ 9 28 21]\n",
            " [ 4 12 61]]\n"
          ]
        }
      ],
      "source": [
        "rf_classifier = RandomForestClassifier(random_state=42)\n",
        "rf_classifier.fit(X_train, y_train)\n",
        "\n",
        "y_pred_rf = rf_classifier.predict(X_test)\n",
        "accuracy_rf = accuracy_score(y_test, y_pred_rf)\n",
        "print(f\"Akurasi Random Forest: {accuracy_rf * 100:.2f}%\")\n",
        "\n",
        "print(classification_report(y_test, y_pred_rf))\n",
        "conf_matrix_rf = confusion_matrix(y_test, y_pred_rf)\n",
        "print(conf_matrix_rf)"
      ]
    },
    {
      "cell_type": "code",
      "execution_count": null,
      "metadata": {
        "colab": {
          "base_uri": "https://localhost:8080/"
        },
        "id": "BOgAwLzcmdAT",
        "outputId": "af816923-28cb-4da2-d0f8-f18c8a85ad81"
      },
      "outputs": [
        {
          "output_type": "stream",
          "name": "stdout",
          "text": [
            "Akurasi model   : 64.41%\n",
            "Precision       : 64.09%\n",
            "Recall          : 64.41%\n",
            "F1 Score        : 63.69%\n",
            "\n",
            "Classification Report:\n",
            "              precision    recall  f1-score   support\n",
            "\n",
            "          -1       0.66      0.60      0.62        42\n",
            "           0       0.61      0.48      0.54        58\n",
            "           1       0.66      0.79      0.72        77\n",
            "\n",
            "    accuracy                           0.64       177\n",
            "   macro avg       0.64      0.62      0.63       177\n",
            "weighted avg       0.64      0.64      0.64       177\n",
            "\n",
            "Confusion Matrix:\n",
            "[[25  6 11]\n",
            " [ 9 28 21]\n",
            " [ 4 12 61]]\n"
          ]
        }
      ],
      "source": [
        "rf_classifier = RandomForestClassifier(random_state=42)\n",
        "rf_classifier.fit(X_train, y_train)\n",
        "\n",
        "y_pred = rf_classifier.predict(X_test)\n",
        "accuracy_rf = accuracy_score(y_test, y_pred)\n",
        "precision_rf = precision_score(y_test, y_pred, average='weighted')\n",
        "recall_rf = recall_score(y_test, y_pred, average='weighted')\n",
        "f1_rf = f1_score(y_test, y_pred, average='weighted')\n",
        "\n",
        "print(f\"Akurasi model   : {accuracy_rf * 100:.2f}%\")\n",
        "print(f\"Precision       : {precision_rf * 100:.2f}%\")\n",
        "print(f\"Recall          : {recall_rf * 100:.2f}%\")\n",
        "print(f\"F1 Score        : {f1_rf * 100:.2f}%\")\n",
        "\n",
        "print(\"\\nClassification Report:\")\n",
        "print(classification_report(y_test, y_pred))\n",
        "\n",
        "print(\"Confusion Matrix:\")\n",
        "conf_matrix = confusion_matrix(y_test, y_pred)\n",
        "print(conf_matrix)"
      ]
    },
    {
      "cell_type": "markdown",
      "metadata": {
        "id": "XGQOnV8SWqv2"
      },
      "source": [
        "### XGBoost"
      ]
    },
    {
      "cell_type": "code",
      "execution_count": null,
      "metadata": {
        "colab": {
          "base_uri": "https://localhost:8080/"
        },
        "id": "-ldcC0esTEZx",
        "outputId": "4428491c-7b4b-4b5d-828b-39532ecb25f1"
      },
      "outputs": [
        {
          "output_type": "stream",
          "name": "stderr",
          "text": [
            "/usr/local/lib/python3.11/dist-packages/xgboost/core.py:158: UserWarning: [16:45:59] WARNING: /workspace/src/learner.cc:740: \n",
            "Parameters: { \"use_label_encoder\" } are not used.\n",
            "\n",
            "  warnings.warn(smsg, UserWarning)\n"
          ]
        },
        {
          "output_type": "stream",
          "name": "stdout",
          "text": [
            "\n",
            "Akurasi XGBoost: 71.19%\n",
            "              precision    recall  f1-score   support\n",
            "\n",
            "          -1       0.70      0.74      0.72        42\n",
            "           0       0.70      0.53      0.61        58\n",
            "           1       0.72      0.83      0.77        77\n",
            "\n",
            "    accuracy                           0.71       177\n",
            "   macro avg       0.71      0.70      0.70       177\n",
            "weighted avg       0.71      0.71      0.71       177\n",
            "\n",
            "[[31  5  6]\n",
            " [ 8 31 19]\n",
            " [ 5  8 64]]\n"
          ]
        }
      ],
      "source": [
        "from sklearn.feature_extraction.text import TfidfVectorizer\n",
        "from sklearn.model_selection import train_test_split\n",
        "from xgboost import XGBClassifier\n",
        "from sklearn.metrics import accuracy_score, classification_report, confusion_matrix\n",
        "from sklearn.utils.validation import column_or_1d\n",
        "\n",
        "label_mapping = {-1: 0, 0: 1, 1: 2}\n",
        "y_train_mapped = y_train.map(label_mapping)\n",
        "y_test_mapped = y_test.map(label_mapping)\n",
        "\n",
        "xgb_classifier = XGBClassifier(random_state=42, use_label_encoder=False, eval_metric='mlogloss')\n",
        "xgb_classifier.fit(X_train, y_train_mapped)\n",
        "y_pred_xgb_mapped = xgb_classifier.predict(X_test)\n",
        "\n",
        "accuracy_xgb = accuracy_score(y_test_mapped, y_pred_xgb_mapped)\n",
        "print(f\"\\nAkurasi XGBoost: {accuracy_xgb * 100:.2f}%\")\n",
        "\n",
        "print(classification_report(y_test_mapped, y_pred_xgb_mapped, target_names=['-1', '0', '1'], zero_division=0))\n",
        "print(confusion_matrix(y_test_mapped, y_pred_xgb_mapped))"
      ]
    },
    {
      "cell_type": "code",
      "execution_count": null,
      "metadata": {
        "colab": {
          "base_uri": "https://localhost:8080/"
        },
        "id": "FjtesKJnP1mB",
        "outputId": "37f65740-155b-41d4-ceda-7b14d216bc0e"
      },
      "outputs": [
        {
          "output_type": "stream",
          "name": "stderr",
          "text": [
            "/usr/local/lib/python3.11/dist-packages/xgboost/core.py:158: UserWarning: [16:46:08] WARNING: /workspace/src/learner.cc:740: \n",
            "Parameters: { \"use_label_encoder\" } are not used.\n",
            "\n",
            "  warnings.warn(smsg, UserWarning)\n"
          ]
        },
        {
          "output_type": "stream",
          "name": "stdout",
          "text": [
            "\n",
            "Akurasi XGBoost : 71.19%\n",
            "Precision       : 71.09%\n",
            "Recall          : 71.19%\n",
            "F1 Score        : 70.57%\n",
            "\n",
            "Classification Report:\n",
            "              precision    recall  f1-score   support\n",
            "\n",
            "          -1       0.70      0.74      0.72        42\n",
            "           0       0.70      0.53      0.61        58\n",
            "           1       0.72      0.83      0.77        77\n",
            "\n",
            "    accuracy                           0.71       177\n",
            "   macro avg       0.71      0.70      0.70       177\n",
            "weighted avg       0.71      0.71      0.71       177\n",
            "\n",
            "Confusion Matrix:\n",
            "[[31  5  6]\n",
            " [ 8 31 19]\n",
            " [ 5  8 64]]\n"
          ]
        }
      ],
      "source": [
        "label_mapping = {-1: 0, 0: 1, 1: 2}\n",
        "y_train_mapped = y_train.map(label_mapping)\n",
        "y_test_mapped = y_test.map(label_mapping)\n",
        "\n",
        "# Training XGBoost classifier\n",
        "xgb_classifier = XGBClassifier(random_state=42, use_label_encoder=False, eval_metric='mlogloss')\n",
        "xgb_classifier.fit(X_train, y_train_mapped)\n",
        "\n",
        "# Prediction\n",
        "y_pred_xgb_mapped = xgb_classifier.predict(X_test)\n",
        "\n",
        "# Metrics\n",
        "accuracy_xgb = accuracy_score(y_test_mapped, y_pred_xgb_mapped)\n",
        "precision_xgb = precision_score(y_test_mapped, y_pred_xgb_mapped, average='weighted', zero_division=0)\n",
        "recall_xgb = recall_score(y_test_mapped, y_pred_xgb_mapped, average='weighted', zero_division=0)\n",
        "f1_xgb = f1_score(y_test_mapped, y_pred_xgb_mapped, average='weighted', zero_division=0)\n",
        "\n",
        "# Print results\n",
        "print(f\"\\nAkurasi XGBoost : {accuracy_xgb * 100:.2f}%\")\n",
        "print(f\"Precision       : {precision_xgb * 100:.2f}%\")\n",
        "print(f\"Recall          : {recall_xgb * 100:.2f}%\")\n",
        "print(f\"F1 Score        : {f1_xgb * 100:.2f}%\")\n",
        "\n",
        "print(\"\\nClassification Report:\")\n",
        "print(classification_report(y_test_mapped, y_pred_xgb_mapped, target_names=['-1', '0', '1'], zero_division=0))\n",
        "\n",
        "print(\"Confusion Matrix:\")\n",
        "print(confusion_matrix(y_test_mapped, y_pred_xgb_mapped))\n"
      ]
    },
    {
      "cell_type": "markdown",
      "metadata": {
        "id": "UhlcDtYjZOIN"
      },
      "source": [
        "# Kfold Cross Validation"
      ]
    },
    {
      "cell_type": "code",
      "execution_count": null,
      "metadata": {
        "id": "rcV4PP7Ai9nt"
      },
      "outputs": [],
      "source": [
        "from sklearn.model_selection import KFold, cross_val_score, cross_val_predict #add cross_val_predict here\n",
        "\n",
        "labels = news['Rev1_label']\n",
        "skipgram_features = news['stemming'].apply(lambda tokens: get_document_embedding(tokens, skipgram_model)).to_numpy()\n",
        "skipgram_features = np.vstack(skipgram_features)\n",
        "\n",
        "X = skipgram_features\n",
        "y = news['Rev1_label']\n",
        "\n",
        "param_grid_dt = {\n",
        "    'criterion': ['gini', 'entropy'],\n",
        "    'max_depth': [None, 5, 10, 15],\n",
        "    'min_samples_split': [2, 5, 10],\n",
        "    'min_samples_leaf': [1, 2, 4],\n",
        "}\n",
        "param_grid_rf = {\n",
        "    'n_estimators': [100, 200,300],\n",
        "    'max_depth': [None, 10, 20],\n",
        "    'min_samples_split': [2, 5],\n",
        "    'min_samples_leaf': [1, 2],\n",
        "    'bootstrap': [True, False],\n",
        "}\n",
        "kf = KFold(n_splits=5, shuffle=True, random_state=42)\n",
        "for train_index, test_index in kf.split(X):\n",
        "    X_train, X_test = X[train_index], X[test_index]\n",
        "    y_train, y_test = y[train_index], y[test_index]"
      ]
    },
    {
      "cell_type": "markdown",
      "metadata": {
        "id": "E49NqdAjZkW4"
      },
      "source": [
        "### Decision Tree"
      ]
    },
    {
      "cell_type": "code",
      "execution_count": null,
      "metadata": {
        "colab": {
          "base_uri": "https://localhost:8080/"
        },
        "id": "hM4m8OKeTgM2",
        "outputId": "b8f477c3-dcaa-4aad-ea09-b63593f1fb9c"
      },
      "outputs": [
        {
          "output_type": "stream",
          "name": "stdout",
          "text": [
            "Best Parameters: {'criterion': 'entropy', 'max_depth': 15, 'min_samples_leaf': 4, 'min_samples_split': 10}\n",
            "Akurasi model (5-Fold CV): 51.25%\n",
            "              precision    recall  f1-score   support\n",
            "\n",
            "          -1       0.51      0.52      0.51       188\n",
            "           0       0.41      0.40      0.40       283\n",
            "           1       0.59      0.59      0.59       411\n",
            "\n",
            "    accuracy                           0.51       882\n",
            "   macro avg       0.50      0.50      0.50       882\n",
            "weighted avg       0.51      0.51      0.51       882\n",
            "\n",
            "[[ 97  44  47]\n",
            " [ 47 112 124]\n",
            " [ 48 120 243]]\n",
            "Akurasi model di seluruh dataset: 89.34%\n"
          ]
        }
      ],
      "source": [
        "dt_classifier = DecisionTreeClassifier(random_state=42)\n",
        "\n",
        "grid_search_dt = GridSearchCV(dt_classifier, param_grid_dt, cv=5, scoring='accuracy')\n",
        "grid_search_dt.fit(X, y)\n",
        "\n",
        "print(f\"Best Parameters: {grid_search_dt.best_params_}\")\n",
        "best_dt_model = grid_search_dt.best_estimator_\n",
        "\n",
        "kf = KFold(n_splits=5, shuffle=True, random_state=42)\n",
        "y_pred = cross_val_predict(best_dt_model, X, y, cv=kf)\n",
        "\n",
        "accuracy = accuracy_score(y, y_pred)\n",
        "print(f\"Akurasi model (5-Fold CV): {accuracy * 100:.2f}%\")\n",
        "\n",
        "print(classification_report(y, y_pred, zero_division=0))\n",
        "print(confusion_matrix(y, y_pred))\n",
        "\n",
        "score_value = best_dt_model.score(X, y)\n",
        "print(f\"Akurasi model di seluruh dataset: {score_value * 100:.2f}%\")"
      ]
    },
    {
      "cell_type": "code",
      "execution_count": null,
      "metadata": {
        "colab": {
          "base_uri": "https://localhost:8080/"
        },
        "id": "blgtxLHrQYXA",
        "outputId": "128044bf-7be0-459c-f589-9f7e2c1a6edf"
      },
      "outputs": [
        {
          "output_type": "stream",
          "name": "stdout",
          "text": [
            "Best Hyperparameter : {'criterion': 'entropy', 'max_depth': 15, 'min_samples_leaf': 4, 'min_samples_split': 10}\n",
            "Akurasi model   : 51.25%\n",
            "Precision       : 51.14%\n",
            "Recall          : 51.25%\n",
            "F1 Score        : 51.19%\n",
            "              precision    recall  f1-score   support\n",
            "\n",
            "          -1       0.51      0.52      0.51       188\n",
            "           0       0.41      0.40      0.40       283\n",
            "           1       0.59      0.59      0.59       411\n",
            "\n",
            "    accuracy                           0.51       882\n",
            "   macro avg       0.50      0.50      0.50       882\n",
            "weighted avg       0.51      0.51      0.51       882\n",
            "\n",
            "Confusion Matrix:\n",
            "[[ 97  44  47]\n",
            " [ 47 112 124]\n",
            " [ 48 120 243]]\n",
            "Score Value (Akurasi model di seluruh dataset): 89.34%\n"
          ]
        }
      ],
      "source": [
        "dt_classifier = DecisionTreeClassifier(random_state=42)\n",
        "grid_search_dt = GridSearchCV(dt_classifier, param_grid_dt, cv=5, scoring='accuracy')\n",
        "grid_search_dt.fit(X, y)\n",
        "print(f\"Best Hyperparameter : {grid_search_dt.best_params_}\")\n",
        "\n",
        "\n",
        "best_dt_model = grid_search_dt.best_estimator_\n",
        "\n",
        "kf = KFold(n_splits=5, shuffle=True, random_state=42)\n",
        "y_pred = cross_val_predict(best_dt_model, X, y, cv=kf)\n",
        "\n",
        "accuracy_dt = accuracy_score(y, y_pred)\n",
        "precision_dt = precision_score(y, y_pred, average='weighted', zero_division=0)\n",
        "recall_dt = recall_score(y, y_pred, average='weighted', zero_division=0)\n",
        "f1_dt = f1_score(y, y_pred, average='weighted', zero_division=0)\n",
        "\n",
        "print(f\"Akurasi model   : {accuracy_dt * 100:.2f}%\")\n",
        "print(f\"Precision       : {precision_dt * 100:.2f}%\")\n",
        "print(f\"Recall          : {recall_dt * 100:.2f}%\")\n",
        "print(f\"F1 Score        : {f1_dt * 100:.2f}%\")\n",
        "\n",
        "print(classification_report(y, y_pred, zero_division=0))\n",
        "print(\"Confusion Matrix:\")\n",
        "print(confusion_matrix(y, y_pred))\n",
        "score_value = best_dt_model.score(X, y)\n",
        "print(f\"Score Value (Akurasi model di seluruh dataset): {score_value * 100:.2f}%\")"
      ]
    },
    {
      "cell_type": "code",
      "source": [
        "import numpy as np\n",
        "from sklearn.tree import DecisionTreeClassifier\n",
        "from sklearn.model_selection import KFold, GridSearchCV\n",
        "from sklearn.metrics import accuracy_score, confusion_matrix, classification_report, precision_score, recall_score, f1_score\n",
        "\n",
        "labels = news['Rev1_label']\n",
        "X = skipgram_features\n",
        "y = news['Rev1_label']\n",
        "\n",
        "param_grid_dt = {\n",
        "    'criterion': ['gini', 'entropy'],\n",
        "    'max_depth': [None, 10, 20, 30],\n",
        "    'min_samples_split': [2, 5, 10],\n",
        "    'min_samples_leaf': [1, 2, 4]\n",
        "}\n",
        "\n",
        "kf = KFold(n_splits=5, shuffle=True, random_state=42)\n",
        "accuracies = []\n",
        "precisions = []\n",
        "recalls = []\n",
        "f1_scores = []\n",
        "\n",
        "fold = 1\n",
        "for train_index, val_index in kf.split(X, y):\n",
        "    X_train, X_val = X[train_index], X[val_index]\n",
        "    y_train, y_val = y.iloc[train_index], y.iloc[val_index]\n",
        "\n",
        "    dt = DecisionTreeClassifier(random_state=42)\n",
        "    grid_search = GridSearchCV(dt, param_grid_dt, cv=5, scoring='accuracy')\n",
        "    grid_search.fit(X_train, y_train)\n",
        "    best_model = grid_search.best_estimator_\n",
        "\n",
        "    val_pred = best_model.predict(X_val)\n",
        "\n",
        "    accuracy = accuracy_score(y_val, val_pred)\n",
        "    precision = precision_score(y_val, val_pred, average='weighted', zero_division=0)\n",
        "    recall = recall_score(y_val, val_pred, average='weighted', zero_division=0)\n",
        "    f1 = f1_score(y_val, val_pred, average='weighted', zero_division=0)\n",
        "    cm = confusion_matrix(y_val, val_pred)\n",
        "\n",
        "    # Simpan ke list\n",
        "    accuracies.append(accuracy)\n",
        "    precisions.append(precision)\n",
        "    recalls.append(recall)\n",
        "    f1_scores.append(f1)\n",
        "\n",
        "    print(f\"Fold {fold}:\")\n",
        "    print(f\"  Accuracy : {accuracy * 100:.2f}%\")\n",
        "    print(f\"  Precision: {precision * 100:.2f}%\")\n",
        "    print(f\"  Recall   : {recall * 100:.2f}%\")\n",
        "    print(f\"  F1 Score : {f1 * 100:.2f}%\")\n",
        "    print(\"  Confusion Matrix:\")\n",
        "    print(cm)\n",
        "    print()\n",
        "\n",
        "    fold += 1\n",
        "\n",
        "# Cetak rata-rata skor akhir\n",
        "print(\"Final Average Results:\")\n",
        "print(f\"  Accuracy : {np.mean(accuracies) * 100:.2f}%\")\n",
        "print(f\"  Precision: {np.mean(precisions) * 100:.2f}%\")\n",
        "print(f\"  Recall   : {np.mean(recalls) * 100:.2f}%\")\n",
        "print(f\"  F1 Score : {np.mean(f1_scores) * 100:.2f}%\")\n"
      ],
      "metadata": {
        "colab": {
          "base_uri": "https://localhost:8080/"
        },
        "id": "cBADeFAhxNaT",
        "outputId": "680f3711-92b5-4374-e26d-776b51e6b6be"
      },
      "execution_count": null,
      "outputs": [
        {
          "output_type": "stream",
          "name": "stdout",
          "text": [
            "Fold 1:\n",
            "  Accuracy : 59.89%\n",
            "  Precision: 59.91%\n",
            "  Recall   : 59.89%\n",
            "  F1 Score : 59.71%\n",
            "  Confusion Matrix:\n",
            "[[24  7 11]\n",
            " [ 7 29 22]\n",
            " [ 5 19 53]]\n",
            "\n",
            "Fold 2:\n",
            "  Accuracy : 50.85%\n",
            "  Precision: 51.07%\n",
            "  Recall   : 50.85%\n",
            "  F1 Score : 50.93%\n",
            "  Confusion Matrix:\n",
            "[[19 12  9]\n",
            " [ 8 27 24]\n",
            " [10 24 44]]\n",
            "\n",
            "Fold 3:\n",
            "  Accuracy : 54.55%\n",
            "  Precision: 54.75%\n",
            "  Recall   : 54.55%\n",
            "  F1 Score : 54.48%\n",
            "  Confusion Matrix:\n",
            "[[26  3  9]\n",
            " [ 9 24 21]\n",
            " [10 28 46]]\n",
            "\n",
            "Fold 4:\n",
            "  Accuracy : 50.57%\n",
            "  Precision: 50.25%\n",
            "  Recall   : 50.57%\n",
            "  F1 Score : 50.38%\n",
            "  Confusion Matrix:\n",
            "[[21  5 13]\n",
            " [ 8 19 25]\n",
            " [12 24 49]]\n",
            "\n",
            "Fold 5:\n",
            "  Accuracy : 50.00%\n",
            "  Precision: 51.35%\n",
            "  Recall   : 50.00%\n",
            "  F1 Score : 50.45%\n",
            "  Confusion Matrix:\n",
            "[[13 10  6]\n",
            " [14 23 23]\n",
            " [13 22 52]]\n",
            "\n",
            "Final Average Results:\n",
            "  Accuracy : 53.17%\n",
            "  Precision: 53.46%\n",
            "  Recall   : 53.17%\n",
            "  F1 Score : 53.19%\n"
          ]
        }
      ]
    },
    {
      "cell_type": "code",
      "source": [
        "import numpy as np\n",
        "from sklearn.tree import DecisionTreeClassifier\n",
        "from sklearn.model_selection import KFold, GridSearchCV\n",
        "from sklearn.metrics import accuracy_score, confusion_matrix, classification_report, precision_score, recall_score, f1_score\n",
        "\n",
        "labels = news['Rev1_label']\n",
        "X = skipgram_features\n",
        "y = news['Rev1_label']\n",
        "\n",
        "param_grid_dt = {\n",
        "    'criterion': ['gini', 'entropy'],\n",
        "    'max_depth': [None, 10, 20, 30],\n",
        "    'min_samples_split': [2, 5, 10],\n",
        "    'min_samples_leaf': [1, 2, 4]\n",
        "}\n",
        "\n",
        "kf = KFold(n_splits=5, shuffle=True, random_state=42)\n",
        "accuracies = []\n",
        "precisions = []\n",
        "recalls = []\n",
        "f1_scores = []\n",
        "\n",
        "fold = 1\n",
        "for train_index, val_index in kf.split(X, y):\n",
        "    X_train, X_val = X[train_index], X[val_index]\n",
        "    y_train, y_val = y.iloc[train_index], y.iloc[val_index]\n",
        "\n",
        "    dt = DecisionTreeClassifier(random_state=42)\n",
        "    grid_search = GridSearchCV(dt, param_grid_dt, cv=5, scoring='accuracy')\n",
        "    grid_search.fit(X_train, y_train)\n",
        "    best_model = grid_search.best_estimator_\n",
        "    print(\"  Best Parameters:\", grid_search.best_params_)\n",
        "\n",
        "    val_pred = best_model.predict(X_val)\n",
        "\n",
        "    accuracy = accuracy_score(y_val, val_pred)\n",
        "    precision = precision_score(y_val, val_pred, average='weighted', zero_division=0)\n",
        "    recall = recall_score(y_val, val_pred, average='weighted', zero_division=0)\n",
        "    f1 = f1_score(y_val, val_pred, average='weighted', zero_division=0)\n",
        "    cm = confusion_matrix(y_val, val_pred)\n",
        "\n",
        "    # Simpan ke list\n",
        "    accuracies.append(accuracy)\n",
        "    precisions.append(precision)\n",
        "    recalls.append(recall)\n",
        "    f1_scores.append(f1)\n",
        "\n",
        "    print(f\"Fold {fold}:\")\n",
        "    print(f\"  Accuracy : {accuracy * 100:.2f}%\")\n",
        "    print(f\"  Precision: {precision * 100:.2f}%\")\n",
        "    print(f\"  Recall   : {recall * 100:.2f}%\")\n",
        "    print(f\"  F1 Score : {f1 * 100:.2f}%\")\n",
        "    print(\"  Confusion Matrix:\")\n",
        "    print(cm)\n",
        "    print()\n",
        "\n",
        "    fold += 1\n",
        "\n",
        "# Cetak rata-rata skor akhir\n",
        "print(\"Final Average Results:\")\n",
        "print(f\"  Accuracy : {np.mean(accuracies) * 100:.2f}%\")\n",
        "print(f\"  Precision: {np.mean(precisions) * 100:.2f}%\")\n",
        "print(f\"  Recall   : {np.mean(recalls) * 100:.2f}%\")\n",
        "print(f\"  F1 Score : {np.mean(f1_scores) * 100:.2f}%\")\n"
      ],
      "metadata": {
        "colab": {
          "base_uri": "https://localhost:8080/"
        },
        "id": "vAdM0OEdKuR9",
        "outputId": "31a47488-7895-448e-af23-ff0bae0255c1"
      },
      "execution_count": null,
      "outputs": [
        {
          "output_type": "stream",
          "name": "stdout",
          "text": [
            "  Best Parameters: {'criterion': 'entropy', 'max_depth': 10, 'min_samples_leaf': 4, 'min_samples_split': 2}\n",
            "Fold 1:\n",
            "  Accuracy : 58.19%\n",
            "  Precision: 57.73%\n",
            "  Recall   : 58.19%\n",
            "  F1 Score : 57.53%\n",
            "  Confusion Matrix:\n",
            "[[24  8 10]\n",
            " [ 7 24 27]\n",
            " [ 7 15 55]]\n",
            "\n",
            "  Best Parameters: {'criterion': 'gini', 'max_depth': 10, 'min_samples_leaf': 1, 'min_samples_split': 2}\n",
            "Fold 2:\n",
            "  Accuracy : 55.37%\n",
            "  Precision: 55.22%\n",
            "  Recall   : 55.37%\n",
            "  F1 Score : 54.52%\n",
            "  Confusion Matrix:\n",
            "[[15 10 15]\n",
            " [ 6 28 25]\n",
            " [ 5 18 55]]\n",
            "\n",
            "  Best Parameters: {'criterion': 'entropy', 'max_depth': 10, 'min_samples_leaf': 4, 'min_samples_split': 10}\n",
            "Fold 3:\n",
            "  Accuracy : 60.23%\n",
            "  Precision: 58.87%\n",
            "  Recall   : 60.23%\n",
            "  F1 Score : 58.81%\n",
            "  Confusion Matrix:\n",
            "[[25  5  8]\n",
            " [ 9 18 27]\n",
            " [ 8 13 63]]\n",
            "\n",
            "  Best Parameters: {'criterion': 'gini', 'max_depth': 10, 'min_samples_leaf': 2, 'min_samples_split': 10}\n",
            "Fold 4:\n",
            "  Accuracy : 61.93%\n",
            "  Precision: 63.36%\n",
            "  Recall   : 61.93%\n",
            "  F1 Score : 62.31%\n",
            "  Confusion Matrix:\n",
            "[[24  6  9]\n",
            " [ 8 32 12]\n",
            " [ 6 26 53]]\n",
            "\n",
            "  Best Parameters: {'criterion': 'entropy', 'max_depth': None, 'min_samples_leaf': 1, 'min_samples_split': 2}\n",
            "Fold 5:\n",
            "  Accuracy : 52.27%\n",
            "  Precision: 52.81%\n",
            "  Recall   : 52.27%\n",
            "  F1 Score : 52.41%\n",
            "  Confusion Matrix:\n",
            "[[17  8  4]\n",
            " [ 7 26 27]\n",
            " [11 27 49]]\n",
            "\n",
            "Final Average Results:\n",
            "  Accuracy : 57.60%\n",
            "  Precision: 57.60%\n",
            "  Recall   : 57.60%\n",
            "  F1 Score : 57.12%\n"
          ]
        }
      ]
    },
    {
      "cell_type": "markdown",
      "metadata": {
        "id": "aCF_ABJHpyE6"
      },
      "source": [
        "### Random Forest"
      ]
    },
    {
      "cell_type": "code",
      "execution_count": null,
      "metadata": {
        "colab": {
          "base_uri": "https://localhost:8080/"
        },
        "id": "cMpFIVprpbeh",
        "outputId": "8fc2d46e-464b-4f29-8f8a-c461abd8b8a3"
      },
      "outputs": [
        {
          "output_type": "stream",
          "name": "stdout",
          "text": [
            "Best Parameters: {'bootstrap': True, 'max_depth': None, 'min_samples_leaf': 1, 'min_samples_split': 2, 'n_estimators': 300}\n",
            "Akurasi model (5-Fold CV): 64.06%\n",
            "              precision    recall  f1-score   support\n",
            "\n",
            "          -1       0.76      0.63      0.69       188\n",
            "           0       0.56      0.48      0.52       283\n",
            "           1       0.64      0.75      0.69       411\n",
            "\n",
            "    accuracy                           0.64       882\n",
            "   macro avg       0.65      0.62      0.63       882\n",
            "weighted avg       0.64      0.64      0.64       882\n",
            "\n",
            "[[119  22  47]\n",
            " [ 22 137 124]\n",
            " [ 16  86 309]]\n",
            "Akurasi model di seluruh dataset: 97.85%\n"
          ]
        }
      ],
      "source": [
        "rf_classifier = RandomForestClassifier(random_state=42)\n",
        "grid_search_rf = GridSearchCV(rf_classifier, param_grid_rf, cv=5, scoring='accuracy')\n",
        "grid_search_rf.fit(X, y)\n",
        "\n",
        "print(f\"Best Parameters: {grid_search_rf.best_params_}\")\n",
        "best_rf_model = grid_search_rf.best_estimator_\n",
        "\n",
        "kf = KFold(n_splits=5, shuffle=True, random_state=42)\n",
        "y_pred = cross_val_predict(best_rf_model, X, y, cv=kf)\n",
        "accuracy = accuracy_score(y, y_pred)\n",
        "print(f\"Akurasi model (5-Fold CV): {accuracy * 100:.2f}%\")\n",
        "\n",
        "print(classification_report(y, y_pred, zero_division=0))\n",
        "print(confusion_matrix(y, y_pred))\n",
        "\n",
        "score_value = best_rf_model.score(X, y)\n",
        "print(f\"Akurasi model di seluruh dataset: {score_value * 100:.2f}%\")"
      ]
    },
    {
      "cell_type": "code",
      "execution_count": null,
      "metadata": {
        "colab": {
          "base_uri": "https://localhost:8080/"
        },
        "id": "9XQGbIC-SU9h",
        "outputId": "c1679172-aeea-42cb-a9d2-42a9657696c7"
      },
      "outputs": [
        {
          "output_type": "stream",
          "name": "stdout",
          "text": [
            "Best Hyperparameter : {'bootstrap': True, 'max_depth': None, 'min_samples_leaf': 1, 'min_samples_split': 2, 'n_estimators': 300}\n",
            "Akurasi model   : 64.06%\n",
            "Precision       : 64.10%\n",
            "Recall          : 64.06%\n",
            "F1 Score        : 63.68%\n",
            "              precision    recall  f1-score   support\n",
            "\n",
            "          -1       0.76      0.63      0.69       188\n",
            "           0       0.56      0.48      0.52       283\n",
            "           1       0.64      0.75      0.69       411\n",
            "\n",
            "    accuracy                           0.64       882\n",
            "   macro avg       0.65      0.62      0.63       882\n",
            "weighted avg       0.64      0.64      0.64       882\n",
            "\n",
            "Confusion Matrix:\n",
            "[[119  22  47]\n",
            " [ 22 137 124]\n",
            " [ 16  86 309]]\n",
            "Score Value (Akurasi model di seluruh dataset): 97.85%\n"
          ]
        }
      ],
      "source": [
        "rf_classifier = RandomForestClassifier(random_state=42)\n",
        "grid_search_rf = GridSearchCV(rf_classifier, param_grid_rf, cv=5, scoring='accuracy')\n",
        "grid_search_rf.fit(X, y)\n",
        "print(f\"Best Hyperparameter : {grid_search_rf.best_params_}\")\n",
        "\n",
        "best_rf_model = grid_search_rf.best_estimator_\n",
        "\n",
        "kf = KFold(n_splits=5, shuffle=True, random_state=42)\n",
        "y_pred = cross_val_predict(best_rf_model, X, y, cv=kf)\n",
        "\n",
        "accuracy_rf = accuracy_score(y, y_pred)\n",
        "precision_rf = precision_score(y, y_pred, average='weighted', zero_division=0)\n",
        "recall_rf = recall_score(y, y_pred, average='weighted', zero_division=0)\n",
        "f1_rf = f1_score(y, y_pred, average='weighted', zero_division=0)\n",
        "\n",
        "print(f\"Akurasi model   : {accuracy_rf * 100:.2f}%\")\n",
        "print(f\"Precision       : {precision_rf * 100:.2f}%\")\n",
        "print(f\"Recall          : {recall_rf * 100:.2f}%\")\n",
        "print(f\"F1 Score        : {f1_rf * 100:.2f}%\")\n",
        "\n",
        "print(classification_report(y, y_pred, zero_division=0))\n",
        "print(\"Confusion Matrix:\")\n",
        "print(confusion_matrix(y, y_pred))\n",
        "score_value = best_rf_model.score(X, y)\n",
        "print(f\"Score Value (Akurasi model di seluruh dataset): {score_value * 100:.2f}%\")"
      ]
    },
    {
      "cell_type": "code",
      "source": [
        "import numpy as np\n",
        "from sklearn.ensemble import RandomForestClassifier\n",
        "from sklearn.model_selection import KFold, GridSearchCV\n",
        "from sklearn.metrics import accuracy_score, confusion_matrix, classification_report, precision_score, recall_score, f1_score\n",
        "\n",
        "labels = news['Rev1_label']\n",
        "X = skipgram_features\n",
        "y = news['Rev1_label']\n",
        "\n",
        "\n",
        "param_grid_rf = {\n",
        "    'n_estimators': [100, 200, 300],\n",
        "    'max_depth': [None, 10, 20],\n",
        "    'min_samples_split': [2, 5],\n",
        "    'min_samples_leaf': [1, 2],\n",
        "    'bootstrap': [True, False],\n",
        "}\n",
        "\n",
        "kf = KFold(n_splits=5, shuffle=True, random_state=42)\n",
        "\n",
        "# List untuk simpan skor per fold\n",
        "accuracies = []\n",
        "precisions = []\n",
        "recalls = []\n",
        "f1_scores = []\n",
        "\n",
        "fold = 1\n",
        "for train_index, val_index in kf.split(X, y):\n",
        "    X_train, X_val = X[train_index], X[val_index]\n",
        "    y_train, y_val = y.iloc[train_index], y.iloc[val_index]\n",
        "\n",
        "    rf = RandomForestClassifier(random_state=42)\n",
        "    grid_search = GridSearchCV(rf, param_grid_rf, cv=5, scoring='accuracy', n_jobs=-1)\n",
        "    grid_search.fit(X_train, y_train)\n",
        "    best_model = grid_search.best_estimator_\n",
        "    print(\"  Best Parameters:\", grid_search.best_params_)\n",
        "\n",
        "    val_pred = best_model.predict(X_val)\n",
        "\n",
        "    accuracy = accuracy_score(y_val, val_pred)\n",
        "    precision = precision_score(y_val, val_pred, average='weighted', zero_division=0)\n",
        "    recall = recall_score(y_val, val_pred, average='weighted', zero_division=0)\n",
        "    f1 = f1_score(y_val, val_pred, average='weighted', zero_division=0)\n",
        "    cm = confusion_matrix(y_val, val_pred)\n",
        "\n",
        "    # Simpan ke list\n",
        "    accuracies.append(accuracy)\n",
        "    precisions.append(precision)\n",
        "    recalls.append(recall)\n",
        "    f1_scores.append(f1)\n",
        "\n",
        "    print(f\"Fold {fold}:\")\n",
        "    print(f\"  Accuracy : {accuracy * 100:.2f}%\")\n",
        "    print(f\"  Precision: {precision * 100:.2f}%\")\n",
        "    print(f\"  Recall   : {recall * 100:.2f}%\")\n",
        "    print(f\"  F1 Score : {f1 * 100:.2f}%\")\n",
        "    print(\"  Confusion Matrix:\")\n",
        "    print(cm)\n",
        "    print()\n",
        "\n",
        "    fold += 1\n",
        "\n",
        "# Cetak rata-rata skor akhir\n",
        "print(\"Final Average Results:\")\n",
        "print(f\"  Accuracy : {np.mean(accuracies) * 100:.2f}%\")\n",
        "print(f\"  Precision: {np.mean(precisions) * 100:.2f}%\")\n",
        "print(f\"  Recall   : {np.mean(recalls) * 100:.2f}%\")\n",
        "print(f\"  F1 Score : {np.mean(f1_scores) * 100:.2f}%\")\n"
      ],
      "metadata": {
        "colab": {
          "base_uri": "https://localhost:8080/"
        },
        "id": "S-4yclv4BBB2",
        "outputId": "b968ea45-6f44-42cf-f321-140a09f9c107"
      },
      "execution_count": null,
      "outputs": [
        {
          "output_type": "stream",
          "name": "stdout",
          "text": [
            "  Best Parameters: {'bootstrap': False, 'max_depth': None, 'min_samples_leaf': 2, 'min_samples_split': 5, 'n_estimators': 300}\n",
            "Fold 1:\n",
            "  Accuracy : 66.67%\n",
            "  Precision: 66.58%\n",
            "  Recall   : 66.67%\n",
            "  F1 Score : 66.17%\n",
            "  Confusion Matrix:\n",
            "[[28  4 10]\n",
            " [ 8 30 20]\n",
            " [ 5 12 60]]\n",
            "\n",
            "  Best Parameters: {'bootstrap': True, 'max_depth': 10, 'min_samples_leaf': 1, 'min_samples_split': 2, 'n_estimators': 100}\n",
            "Fold 2:\n",
            "  Accuracy : 57.06%\n",
            "  Precision: 59.95%\n",
            "  Recall   : 57.06%\n",
            "  F1 Score : 56.91%\n",
            "  Confusion Matrix:\n",
            "[[17  6 17]\n",
            " [ 0 33 26]\n",
            " [ 4 23 51]]\n",
            "\n",
            "  Best Parameters: {'bootstrap': False, 'max_depth': 10, 'min_samples_leaf': 2, 'min_samples_split': 5, 'n_estimators': 100}\n",
            "Fold 3:\n",
            "  Accuracy : 65.34%\n",
            "  Precision: 65.54%\n",
            "  Recall   : 65.34%\n",
            "  F1 Score : 65.22%\n",
            "  Confusion Matrix:\n",
            "[[27  2  9]\n",
            " [ 3 27 24]\n",
            " [ 3 20 61]]\n",
            "\n",
            "  Best Parameters: {'bootstrap': True, 'max_depth': None, 'min_samples_leaf': 1, 'min_samples_split': 5, 'n_estimators': 200}\n",
            "Fold 4:\n",
            "  Accuracy : 63.07%\n",
            "  Precision: 63.75%\n",
            "  Recall   : 63.07%\n",
            "  F1 Score : 63.00%\n",
            "  Confusion Matrix:\n",
            "[[25  6  8]\n",
            " [ 4 23 25]\n",
            " [ 1 21 63]]\n",
            "\n",
            "  Best Parameters: {'bootstrap': True, 'max_depth': 10, 'min_samples_leaf': 1, 'min_samples_split': 2, 'n_estimators': 100}\n",
            "Fold 5:\n",
            "  Accuracy : 61.93%\n",
            "  Precision: 61.44%\n",
            "  Recall   : 61.93%\n",
            "  F1 Score : 61.18%\n",
            "  Confusion Matrix:\n",
            "[[16  4  9]\n",
            " [ 5 27 28]\n",
            " [ 3 18 66]]\n",
            "\n",
            "Final Average Results:\n",
            "  Accuracy : 62.81%\n",
            "  Precision: 63.45%\n",
            "  Recall   : 62.81%\n",
            "  F1 Score : 62.50%\n"
          ]
        }
      ]
    },
    {
      "cell_type": "markdown",
      "metadata": {
        "id": "9bz37mNcv_jT"
      },
      "source": [
        "### XGBoost"
      ]
    },
    {
      "cell_type": "code",
      "execution_count": null,
      "metadata": {
        "id": "aWxX4plfwIge"
      },
      "outputs": [],
      "source": [
        "from sklearn.feature_extraction.text import TfidfVectorizer\n",
        "from sklearn.model_selection import GridSearchCV, KFold, cross_val_predict\n",
        "from xgboost import XGBClassifier\n",
        "from sklearn.metrics import accuracy_score, classification_report, confusion_matrix\n",
        "from sklearn.utils.validation import column_or_1d"
      ]
    },
    {
      "cell_type": "code",
      "execution_count": null,
      "metadata": {
        "colab": {
          "base_uri": "https://localhost:8080/"
        },
        "id": "r47vfP23VgP-",
        "outputId": "56c868c2-ce44-4367-8d09-484e0522249f"
      },
      "outputs": [
        {
          "name": "stderr",
          "output_type": "stream",
          "text": [
            "/usr/local/lib/python3.11/dist-packages/xgboost/core.py:158: UserWarning: [14:52:29] WARNING: /workspace/src/learner.cc:740: \n",
            "Parameters: { \"use_label_encoder\" } are not used.\n",
            "\n",
            "  warnings.warn(smsg, UserWarning)\n"
          ]
        },
        {
          "name": "stdout",
          "output_type": "stream",
          "text": [
            "Best Parameters: {'colsample_bytree': 1, 'learning_rate': 0.1, 'max_depth': 3, 'n_estimators': 100, 'subsample': 0.8}\n"
          ]
        },
        {
          "name": "stderr",
          "output_type": "stream",
          "text": [
            "/usr/local/lib/python3.11/dist-packages/xgboost/core.py:158: UserWarning: [14:52:32] WARNING: /workspace/src/learner.cc:740: \n",
            "Parameters: { \"use_label_encoder\" } are not used.\n",
            "\n",
            "  warnings.warn(smsg, UserWarning)\n",
            "/usr/local/lib/python3.11/dist-packages/xgboost/core.py:158: UserWarning: [14:52:34] WARNING: /workspace/src/learner.cc:740: \n",
            "Parameters: { \"use_label_encoder\" } are not used.\n",
            "\n",
            "  warnings.warn(smsg, UserWarning)\n",
            "/usr/local/lib/python3.11/dist-packages/xgboost/core.py:158: UserWarning: [14:52:35] WARNING: /workspace/src/learner.cc:740: \n",
            "Parameters: { \"use_label_encoder\" } are not used.\n",
            "\n",
            "  warnings.warn(smsg, UserWarning)\n",
            "/usr/local/lib/python3.11/dist-packages/xgboost/core.py:158: UserWarning: [14:52:37] WARNING: /workspace/src/learner.cc:740: \n",
            "Parameters: { \"use_label_encoder\" } are not used.\n",
            "\n",
            "  warnings.warn(smsg, UserWarning)\n",
            "/usr/local/lib/python3.11/dist-packages/xgboost/core.py:158: UserWarning: [14:52:38] WARNING: /workspace/src/learner.cc:740: \n",
            "Parameters: { \"use_label_encoder\" } are not used.\n",
            "\n",
            "  warnings.warn(smsg, UserWarning)\n"
          ]
        },
        {
          "name": "stdout",
          "output_type": "stream",
          "text": [
            "Accuracy        : 63.84%\n",
            "Precision       : 63.63%\n",
            "Recall          : 63.83%\n",
            "F1 Score        : 63.45%\n",
            "              precision    recall  f1-score   support\n",
            "\n",
            "           0       0.73      0.66      0.70       188\n",
            "           1       0.56      0.48      0.52       283\n",
            "           2       0.64      0.73      0.69       411\n",
            "\n",
            "    accuracy                           0.64       882\n",
            "   macro avg       0.65      0.63      0.63       882\n",
            "weighted avg       0.64      0.64      0.63       882\n",
            "\n",
            "[[125  19  44]\n",
            " [ 23 136 124]\n",
            " [ 23  86 302]]\n"
          ]
        }
      ],
      "source": [
        "from sklearn.model_selection import KFold, cross_val_score, cross_val_predict\n",
        "\n",
        "labels = news['Rev1_label']\n",
        "skipgram_features = news['stemming'].apply(lambda tokens: get_document_embedding(tokens, skipgram_model)).to_numpy()\n",
        "skipgram_features = np.vstack(skipgram_features)\n",
        "\n",
        "X = skipgram_features\n",
        "y = news['Rev1_label']\n",
        "\n",
        "param_grid_xgb = {\n",
        "    'max_depth': [3, 5, 7],\n",
        "    'learning_rate': [0.01, 0.1, 0.2],\n",
        "    'n_estimators': [100, 200],\n",
        "    'subsample': [0.8, 1],\n",
        "    'colsample_bytree': [0.8, 1]\n",
        "}\n",
        "\n",
        "label_mapping = {-1: 0, 0: 1, 1: 2}\n",
        "y = y.map(label_mapping)\n",
        "\n",
        "\n",
        "xgb_classifier = XGBClassifier(random_state=42, use_label_encoder=False, eval_metric='mlogloss')\n",
        "grid_search_xgb = GridSearchCV(xgb_classifier, param_grid_xgb, cv=5, scoring='accuracy', n_jobs=-1)\n",
        "grid_search_xgb.fit(X, y)\n",
        "print(f\"Best Parameters: {grid_search_xgb.best_params_}\")\n",
        "\n",
        "best_xgb_model = grid_search_xgb.best_estimator_\n",
        "\n",
        "kf = KFold(n_splits=5, shuffle=True, random_state=42)\n",
        "y_pred = cross_val_predict(best_xgb_model, X, y, cv=kf)\n",
        "\n",
        "accuracy_xgbg = accuracy_score(y, y_pred)\n",
        "precision_xgb = precision_score(y, y_pred, average='weighted', zero_division=0)\n",
        "recall_xgb = recall_score(y, y_pred, average='weighted', zero_division=0)\n",
        "f1_xgb = f1_score(y, y_pred, average='weighted', zero_division=0)\n",
        "\n",
        "print(f\"Accuracy        : {accuracy_xgb * 100:.2f}%\")\n",
        "print(f\"Precision       : {precision_xgb * 100:.2f}%\")\n",
        "print(f\"Recall          : {recall_xgb * 100:.2f}%\")\n",
        "print(f\"F1 Score        : {f1_xgb * 100:.2f}%\")\n",
        "\n",
        "print(classification_report(y, y_pred, zero_division=0))\n",
        "print(confusion_matrix(y, y_pred))"
      ]
    },
    {
      "cell_type": "code",
      "source": [
        "import numpy as np\n",
        "from xgboost import XGBClassifier\n",
        "from sklearn.model_selection import KFold, GridSearchCV\n",
        "from sklearn.metrics import accuracy_score, confusion_matrix, classification_report, precision_score, recall_score, f1_score\n",
        "\n",
        "# Mapping label seperti yang kamu minta\n",
        "label_mapping = {-1: 0, 0: 1, 1: 2}\n",
        "y = news['Rev1_label'].map(label_mapping)\n",
        "X = skipgram_features\n",
        "\n",
        "# Parameter grid untuk XGBoost\n",
        "param_grid_xgb = {\n",
        "    'max_depth': [3, 5, 7],\n",
        "    'learning_rate': [0.01, 0.1, 0.2],\n",
        "    'n_estimators': [100, 200],\n",
        "    'subsample': [0.8, 1],\n",
        "    'colsample_bytree': [0.8, 1]\n",
        "}\n",
        "\n",
        "kf = KFold(n_splits=5, shuffle=True, random_state=42)\n",
        "\n",
        "# List untuk simpan skor per fold\n",
        "accuracies = []\n",
        "precisions = []\n",
        "recalls = []\n",
        "f1_scores = []\n",
        "\n",
        "fold = 1\n",
        "for train_index, val_index in kf.split(X, y):\n",
        "    X_train, X_val = X[train_index], X[val_index]\n",
        "    y_train, y_val = y.iloc[train_index], y.iloc[val_index]\n",
        "\n",
        "    xgb = XGBClassifier(use_label_encoder=False, eval_metric='mlogloss', random_state=42)\n",
        "    grid_search = GridSearchCV(xgb, param_grid_xgb, cv=5, scoring='accuracy', n_jobs=-1)\n",
        "    grid_search.fit(X_train, y_train)\n",
        "    best_model = grid_search.best_estimator_\n",
        "    print(\"  Best Parameters:\", grid_search.best_params_)\n",
        "\n",
        "    val_pred = best_model.predict(X_val)\n",
        "\n",
        "    accuracy = accuracy_score(y_val, val_pred)\n",
        "    precision = precision_score(y_val, val_pred, average='weighted', zero_division=0)\n",
        "    recall = recall_score(y_val, val_pred, average='weighted', zero_division=0)\n",
        "    f1 = f1_score(y_val, val_pred, average='weighted', zero_division=0)\n",
        "    cm = confusion_matrix(y_val, val_pred)\n",
        "\n",
        "    # Simpan ke list\n",
        "    accuracies.append(accuracy)\n",
        "    precisions.append(precision)\n",
        "    recalls.append(recall)\n",
        "    f1_scores.append(f1)\n",
        "\n",
        "    print(f\"Fold {fold}:\")\n",
        "    print(f\"  Accuracy : {accuracy * 100:.2f}%\")\n",
        "    print(f\"  Precision: {precision * 100:.2f}%\")\n",
        "    print(f\"  Recall   : {recall * 100:.2f}%\")\n",
        "    print(f\"  F1 Score : {f1 * 100:.2f}%\")\n",
        "    print(\"  Confusion Matrix:\")\n",
        "    print(cm)\n",
        "    print()\n",
        "\n",
        "    fold += 1\n",
        "\n",
        "# Cetak rata-rata skor akhir\n",
        "print(\"Final Average Results:\")\n",
        "print(f\"  Accuracy : {np.mean(accuracies) * 100:.2f}%\")\n",
        "print(f\"  Precision: {np.mean(precisions) * 100:.2f}%\")\n",
        "print(f\"  Recall   : {np.mean(recalls) * 100:.2f}%\")\n",
        "print(f\"  F1 Score : {np.mean(f1_scores) * 100:.2f}%\")\n"
      ],
      "metadata": {
        "colab": {
          "base_uri": "https://localhost:8080/"
        },
        "id": "wA3SwhSDBXCt",
        "outputId": "954deb3e-ee30-4bfc-ac6d-b204dd4b4e71"
      },
      "execution_count": null,
      "outputs": [
        {
          "metadata": {
            "tags": null
          },
          "name": "stderr",
          "output_type": "stream",
          "text": [
            "/usr/local/lib/python3.11/dist-packages/xgboost/core.py:158: UserWarning: [05:09:51] WARNING: /workspace/src/learner.cc:740: \n",
            "Parameters: { \"use_label_encoder\" } are not used.\n",
            "\n",
            "  warnings.warn(smsg, UserWarning)\n"
          ]
        },
        {
          "metadata": {
            "tags": null
          },
          "name": "stdout",
          "output_type": "stream",
          "text": [
            "  Best Parameters: {'colsample_bytree': 0.8, 'learning_rate': 0.2, 'max_depth': 3, 'n_estimators': 100, 'subsample': 0.8}\n",
            "Fold 1:\n",
            "  Accuracy : 62.15%\n",
            "  Precision: 61.89%\n",
            "  Recall   : 62.15%\n",
            "  F1 Score : 61.61%\n",
            "  Confusion Matrix:\n",
            "[[26  5 11]\n",
            " [ 8 27 23]\n",
            " [ 5 15 57]]\n",
            "\n"
          ]
        },
        {
          "metadata": {
            "tags": null
          },
          "name": "stderr",
          "output_type": "stream",
          "text": [
            "/usr/local/lib/python3.11/dist-packages/xgboost/core.py:158: UserWarning: [05:33:46] WARNING: /workspace/src/learner.cc:740: \n",
            "Parameters: { \"use_label_encoder\" } are not used.\n",
            "\n",
            "  warnings.warn(smsg, UserWarning)\n"
          ]
        },
        {
          "metadata": {
            "tags": null
          },
          "name": "stdout",
          "output_type": "stream",
          "text": [
            "  Best Parameters: {'colsample_bytree': 0.8, 'learning_rate': 0.2, 'max_depth': 5, 'n_estimators': 100, 'subsample': 0.8}\n",
            "Fold 2:\n",
            "  Accuracy : 59.89%\n",
            "  Precision: 61.03%\n",
            "  Recall   : 59.89%\n",
            "  F1 Score : 59.89%\n",
            "  Confusion Matrix:\n",
            "[[21  6 13]\n",
            " [ 2 33 24]\n",
            " [ 5 21 52]]\n",
            "\n"
          ]
        },
        {
          "metadata": {
            "tags": null
          },
          "name": "stderr",
          "output_type": "stream",
          "text": [
            "/usr/local/lib/python3.11/dist-packages/xgboost/core.py:158: UserWarning: [05:57:31] WARNING: /workspace/src/learner.cc:740: \n",
            "Parameters: { \"use_label_encoder\" } are not used.\n",
            "\n",
            "  warnings.warn(smsg, UserWarning)\n"
          ]
        },
        {
          "metadata": {
            "tags": null
          },
          "name": "stdout",
          "output_type": "stream",
          "text": [
            "  Best Parameters: {'colsample_bytree': 0.8, 'learning_rate': 0.2, 'max_depth': 7, 'n_estimators': 200, 'subsample': 0.8}\n",
            "Fold 3:\n",
            "  Accuracy : 64.20%\n",
            "  Precision: 63.79%\n",
            "  Recall   : 64.20%\n",
            "  F1 Score : 63.85%\n",
            "  Confusion Matrix:\n",
            "[[28  3  7]\n",
            " [ 4 25 25]\n",
            " [ 5 19 60]]\n",
            "\n"
          ]
        },
        {
          "output_type": "stream",
          "name": "stderr",
          "text": [
            "/usr/local/lib/python3.11/dist-packages/xgboost/core.py:158: UserWarning: [06:22:04] WARNING: /workspace/src/learner.cc:740: \n",
            "Parameters: { \"use_label_encoder\" } are not used.\n",
            "\n",
            "  warnings.warn(smsg, UserWarning)\n"
          ]
        },
        {
          "output_type": "stream",
          "name": "stdout",
          "text": [
            "  Best Parameters: {'colsample_bytree': 0.8, 'learning_rate': 0.1, 'max_depth': 7, 'n_estimators': 200, 'subsample': 0.8}\n",
            "Fold 4:\n",
            "  Accuracy : 66.48%\n",
            "  Precision: 66.61%\n",
            "  Recall   : 66.48%\n",
            "  F1 Score : 66.54%\n",
            "  Confusion Matrix:\n",
            "[[28  6  5]\n",
            " [ 7 27 18]\n",
            " [ 3 20 62]]\n",
            "\n"
          ]
        },
        {
          "output_type": "stream",
          "name": "stderr",
          "text": [
            "/usr/local/lib/python3.11/dist-packages/xgboost/core.py:158: UserWarning: [06:46:22] WARNING: /workspace/src/learner.cc:740: \n",
            "Parameters: { \"use_label_encoder\" } are not used.\n",
            "\n",
            "  warnings.warn(smsg, UserWarning)\n"
          ]
        },
        {
          "output_type": "stream",
          "name": "stdout",
          "text": [
            "  Best Parameters: {'colsample_bytree': 0.8, 'learning_rate': 0.2, 'max_depth': 5, 'n_estimators': 200, 'subsample': 0.8}\n",
            "Fold 5:\n",
            "  Accuracy : 63.07%\n",
            "  Precision: 62.51%\n",
            "  Recall   : 63.07%\n",
            "  F1 Score : 62.65%\n",
            "  Confusion Matrix:\n",
            "[[21  4  4]\n",
            " [ 5 27 28]\n",
            " [ 2 22 63]]\n",
            "\n",
            "Final Average Results:\n",
            "  Accuracy : 63.16%\n",
            "  Precision: 63.16%\n",
            "  Recall   : 63.16%\n",
            "  F1 Score : 62.91%\n"
          ]
        }
      ]
    },
    {
      "cell_type": "markdown",
      "metadata": {
        "id": "frV4mGMdQ1WJ"
      },
      "source": [
        "# SMOTE"
      ]
    },
    {
      "cell_type": "code",
      "execution_count": null,
      "metadata": {
        "id": "ChCpRDsqSwt9"
      },
      "outputs": [],
      "source": [
        "from imblearn.over_sampling import SMOTE\n",
        "from sklearn.metrics import accuracy_score, precision_score, recall_score, f1_score, confusion_matrix, classification_report\n",
        "from sklearn.model_selection import train_test_split\n",
        "from sklearn.metrics import confusion_matrix\n",
        "\n",
        "labels = news['Rev1_label']\n",
        "skipgram_features = news['stemming'].apply(lambda tokens: get_document_embedding(tokens, skipgram_model)).to_numpy()\n",
        "skipgram_features = np.vstack(skipgram_features)\n",
        "\n",
        "X = skipgram_features\n",
        "y = news['Rev1_label']"
      ]
    },
    {
      "cell_type": "markdown",
      "metadata": {
        "id": "PX0yeAjna754"
      },
      "source": [
        "### Decision Tree"
      ]
    },
    {
      "cell_type": "code",
      "execution_count": null,
      "metadata": {
        "colab": {
          "base_uri": "https://localhost:8080/"
        },
        "id": "CuFhGojfRWNc",
        "outputId": "df03cc5c-f179-4e91-98d1-20be956b5c8f"
      },
      "outputs": [
        {
          "output_type": "stream",
          "name": "stdout",
          "text": [
            "=== Decision Tree with SMOTE on Training Data Only ===\n",
            "Akurasi model   : 59.89%\n",
            "Precision       : 61.24%\n",
            "Recall          : 59.89%\n",
            "F1 Score        : 60.10%\n",
            "Classification Report:\n",
            "              precision    recall  f1-score   support\n",
            "\n",
            "          -1       0.64      0.71      0.68        38\n",
            "           0       0.49      0.58      0.53        57\n",
            "           1       0.69      0.56      0.62        82\n",
            "\n",
            "    accuracy                           0.60       177\n",
            "   macro avg       0.60      0.62      0.61       177\n",
            "weighted avg       0.61      0.60      0.60       177\n",
            "\n",
            "Confusion Matrix:\n",
            "[[27  7  4]\n",
            " [ 7 33 17]\n",
            " [ 8 28 46]]\n"
          ]
        }
      ],
      "source": [
        "import numpy as np\n",
        "import matplotlib.pyplot as plt\n",
        "from sklearn.tree import DecisionTreeClassifier\n",
        "from sklearn.model_selection import train_test_split\n",
        "from sklearn.metrics import accuracy_score, precision_score, recall_score, f1_score, classification_report, confusion_matrix\n",
        "from sklearn.feature_extraction.text import TfidfVectorizer\n",
        "from imblearn.over_sampling import SMOTE\n",
        "\n",
        "\n",
        "X = skipgram_features\n",
        "y = news['Rev1_label']\n",
        "\n",
        "# Split data\n",
        "X_train, X_test, y_train, y_test = train_test_split(\n",
        "    X, y, test_size=0.2, random_state=42, stratify=y\n",
        ")\n",
        "\n",
        "# SMOTE hanya di data training\n",
        "smote = SMOTE(random_state=42)\n",
        "X_train_resampled, y_train_resampled = smote.fit_resample(X_train, y_train)\n",
        "\n",
        "# Train Decision Tree\n",
        "dt_model = DecisionTreeClassifier(random_state=42)\n",
        "dt_model.fit(X_train_resampled, y_train_resampled)\n",
        "\n",
        "# Predict di test set\n",
        "y_pred = dt_model.predict(X_test)\n",
        "\n",
        "# Evaluasi\n",
        "accuracy = accuracy_score(y_test, y_pred)\n",
        "precision = precision_score(y_test, y_pred, average='weighted', zero_division=0)\n",
        "recall = recall_score(y_test, y_pred, average='weighted', zero_division=0)\n",
        "f1 = f1_score(y_test, y_pred, average='weighted', zero_division=0)\n",
        "\n",
        "conf_matrix = confusion_matrix(y_test, y_pred)\n",
        "\n",
        "print(\"=== Decision Tree with SMOTE on Training Data Only ===\")\n",
        "print(f\"Akurasi model   : {accuracy * 100:.2f}%\")\n",
        "print(f\"Precision       : {precision * 100:.2f}%\")\n",
        "print(f\"Recall          : {recall * 100:.2f}%\")\n",
        "print(f\"F1 Score        : {f1 * 100:.2f}%\")\n",
        "print(\"Classification Report:\")\n",
        "print(classification_report(y_test, y_pred, zero_division=0))\n",
        "print(\"Confusion Matrix:\")\n",
        "print(conf_matrix)\n"
      ]
    },
    {
      "cell_type": "markdown",
      "metadata": {
        "id": "i29kUhX-a-mk"
      },
      "source": [
        "### Random Forest"
      ]
    },
    {
      "cell_type": "code",
      "execution_count": null,
      "metadata": {
        "colab": {
          "base_uri": "https://localhost:8080/"
        },
        "id": "iPArVQKxQcgg",
        "outputId": "ed4570e4-0f48-43a0-d763-189b9cc1670e"
      },
      "outputs": [
        {
          "output_type": "stream",
          "name": "stdout",
          "text": [
            "=== Random Forest with SMOTE on Training Data ===\n",
            "Accuracy        : 63.84%\n",
            "Precision       : 64.41%\n",
            "Recall          : 63.84%\n",
            "F1 Score        : 63.82%\n",
            "\n",
            "Classification Report:\n",
            "              precision    recall  f1-score   support\n",
            "\n",
            "          -1       0.67      0.74      0.70        38\n",
            "           0       0.57      0.65      0.61        57\n",
            "           1       0.69      0.59      0.63        82\n",
            "\n",
            "    accuracy                           0.64       177\n",
            "   macro avg       0.64      0.66      0.65       177\n",
            "weighted avg       0.64      0.64      0.64       177\n",
            "\n",
            "\n",
            "Confusion Matrix:\n",
            "[[28  5  5]\n",
            " [ 3 37 17]\n",
            " [11 23 48]]\n"
          ]
        }
      ],
      "source": [
        "def evaluate_smote(X, y, model, description):\n",
        "\n",
        "    X_train, X_test, y_train, y_test = train_test_split(\n",
        "        X, y, test_size=0.2, random_state=42, stratify=y # Stratify berdasarkan y asli\n",
        "    )\n",
        "    smote = SMOTE(random_state=42)\n",
        "    X_train_resampled, y_train_resampled = smote.fit_resample(X_train, y_train)\n",
        "    model.fit(X_train_resampled, y_train_resampled)\n",
        "    y_pred = model.predict(X_test)\n",
        "\n",
        "    accuracy = accuracy_score(y_test, y_pred)\n",
        "    precision = precision_score(y_test, y_pred, average='weighted', zero_division=0)\n",
        "    recall = recall_score(y_test, y_pred, average='weighted', zero_division=0)\n",
        "    f1 = f1_score(y_test, y_pred, average='weighted', zero_division=0)\n",
        "    conf_matrix = confusion_matrix(y_test, y_pred)\n",
        "\n",
        "    print(f\"=== {description} ===\")\n",
        "    print(f\"Accuracy        : {accuracy * 100:.2f}%\") # Menghapus baris duplikat 'Akurasi model'\n",
        "    print(f\"Precision       : {precision * 100:.2f}%\")\n",
        "    print(f\"Recall          : {recall * 100:.2f}%\")\n",
        "    print(f\"F1 Score        : {f1 * 100:.2f}%\")\n",
        "    print(\"\\nClassification Report:\") # Menambahkan newline untuk keterbacaan\n",
        "    print(classification_report(y_test, y_pred, zero_division=0))\n",
        "    print(\"\\nConfusion Matrix:\") # Menambahkan newline untuk keterbacaan\n",
        "    print(conf_matrix)\n",
        "\n",
        "rf_classifier = RandomForestClassifier(random_state=42)\n",
        "evaluate_smote(X, y, rf_classifier, \"Random Forest with SMOTE on Training Data\")"
      ]
    },
    {
      "cell_type": "markdown",
      "metadata": {
        "id": "Mo9zKYYVbCsA"
      },
      "source": [
        "### XGBoost"
      ]
    },
    {
      "cell_type": "code",
      "execution_count": null,
      "metadata": {
        "colab": {
          "base_uri": "https://localhost:8080/"
        },
        "id": "rnxB3me2cKRm",
        "outputId": "f06ac3d5-5516-44ea-923a-947d654a01df"
      },
      "outputs": [
        {
          "output_type": "stream",
          "name": "stdout",
          "text": [
            "=== XGBoost with SMOTE on Training Data ===\n",
            "Accuracy        : 65.54%\n",
            "Precision       : 66.47%\n",
            "Recall          : 65.54%\n",
            "F1 Score        : 65.82%\n",
            "\n",
            "Classification Report:\n",
            "              precision    recall  f1-score   support\n",
            "\n",
            "          -1       0.76      0.68      0.72        38\n",
            "           0       0.55      0.63      0.59        57\n",
            "           1       0.70      0.66      0.68        82\n",
            "\n",
            "    accuracy                           0.66       177\n",
            "   macro avg       0.67      0.66      0.66       177\n",
            "weighted avg       0.66      0.66      0.66       177\n",
            "\n",
            "\n",
            "Confusion Matrix:\n",
            "[[26  7  5]\n",
            " [ 3 36 18]\n",
            " [ 5 23 54]]\n"
          ]
        }
      ],
      "source": [
        "X = skipgram_features\n",
        "y = news['Rev1_label']\n",
        "label_mapping = {-1: 0, 0: 1, 1: 2}\n",
        "y_mapped = y.map(label_mapping)\n",
        "\n",
        "def evaluate_smote(X, y_mapped, model, description):\n",
        "    X_train, X_test, y_train, y_test = train_test_split(\n",
        "        X, y_mapped, test_size=0.2, random_state=42, stratify=y_mapped\n",
        "    )\n",
        "# Split data\n",
        "X_train, X_test, y_train, y_test = train_test_split(\n",
        "    X, y, test_size=0.2, random_state=42, stratify=y\n",
        ")\n",
        "def evaluate_smote(X, y_mapped, model, description):\n",
        "    X_train, X_test, y_train, y_test = train_test_split(\n",
        "        X, y_mapped, test_size=0.2, random_state=42, stratify=y_mapped\n",
        "    )\n",
        "\n",
        "    smote = SMOTE(random_state=42)\n",
        "    X_train_resampled, y_train_resampled = smote.fit_resample(X_train, y_train)\n",
        "    model.fit(X_train_resampled, y_train_resampled)\n",
        "    y_pred = model.predict(X_test)\n",
        "\n",
        "    accuracy = accuracy_score(y_test, y_pred)\n",
        "    precision = precision_score(y_test, y_pred, average='weighted', zero_division=0)\n",
        "    recall = recall_score(y_test, y_pred, average='weighted', zero_division=0)\n",
        "    f1 = f1_score(y_test, y_pred, average='weighted', zero_division=0)\n",
        "    conf_matrix = confusion_matrix(y_test, y_pred)\n",
        "\n",
        "    original_labels = sorted(label_mapping, key=label_mapping.get)\n",
        "\n",
        "    print(f\"=== {description} ===\")\n",
        "    print(f\"Accuracy        : {accuracy * 100:.2f}%\")\n",
        "    print(f\"Precision       : {precision * 100:.2f}%\")\n",
        "    print(f\"Recall          : {recall * 100:.2f}%\")\n",
        "    print(f\"F1 Score        : {f1 * 100:.2f}%\")\n",
        "    print(\"\\nClassification Report:\")\n",
        "    print(classification_report(y_test, y_pred, zero_division=0, target_names=[str(l) for l in original_labels])) # Mengubah int ke string\n",
        "    print(\"\\nConfusion Matrix:\")\n",
        "    print(conf_matrix)\n",
        "\n",
        "xgb_classifier = XGBClassifier(random_state=42)\n",
        "evaluate_smote(X, y_mapped, xgb_classifier, \"XGBoost with SMOTE on Training Data\")"
      ]
    },
    {
      "cell_type": "code",
      "execution_count": null,
      "metadata": {
        "colab": {
          "base_uri": "https://localhost:8080/"
        },
        "id": "JZDBmwwuqo4g",
        "outputId": "84240d2b-8fa2-4414-ad78-9b6d67d2c96e"
      },
      "outputs": [
        {
          "name": "stdout",
          "output_type": "stream",
          "text": [
            "=== XGBoost with SMOTE ===\n",
            "Accuracy: 73.51%\n",
            "Precision       : 72.82%\n",
            "Recall          : 73.51%\n",
            "F1 Score        : 72.89%\n",
            "Classification Report:\n",
            "              precision    recall  f1-score   support\n",
            "\n",
            "          -1       0.83      0.96      0.89       123\n",
            "           0       0.65      0.64      0.65       123\n",
            "           1       0.70      0.60      0.65       124\n",
            "\n",
            "    accuracy                           0.74       370\n",
            "   macro avg       0.73      0.74      0.73       370\n",
            "weighted avg       0.73      0.74      0.73       370\n",
            "\n",
            "Confusion Matrix:\n",
            "[[118   3   2]\n",
            " [ 14  79  30]\n",
            " [ 10  39  75]]\n"
          ]
        }
      ],
      "source": [
        "def evaluate_smote(X, y, model, description):\n",
        "    smote = SMOTE(random_state=42)\n",
        "    X_resampled, y_resampled = smote.fit_resample(X, y)\n",
        "\n",
        "    X_train, X_test, y_train, y_test = train_test_split(\n",
        "        X_resampled, y_resampled, test_size=0.3, random_state=42, stratify=y_resampled\n",
        "    )\n",
        "\n",
        "    model.fit(X_train, y_train)\n",
        "    y_pred = model.predict(X_test)\n",
        "\n",
        "    accuracy = accuracy_score(y_test, y_pred)\n",
        "    precision = precision_score(y_test, y_pred, average='weighted', zero_division=0)\n",
        "    recall = recall_score(y_test, y_pred, average='weighted', zero_division=0)\n",
        "    f1 = f1_score(y_test, y_pred, average='weighted', zero_division=0)\n",
        "\n",
        "    conf_matrix = confusion_matrix(y_test, y_pred)\n",
        "\n",
        "    print(f\"=== {description} ===\")\n",
        "    print(f\"Accuracy: {accuracy * 100:.2f}%\")\n",
        "    print(f\"Precision       : {precision * 100:.2f}%\")\n",
        "    print(f\"Recall          : {recall * 100:.2f}%\")\n",
        "    print(f\"F1 Score        : {f1 * 100:.2f}%\")\n",
        "    print(\"Classification Report:\")\n",
        "    print(classification_report(y_test, y_pred, zero_division=0, target_names=['-1', '0', '1']))\n",
        "    print(\"Confusion Matrix:\")\n",
        "    print(conf_matrix)\n",
        "\n",
        "\n",
        "xgb_classifier = XGBClassifier(random_state=42)\n",
        "label_mapping = {-1: 0, 0: 1, 1: 2}\n",
        "y_mapped = y.map(label_mapping)\n",
        "\n",
        "# Evaluate XGBoost with SMOTE using the mapped labels\n",
        "evaluate_smote(X, y_mapped, xgb_classifier, \"XGBoost with SMOTE\")"
      ]
    },
    {
      "cell_type": "markdown",
      "metadata": {
        "id": "EjH1kemd3vFt"
      },
      "source": [
        "# Grafik"
      ]
    },
    {
      "cell_type": "markdown",
      "source": [
        "### Decision Tree"
      ],
      "metadata": {
        "id": "qHZzDSKpSoCO"
      }
    },
    {
      "cell_type": "code",
      "execution_count": null,
      "metadata": {
        "colab": {
          "base_uri": "https://localhost:8080/",
          "height": 1000
        },
        "id": "fP2mpGui33Cz",
        "outputId": "66393d19-0343-479f-f170-76805cd1b729"
      },
      "outputs": [
        {
          "output_type": "stream",
          "name": "stdout",
          "text": [
            "Fold 1:\n",
            "  Best Params: {'criterion': 'gini', 'max_depth': None, 'min_samples_leaf': 4, 'min_samples_split': 2}\n",
            "  Train Accuracy: 0.8780\n",
            "  Validation Accuracy: 0.5989\n",
            "\n"
          ]
        },
        {
          "output_type": "display_data",
          "data": {
            "text/plain": [
              "<Figure size 640x480 with 2 Axes>"
            ],
            "image/png": "[encoded data removed]"
          },
          "metadata": {}
        },
        {
          "output_type": "stream",
          "name": "stdout",
          "text": [
            "Fold 2:\n",
            "  Best Params: {'criterion': 'gini', 'max_depth': 5, 'min_samples_leaf': 4, 'min_samples_split': 10}\n",
            "  Train Accuracy: 0.7191\n",
            "  Validation Accuracy: 0.5198\n",
            "\n"
          ]
        },
        {
          "output_type": "display_data",
          "data": {
            "text/plain": [
              "<Figure size 640x480 with 2 Axes>"
            ],
            "image/png": "[encoded data removed]"
          },
          "metadata": {}
        },
        {
          "output_type": "stream",
          "name": "stdout",
          "text": [
            "Fold 3:\n",
            "  Best Params: {'criterion': 'entropy', 'max_depth': 20, 'min_samples_leaf': 1, 'min_samples_split': 2}\n",
            "  Train Accuracy: 0.9773\n",
            "  Validation Accuracy: 0.5455\n",
            "\n"
          ]
        },
        {
          "output_type": "display_data",
          "data": {
            "text/plain": [
              "<Figure size 640x480 with 2 Axes>"
            ],
            "image/png": "[encoded data removed]"
          },
          "metadata": {}
        },
        {
          "output_type": "stream",
          "name": "stdout",
          "text": [
            "Fold 4:\n",
            "  Best Params: {'criterion': 'entropy', 'max_depth': 5, 'min_samples_leaf': 1, 'min_samples_split': 2}\n",
            "  Train Accuracy: 0.6728\n",
            "  Validation Accuracy: 0.5568\n",
            "\n"
          ]
        },
        {
          "output_type": "display_data",
          "data": {
            "text/plain": [
              "<Figure size 640x480 with 2 Axes>"
            ],
            "image/png": "[encoded data removed]"
          },
          "metadata": {}
        },
        {
          "output_type": "stream",
          "name": "stdout",
          "text": [
            "Fold 5:\n",
            "  Best Params: {'criterion': 'entropy', 'max_depth': 5, 'min_samples_leaf': 1, 'min_samples_split': 2}\n",
            "  Train Accuracy: 0.6969\n",
            "  Validation Accuracy: 0.5625\n",
            "\n"
          ]
        },
        {
          "output_type": "display_data",
          "data": {
            "text/plain": [
              "<Figure size 640x480 with 2 Axes>"
            ],
            "image/png": "[encoded data removed]"
          },
          "metadata": {}
        },
        {
          "output_type": "display_data",
          "data": {
            "text/plain": [
              "<Figure size 800x500 with 1 Axes>"
            ],
            "image/png": "[encoded data removed]"
          },
          "metadata": {}
        }
      ],
      "source": [
        "import numpy as np\n",
        "import matplotlib.pyplot as plt\n",
        "from sklearn.tree import DecisionTreeClassifier\n",
        "from sklearn.model_selection import StratifiedKFold, GridSearchCV\n",
        "from sklearn.metrics import accuracy_score, confusion_matrix, ConfusionMatrixDisplay\n",
        "from sklearn.feature_extraction.text import TfidfVectorizer\n",
        "\n",
        "# TF-IDF vectorization\n",
        "labels = news['Rev1_label']\n",
        "X = skipgram_features\n",
        "y = news['Rev1_label']\n",
        "\n",
        "\n",
        "# Parameter grid untuk GridSearch\n",
        "param_grid_dt = {\n",
        "    'criterion': ['gini', 'entropy'],\n",
        "    'max_depth': [None, 5, 10, 20],\n",
        "    'min_samples_split': [2, 5, 10],\n",
        "    'min_samples_leaf': [1, 2, 4],\n",
        "}\n",
        "\n",
        "train_accuracies = []\n",
        "val_accuracies = []\n",
        "\n",
        "kf = KFold(n_splits=5, shuffle=True, random_state=42)\n",
        "\n",
        "fold = 1\n",
        "for train_index, val_index in kf.split(X, y):\n",
        "    X_train, X_val = X[train_index], X[val_index]\n",
        "    y_train, y_val = y.iloc[train_index], y.iloc[val_index]\n",
        "\n",
        "    dt = DecisionTreeClassifier(random_state=42)\n",
        "    grid_search = GridSearchCV(dt, param_grid_dt, cv=5, scoring='accuracy')\n",
        "    grid_search.fit(X_train, y_train)\n",
        "    best_model = grid_search.best_estimator_\n",
        "\n",
        "    train_pred = best_model.predict(X_train)\n",
        "    val_pred = best_model.predict(X_val)\n",
        "\n",
        "    train_acc = accuracy_score(y_train, train_pred)\n",
        "    val_acc = accuracy_score(y_val, val_pred)\n",
        "\n",
        "    train_accuracies.append(train_acc)\n",
        "    val_accuracies.append(val_acc)\n",
        "\n",
        "    print(f\"Fold {fold}:\")\n",
        "    print(f\"  Best Params: {grid_search.best_params_}\")\n",
        "    print(f\"  Train Accuracy: {train_acc:.4f}\")\n",
        "    print(f\"  Validation Accuracy: {val_acc:.4f}\\n\")\n",
        "\n",
        "    # Confusion matrix untuk validation set\n",
        "    cm = confusion_matrix(y_val, val_pred, labels=best_model.classes_)\n",
        "    disp = ConfusionMatrixDisplay(confusion_matrix=cm, display_labels=best_model.classes_)\n",
        "    disp.plot(cmap=plt.cm.Blues)\n",
        "    plt.title(f\"Confusion Matrix - Fold {fold}\")\n",
        "    plt.grid(False)\n",
        "    plt.show()\n",
        "\n",
        "    fold += 1\n",
        "\n",
        "# Plot grafik akurasi\n",
        "plt.figure(figsize=(8, 5))\n",
        "plt.plot(range(1, 6), train_accuracies, marker='o', label='Train Accuracy')\n",
        "plt.plot(range(1, 6), val_accuracies, marker='s', label='Validation Accuracy')\n",
        "plt.title('Train vs Validation Accuracy per Fold - Decision Tree')\n",
        "plt.xlabel('Fold')\n",
        "plt.ylabel('Accuracy')\n",
        "plt.ylim(0, 1)\n",
        "plt.xticks(range(1, 6))\n",
        "plt.grid(True)\n",
        "plt.legend()\n",
        "plt.tight_layout()\n",
        "plt.show()\n"
      ]
    },
    {
      "cell_type": "code",
      "execution_count": null,
      "metadata": {
        "colab": {
          "base_uri": "https://localhost:8080/",
          "height": 680
        },
        "id": "JKFloghk3_8F",
        "outputId": "a66720b0-07ed-4e03-f56b-0ec48f5ffe8f"
      },
      "outputs": [
        {
          "name": "stdout",
          "output_type": "stream",
          "text": [
            "Akurasi: 0.5367\n",
            "Classification Report:\n",
            "               precision    recall  f1-score   support\n",
            "\n",
            "          -1       0.59      0.53      0.56        38\n",
            "           0       0.44      0.58      0.50        57\n",
            "           1       0.62      0.51      0.56        82\n",
            "\n",
            "    accuracy                           0.54       177\n",
            "   macro avg       0.55      0.54      0.54       177\n",
            "weighted avg       0.55      0.54      0.54       177\n",
            "\n"
          ]
        },
        {
          "data": {
            "image/png": "[encoded data removed]",
            "text/plain": [
              "<Figure size 640x480 with 2 Axes>"
            ]
          },
          "metadata": {},
          "output_type": "display_data"
        }
      ],
      "source": [
        "import numpy as np\n",
        "import matplotlib.pyplot as plt\n",
        "from sklearn.tree import DecisionTreeClassifier\n",
        "from sklearn.model_selection import train_test_split\n",
        "from sklearn.metrics import accuracy_score, classification_report, confusion_matrix, ConfusionMatrixDisplay\n",
        "from sklearn.feature_extraction.text import TfidfVectorizer\n",
        "from imblearn.over_sampling import SMOTE\n",
        "\n",
        "\n",
        "X = skipgram_features\n",
        "y = news['Rev1_label']\n",
        "\n",
        "# Split data\n",
        "X_train, X_test, y_train, y_test = train_test_split(\n",
        "    X, y, test_size=0.2, random_state=42, stratify=y\n",
        ")\n",
        "\n",
        "# SMOTE hanya di data training\n",
        "smote = SMOTE(random_state=42)\n",
        "X_train_resampled, y_train_resampled = smote.fit_resample(X_train, y_train)\n",
        "\n",
        "# Train Decision Tree\n",
        "dt_model = DecisionTreeClassifier(random_state=42)\n",
        "dt_model.fit(X_train_resampled, y_train_resampled)\n",
        "\n",
        "# Predict di test set\n",
        "y_pred = dt_model.predict(X_test)\n",
        "\n",
        "# Evaluasi\n",
        "accuracy = accuracy_score(y_test, y_pred)\n",
        "print(f\"Akurasi: {accuracy:.4f}\")\n",
        "print(\"Classification Report:\\n\", classification_report(y_test, y_pred, zero_division=0))\n",
        "\n",
        "# Confusion Matrix\n",
        "cm = confusion_matrix(y_test, y_pred, labels=dt_model.classes_)\n",
        "disp = ConfusionMatrixDisplay(confusion_matrix=cm, display_labels=dt_model.classes_)\n",
        "disp.plot(cmap=plt.cm.Blues)\n",
        "plt.title(\"Confusion Matrix - Decision Tree with SMOTE\")\n",
        "plt.grid(False)\n",
        "plt.show()\n"
      ]
    },
    {
      "cell_type": "code",
      "execution_count": null,
      "metadata": {
        "colab": {
          "base_uri": "https://localhost:8080/",
          "height": 506
        },
        "id": "V8XtBIXp4C80",
        "outputId": "efbd388e-3086-4086-fc45-74fa2be2437c"
      },
      "outputs": [
        {
          "output_type": "display_data",
          "data": {
            "text/plain": [
              "<Figure size 600x500 with 1 Axes>"
            ],
            "image/png": "[encoded data removed]"
          },
          "metadata": {}
        }
      ],
      "source": [
        "import matplotlib.pyplot as plt\n",
        "\n",
        "accuracy_before_smote = 0.59\n",
        "accuracy_after_smote = accuracy\n",
        "\n",
        "models = ['Decision Tree\\n(Tanpa SMOTE)', 'Decision Tree\\n(Dengan SMOTE)']\n",
        "accuracies = [accuracy_before_smote, accuracy_after_smote]\n",
        "\n",
        "plt.figure(figsize=(6, 5))\n",
        "bars = plt.bar(models, accuracies, color=['orange', 'green'])\n",
        "plt.ylim(0, 1)\n",
        "plt.ylabel('Akurasi')\n",
        "plt.title('Comparison Accuracy Decision Tree without and with SMOTE')\n",
        "plt.grid(axis='y', linestyle='--', alpha=0.7)\n",
        "\n",
        "for bar in bars:\n",
        "    yval = bar.get_height()\n",
        "    plt.text(bar.get_x() + bar.get_width() / 2, yval + 0.02, f'{yval:.2f}', ha='center', fontsize=10)\n",
        "\n",
        "plt.tight_layout()\n",
        "plt.show()\n"
      ]
    },
    {
      "cell_type": "markdown",
      "metadata": {
        "id": "3y6rQQ_N87pF"
      },
      "source": [
        "### Random Forest"
      ]
    },
    {
      "cell_type": "code",
      "execution_count": null,
      "metadata": {
        "colab": {
          "base_uri": "https://localhost:8080/",
          "height": 1000
        },
        "id": "pSKCkSSy9BRv",
        "outputId": "48015441-9d8a-44ee-c782-520bd8e7e1e7"
      },
      "outputs": [
        {
          "output_type": "stream",
          "name": "stdout",
          "text": [
            "Fold 1:\n",
            "  Best Params: {'bootstrap': True, 'max_depth': None, 'min_samples_leaf': 1, 'min_samples_split': 5, 'n_estimators': 300}\n",
            "  Train Accuracy: 0.9830\n",
            "  Validation Accuracy: 0.6215\n",
            "\n"
          ]
        },
        {
          "output_type": "display_data",
          "data": {
            "text/plain": [
              "<Figure size 640x480 with 2 Axes>"
            ],
            "image/png": "[encoded data removed]"
          },
          "metadata": {}
        },
        {
          "output_type": "stream",
          "name": "stdout",
          "text": [
            "Fold 2:\n",
            "  Best Params: {'bootstrap': True, 'max_depth': 10, 'min_samples_leaf': 2, 'min_samples_split': 2, 'n_estimators': 100}\n",
            "  Train Accuracy: 0.9688\n",
            "  Validation Accuracy: 0.5932\n",
            "\n"
          ]
        },
        {
          "output_type": "display_data",
          "data": {
            "text/plain": [
              "<Figure size 640x480 with 2 Axes>"
            ],
            "image/png": "[encoded data removed]"
          },
          "metadata": {}
        },
        {
          "output_type": "stream",
          "name": "stdout",
          "text": [
            "Fold 3:\n",
            "  Best Params: {'bootstrap': True, 'max_depth': 10, 'min_samples_leaf': 2, 'min_samples_split': 5, 'n_estimators': 100}\n",
            "  Train Accuracy: 0.9632\n",
            "  Validation Accuracy: 0.6591\n",
            "\n"
          ]
        },
        {
          "output_type": "display_data",
          "data": {
            "text/plain": [
              "<Figure size 640x480 with 2 Axes>"
            ],
            "image/png": "[encoded data removed]"
          },
          "metadata": {}
        },
        {
          "output_type": "stream",
          "name": "stdout",
          "text": [
            "Fold 4:\n",
            "  Best Params: {'bootstrap': True, 'max_depth': None, 'min_samples_leaf': 2, 'min_samples_split': 5, 'n_estimators': 300}\n",
            "  Train Accuracy: 0.9773\n",
            "  Validation Accuracy: 0.6648\n",
            "\n"
          ]
        },
        {
          "output_type": "display_data",
          "data": {
            "text/plain": [
              "<Figure size 640x480 with 2 Axes>"
            ],
            "image/png": "[encoded data removed]"
          },
          "metadata": {}
        },
        {
          "output_type": "stream",
          "name": "stdout",
          "text": [
            "Fold 5:\n",
            "  Best Params: {'bootstrap': False, 'max_depth': 10, 'min_samples_leaf': 2, 'min_samples_split': 5, 'n_estimators': 100}\n",
            "  Train Accuracy: 0.9858\n",
            "  Validation Accuracy: 0.6136\n",
            "\n"
          ]
        },
        {
          "output_type": "display_data",
          "data": {
            "text/plain": [
              "<Figure size 640x480 with 2 Axes>"
            ],
            "image/png": "[encoded data removed]"
          },
          "metadata": {}
        },
        {
          "output_type": "display_data",
          "data": {
            "text/plain": [
              "<Figure size 800x500 with 1 Axes>"
            ],
            "image/png": "[encoded data removed]"
          },
          "metadata": {}
        }
      ],
      "source": [
        "import numpy as np\n",
        "import matplotlib.pyplot as plt\n",
        "from sklearn.ensemble import RandomForestClassifier\n",
        "from sklearn.model_selection import StratifiedKFold, GridSearchCV\n",
        "from sklearn.metrics import accuracy_score, confusion_matrix, ConfusionMatrixDisplay\n",
        "from sklearn.feature_extraction.text import TfidfVectorizer\n",
        "\n",
        "\n",
        "labels = news['Rev1_label']\n",
        "X = skipgram_features\n",
        "y = news['Rev1_label']\n",
        "\n",
        "param_grid_rf = {\n",
        "    'n_estimators': [100, 200,300],\n",
        "    'max_depth': [None, 10, 20],\n",
        "    'min_samples_split': [2, 5],\n",
        "    'min_samples_leaf': [1, 2],\n",
        "    'bootstrap': [True, False],\n",
        "}\n",
        "train_accuracies = []\n",
        "val_accuracies = []\n",
        "\n",
        "kf = KFold(n_splits=5, shuffle=True, random_state=42)\n",
        "\n",
        "fold = 1\n",
        "for train_index, val_index in kf.split(X, y):\n",
        "    X_train, X_val = X[train_index], X[val_index]\n",
        "    y_train, y_val = y.iloc[train_index], y.iloc[val_index]\n",
        "\n",
        "    rf = RandomForestClassifier(random_state=42)\n",
        "    grid_search = GridSearchCV(rf, param_grid_rf, cv=5, scoring='accuracy')\n",
        "    grid_search.fit(X_train, y_train)\n",
        "    best_model = grid_search.best_estimator_\n",
        "\n",
        "    train_pred = best_model.predict(X_train)\n",
        "    val_pred = best_model.predict(X_val)\n",
        "\n",
        "    train_acc = accuracy_score(y_train, train_pred)\n",
        "    val_acc = accuracy_score(y_val, val_pred)\n",
        "\n",
        "    train_accuracies.append(train_acc)\n",
        "    val_accuracies.append(val_acc)\n",
        "\n",
        "    print(f\"Fold {fold}:\")\n",
        "    print(f\"  Best Params: {grid_search.best_params_}\")\n",
        "    print(f\"  Train Accuracy: {train_acc:.4f}\")\n",
        "    print(f\"  Validation Accuracy: {val_acc:.4f}\\n\")\n",
        "\n",
        "    # Confusion matrix untuk validation set\n",
        "    cm = confusion_matrix(y_val, val_pred, labels=best_model.classes_)\n",
        "    disp = ConfusionMatrixDisplay(confusion_matrix=cm, display_labels=best_model.classes_)\n",
        "    disp.plot(cmap=plt.cm.Blues)\n",
        "    plt.title(f\"Confusion Matrix - Fold {fold}\")\n",
        "    plt.grid(False)\n",
        "    plt.show()\n",
        "\n",
        "    fold += 1\n",
        "\n",
        "# Plot grafik akurasi\n",
        "plt.figure(figsize=(8, 5))\n",
        "plt.plot(range(1, 6), train_accuracies, marker='o', label='Train Accuracy')\n",
        "plt.plot(range(1, 6), val_accuracies, marker='s', label='Validation Accuracy')\n",
        "plt.title('Train vs Validation Accuracy per Fold - Random Forest')\n",
        "plt.xlabel('Fold')\n",
        "plt.ylabel('Accuracy')\n",
        "plt.ylim(0, 1)\n",
        "plt.xticks(range(1, 6))\n",
        "plt.grid(True)\n",
        "plt.legend()\n",
        "plt.tight_layout()\n",
        "plt.show()\n"
      ]
    },
    {
      "cell_type": "code",
      "source": [
        "import matplotlib.pyplot as plt\n",
        "\n",
        "accuracy_before_smote = 0.64\n",
        "accuracy_after_smote = 0.62\n",
        "\n",
        "models = ['Random Forest\\n(Tanpa SMOTE)', 'Random Forest\\n(Dengan SMOTE)']\n",
        "accuracies = [accuracy_before_smote, accuracy_after_smote]\n",
        "\n",
        "plt.figure(figsize=(6, 5))\n",
        "bars = plt.bar(models, accuracies, color=['orange', 'green'])\n",
        "plt.ylim(0, 1)\n",
        "plt.ylabel('Akurasi')\n",
        "plt.title('Comparison Accuracy Random Forest without and with SMOTE')\n",
        "plt.grid(axis='y', linestyle='--', alpha=0.7)\n",
        "\n",
        "for bar in bars:\n",
        "    yval = bar.get_height()\n",
        "    plt.text(bar.get_x() + bar.get_width() / 2, yval + 0.02, f'{yval:.2f}', ha='center', fontsize=10)\n",
        "\n",
        "plt.tight_layout()\n",
        "plt.show()\n"
      ],
      "metadata": {
        "colab": {
          "base_uri": "https://localhost:8080/",
          "height": 506
        },
        "id": "GY--grPsfq53",
        "outputId": "102a09cc-c93d-4f33-ae8d-b2491c6bab4b"
      },
      "execution_count": null,
      "outputs": [
        {
          "output_type": "display_data",
          "data": {
            "text/plain": [
              "<Figure size 600x500 with 1 Axes>"
            ],
            "image/png": "[encoded data removed]"
          },
          "metadata": {}
        }
      ]
    },
    {
      "cell_type": "code",
      "source": [
        "from sklearn.feature_extraction.text import TfidfVectorizer\n",
        "from sklearn.model_selection import train_test_split\n",
        "from xgboost import XGBClassifier\n",
        "import matplotlib.pyplot as plt\n",
        "\n",
        "labels = news['Rev1_label']\n",
        "X = skipgram_features\n",
        "y = news['Rev1_label']\n",
        "\n",
        "# Mapping label agar cocok dengan XGBoost\n",
        "label_mapping = {-1: 0, 0: 1, 1: 2}\n",
        "y_mapped = y.map(label_mapping)\n",
        "\n",
        "# Split data\n",
        "X_train, X_test, y_train, y_test = train_test_split(X, y_mapped, test_size=0.2, random_state=42)\n",
        "\n",
        "# Simulasi \"epoch\" via n_estimators\n",
        "train_scores = []\n",
        "test_scores = []\n",
        "epochs = range(10, 201, 10)\n",
        "\n",
        "for n in epochs:\n",
        "    model = XGBClassifier(n_estimators=n, use_label_encoder=False, eval_metric='mlogloss', random_state=42)\n",
        "    model.fit(X_train, y_train)\n",
        "\n",
        "    train_scores.append(model.score(X_train, y_train))\n",
        "    test_scores.append(model.score(X_test, y_test))\n",
        "\n",
        "# Plot\n",
        "plt.plot(epochs, train_scores, label='Train Accuracy', marker='o')\n",
        "plt.plot(epochs, test_scores, label='Test Accuracy', marker='s')\n",
        "plt.title('XGBoost Accuracy vs Epoch (n_estimators)')\n",
        "plt.xlabel('Epoch (n_estimators)')\n",
        "plt.ylabel('Accuracy')\n",
        "plt.grid(True)\n",
        "plt.legend()\n",
        "plt.show()\n"
      ],
      "metadata": {
        "colab": {
          "base_uri": "https://localhost:8080/",
          "height": 1000
        },
        "id": "C12YFpiwgIdS",
        "outputId": "9509b44a-d109-4cd5-d456-9af9637f90f0"
      },
      "execution_count": null,
      "outputs": [
        {
          "output_type": "stream",
          "name": "stderr",
          "text": [
            "/usr/local/lib/python3.11/dist-packages/xgboost/core.py:158: UserWarning: [01:15:25] WARNING: /workspace/src/learner.cc:740: \n",
            "Parameters: { \"use_label_encoder\" } are not used.\n",
            "\n",
            "  warnings.warn(smsg, UserWarning)\n",
            "/usr/local/lib/python3.11/dist-packages/xgboost/core.py:158: UserWarning: [01:15:25] WARNING: /workspace/src/learner.cc:740: \n",
            "Parameters: { \"use_label_encoder\" } are not used.\n",
            "\n",
            "  warnings.warn(smsg, UserWarning)\n",
            "/usr/local/lib/python3.11/dist-packages/xgboost/core.py:158: UserWarning: [01:15:26] WARNING: /workspace/src/learner.cc:740: \n",
            "Parameters: { \"use_label_encoder\" } are not used.\n",
            "\n",
            "  warnings.warn(smsg, UserWarning)\n",
            "/usr/local/lib/python3.11/dist-packages/xgboost/core.py:158: UserWarning: [01:15:28] WARNING: /workspace/src/learner.cc:740: \n",
            "Parameters: { \"use_label_encoder\" } are not used.\n",
            "\n",
            "  warnings.warn(smsg, UserWarning)\n",
            "/usr/local/lib/python3.11/dist-packages/xgboost/core.py:158: UserWarning: [01:15:33] WARNING: /workspace/src/learner.cc:740: \n",
            "Parameters: { \"use_label_encoder\" } are not used.\n",
            "\n",
            "  warnings.warn(smsg, UserWarning)\n",
            "/usr/local/lib/python3.11/dist-packages/xgboost/core.py:158: UserWarning: [01:15:35] WARNING: /workspace/src/learner.cc:740: \n",
            "Parameters: { \"use_label_encoder\" } are not used.\n",
            "\n",
            "  warnings.warn(smsg, UserWarning)\n",
            "/usr/local/lib/python3.11/dist-packages/xgboost/core.py:158: UserWarning: [01:15:37] WARNING: /workspace/src/learner.cc:740: \n",
            "Parameters: { \"use_label_encoder\" } are not used.\n",
            "\n",
            "  warnings.warn(smsg, UserWarning)\n",
            "/usr/local/lib/python3.11/dist-packages/xgboost/core.py:158: UserWarning: [01:15:40] WARNING: /workspace/src/learner.cc:740: \n",
            "Parameters: { \"use_label_encoder\" } are not used.\n",
            "\n",
            "  warnings.warn(smsg, UserWarning)\n",
            "/usr/local/lib/python3.11/dist-packages/xgboost/core.py:158: UserWarning: [01:15:44] WARNING: /workspace/src/learner.cc:740: \n",
            "Parameters: { \"use_label_encoder\" } are not used.\n",
            "\n",
            "  warnings.warn(smsg, UserWarning)\n",
            "/usr/local/lib/python3.11/dist-packages/xgboost/core.py:158: UserWarning: [01:15:49] WARNING: /workspace/src/learner.cc:740: \n",
            "Parameters: { \"use_label_encoder\" } are not used.\n",
            "\n",
            "  warnings.warn(smsg, UserWarning)\n",
            "/usr/local/lib/python3.11/dist-packages/xgboost/core.py:158: UserWarning: [01:15:52] WARNING: /workspace/src/learner.cc:740: \n",
            "Parameters: { \"use_label_encoder\" } are not used.\n",
            "\n",
            "  warnings.warn(smsg, UserWarning)\n",
            "/usr/local/lib/python3.11/dist-packages/xgboost/core.py:158: UserWarning: [01:15:55] WARNING: /workspace/src/learner.cc:740: \n",
            "Parameters: { \"use_label_encoder\" } are not used.\n",
            "\n",
            "  warnings.warn(smsg, UserWarning)\n",
            "/usr/local/lib/python3.11/dist-packages/xgboost/core.py:158: UserWarning: [01:16:01] WARNING: /workspace/src/learner.cc:740: \n",
            "Parameters: { \"use_label_encoder\" } are not used.\n",
            "\n",
            "  warnings.warn(smsg, UserWarning)\n",
            "/usr/local/lib/python3.11/dist-packages/xgboost/core.py:158: UserWarning: [01:16:05] WARNING: /workspace/src/learner.cc:740: \n",
            "Parameters: { \"use_label_encoder\" } are not used.\n",
            "\n",
            "  warnings.warn(smsg, UserWarning)\n",
            "/usr/local/lib/python3.11/dist-packages/xgboost/core.py:158: UserWarning: [01:16:08] WARNING: /workspace/src/learner.cc:740: \n",
            "Parameters: { \"use_label_encoder\" } are not used.\n",
            "\n",
            "  warnings.warn(smsg, UserWarning)\n",
            "/usr/local/lib/python3.11/dist-packages/xgboost/core.py:158: UserWarning: [01:16:15] WARNING: /workspace/src/learner.cc:740: \n",
            "Parameters: { \"use_label_encoder\" } are not used.\n",
            "\n",
            "  warnings.warn(smsg, UserWarning)\n",
            "/usr/local/lib/python3.11/dist-packages/xgboost/core.py:158: UserWarning: [01:16:19] WARNING: /workspace/src/learner.cc:740: \n",
            "Parameters: { \"use_label_encoder\" } are not used.\n",
            "\n",
            "  warnings.warn(smsg, UserWarning)\n",
            "/usr/local/lib/python3.11/dist-packages/xgboost/core.py:158: UserWarning: [01:16:23] WARNING: /workspace/src/learner.cc:740: \n",
            "Parameters: { \"use_label_encoder\" } are not used.\n",
            "\n",
            "  warnings.warn(smsg, UserWarning)\n",
            "/usr/local/lib/python3.11/dist-packages/xgboost/core.py:158: UserWarning: [01:16:30] WARNING: /workspace/src/learner.cc:740: \n",
            "Parameters: { \"use_label_encoder\" } are not used.\n",
            "\n",
            "  warnings.warn(smsg, UserWarning)\n",
            "/usr/local/lib/python3.11/dist-packages/xgboost/core.py:158: UserWarning: [01:16:34] WARNING: /workspace/src/learner.cc:740: \n",
            "Parameters: { \"use_label_encoder\" } are not used.\n",
            "\n",
            "  warnings.warn(smsg, UserWarning)\n"
          ]
        },
        {
          "output_type": "display_data",
          "data": {
            "text/plain": [
              "<Figure size 640x480 with 1 Axes>"
            ],
            "image/png": "[encoded data removed]"
          },
          "metadata": {}
        }
      ]
    },
    {
      "cell_type": "code",
      "source": [
        "import matplotlib.pyplot as plt\n",
        "\n",
        "accuracy_before_smote = 0.71\n",
        "accuracy_after_smote = 0.62\n",
        "\n",
        "models = ['XGBoost\\n(Tanpa SMOTE)', 'XGBoost\\n(Dengan SMOTE)']\n",
        "accuracies = [accuracy_before_smote, accuracy_after_smote]\n",
        "\n",
        "plt.figure(figsize=(6, 5))\n",
        "bars = plt.bar(models, accuracies, color=['orange', 'green'])\n",
        "plt.ylim(0, 1)\n",
        "plt.ylabel('Akurasi')\n",
        "plt.title('Comparison Accuracy XGBoost without and with SMOTE')\n",
        "plt.grid(axis='y', linestyle='--', alpha=0.7)\n",
        "\n",
        "for bar in bars:\n",
        "    yval = bar.get_height()\n",
        "    plt.text(bar.get_x() + bar.get_width() / 2, yval + 0.02, f'{yval:.2f}', ha='center', fontsize=10)\n",
        "\n",
        "plt.tight_layout()\n",
        "plt.show()"
      ],
      "metadata": {
        "colab": {
          "base_uri": "https://localhost:8080/",
          "height": 506
        },
        "id": "xlrZTB9whord",
        "outputId": "af443952-a66c-4f73-909f-c1c30dff293c"
      },
      "execution_count": null,
      "outputs": [
        {
          "output_type": "display_data",
          "data": {
            "text/plain": [
              "<Figure size 600x500 with 1 Axes>"
            ],
            "image/png": "[encoded data removed]"
          },
          "metadata": {}
        }
      ]
    }
  ],
  "metadata": {
    "colab": {
      "provenance": []
    },
    "kernelspec": {
      "display_name": "Python 3",
      "name": "python3"
    },
    "language_info": {
      "name": "python"
    }
  },
  "nbformat": 4,
  "nbformat_minor": 0
}